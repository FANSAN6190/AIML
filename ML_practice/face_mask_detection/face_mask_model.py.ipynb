{
 "cells": [
  {
   "cell_type": "code",
   "execution_count": 1,
   "id": "d8138526",
   "metadata": {},
   "outputs": [
    {
     "name": "stderr",
     "output_type": "stream",
     "text": [
      "2023-05-17 21:41:49.118334: I tensorflow/tsl/cuda/cudart_stub.cc:28] Could not find cuda drivers on your machine, GPU will not be used.\n",
      "2023-05-17 21:41:49.212008: I tensorflow/tsl/cuda/cudart_stub.cc:28] Could not find cuda drivers on your machine, GPU will not be used.\n",
      "2023-05-17 21:41:49.213137: I tensorflow/core/platform/cpu_feature_guard.cc:182] This TensorFlow binary is optimized to use available CPU instructions in performance-critical operations.\n",
      "To enable the following instructions: AVX2 FMA, in other operations, rebuild TensorFlow with the appropriate compiler flags.\n",
      "2023-05-17 21:41:50.782639: W tensorflow/compiler/tf2tensorrt/utils/py_utils.cc:38] TF-TRT Warning: Could not find TensorRT\n"
     ]
    }
   ],
   "source": [
    "#importing modules and layers\n",
    "from tensorflow.keras.models import Sequential\n",
    "from tensorflow.keras.layers import Conv2D,MaxPooling2D,Dropout,Flatten,Dense \n",
    "from tensorflow.keras.optimizers import Adam\n",
    "from tensorflow.keras.preprocessing.image import ImageDataGenerator\n",
    "import numpy as np\n",
    "import matplotlib.pyplot as plt\n",
    "import os"
   ]
  },
  {
   "cell_type": "code",
   "execution_count": 2,
   "id": "7e1b5660",
   "metadata": {},
   "outputs": [],
   "source": [
    "#dir_paths  \n",
    "main_dir='New Masks Dataset/'\n",
    "train_dir=os.path.join(main_dir,'Train')\n",
    "test_dir=os.path.join(main_dir,'Test')\n",
    "valid_dir=os.path.join(main_dir,'Validation')\n",
    "train_mask_dir=os.path.join(train_dir,'Mask')\n",
    "train_nomask_dir=os.path.join(train_dir,'Non Mask')"
   ]
  },
  {
   "cell_type": "code",
   "execution_count": 3,
   "id": "5a1e0338",
   "metadata": {},
   "outputs": [
    {
     "name": "stdout",
     "output_type": "stream",
     "text": [
      "Mask:\n",
      " ['0190.jpg', '1103.png', '0505.jpg', '1346.jpg', '0211.jpg']\n",
      "Non-Mask:\n",
      " ['261.jpg', '93.jpg', '280.jpg', '322.jpg', '226.jpg']\n"
     ]
    }
   ],
   "source": [
    "train_mask_names=os.listdir(train_mask_dir)\n",
    "print(\"Mask:\\n\",train_mask_names[:5])\n",
    "\n",
    "train_nomask_names=os.listdir(train_nomask_dir)\n",
    "print(\"Non-Mask:\\n\",train_nomask_names[:5])\n"
   ]
  },
  {
   "cell_type": "code",
   "execution_count": 4,
   "id": "6fcc58ac",
   "metadata": {},
   "outputs": [
    {
     "name": "stdout",
     "output_type": "stream",
     "text": [
      "Found 600 images belonging to 2 classes.\n",
      "Found 100 images belonging to 2 classes.\n",
      "Found 306 images belonging to 2 classes.\n"
     ]
    }
   ],
   "source": [
    "#normalization\n",
    "train_datagen=ImageDataGenerator(\n",
    "    rescale=1./255,\n",
    "    rotation_range=0.2,\n",
    "        horizontal_flip=True\n",
    ")\n",
    "\n",
    "test_datagen=ImageDataGenerator(rescale=1./255)\n",
    "validation_datagen=ImageDataGenerator(rescale=1./255)\n",
    "\n",
    "train_generator=train_datagen.flow_from_directory(\n",
    "    train_dir,\n",
    "    target_size=(244,244),\n",
    "    batch_size=32,\n",
    "    class_mode='binary'\n",
    ")\n",
    "test_generator=test_datagen.flow_from_directory(\n",
    "    test_dir,\n",
    "    target_size=(244,244),\n",
    "    batch_size=32,\n",
    "    class_mode='binary'\n",
    ")\n",
    "valid_generator=train_datagen.flow_from_directory(\n",
    "    valid_dir,\n",
    "    target_size=(244,244),\n",
    "    batch_size=32,\n",
    "    class_mode='binary'\n",
    ")"
   ]
  },
  {
   "cell_type": "code",
   "execution_count": 5,
   "id": "e86577ce",
   "metadata": {},
   "outputs": [
    {
     "data": {
      "text/plain": [
       "{'Mask': 0, 'Non Mask': 1}"
      ]
     },
     "execution_count": 5,
     "metadata": {},
     "output_type": "execute_result"
    }
   ],
   "source": [
    "train_generator.class_indices"
   ]
  },
  {
   "cell_type": "code",
   "execution_count": 6,
   "id": "05e12d1b",
   "metadata": {},
   "outputs": [
    {
     "name": "stdout",
     "output_type": "stream",
     "text": [
      "Model: \"sequential\"\n",
      "_________________________________________________________________\n",
      " Layer (type)                Output Shape              Param #   \n",
      "=================================================================\n",
      " conv2d (Conv2D)             (None, 244, 244, 32)      896       \n",
      "                                                                 \n",
      " max_pooling2d (MaxPooling2D  (None, 122, 122, 32)     0         \n",
      " )                                                               \n",
      "                                                                 \n",
      " dropout (Dropout)           (None, 122, 122, 32)      0         \n",
      "                                                                 \n",
      " conv2d_1 (Conv2D)           (None, 122, 122, 64)      18496     \n",
      "                                                                 \n",
      " max_pooling2d_1 (MaxPooling  (None, 61, 61, 64)       0         \n",
      " 2D)                                                             \n",
      "                                                                 \n",
      " dropout_1 (Dropout)         (None, 61, 61, 64)        0         \n",
      "                                                                 \n",
      " flatten (Flatten)           (None, 238144)            0         \n",
      "                                                                 \n",
      " dense (Dense)               (None, 256)               60965120  \n",
      "                                                                 \n",
      " dropout_2 (Dropout)         (None, 256)               0         \n",
      "                                                                 \n",
      " dense_1 (Dense)             (None, 1)                 257       \n",
      "                                                                 \n",
      "=================================================================\n",
      "Total params: 60,984,769\n",
      "Trainable params: 60,984,769\n",
      "Non-trainable params: 0\n",
      "_________________________________________________________________\n"
     ]
    }
   ],
   "source": [
    "model=Sequential()\n",
    "model.add(Conv2D(32,(3,3),padding='SAME',activation='relu',input_shape=(244,244,3)))\n",
    "model.add(MaxPooling2D(pool_size=(2,2)))\n",
    "model.add(Dropout(0.5))\n",
    "\n",
    "model.add(Conv2D(64,(3,3),padding='SAME',activation='relu'))\n",
    "model.add(MaxPooling2D(pool_size=(2,2)))\n",
    "model.add(Dropout(0.5))\n",
    "\n",
    "model.add(Flatten())\n",
    "\n",
    "model.add(Dense(256,activation='relu'))\n",
    "model.add(Dropout(0.5))\n",
    "model.add(Dense(1,activation='sigmoid'))\n",
    "model.summary()\n",
    "\n",
    "\n"
   ]
  },
  {
   "cell_type": "code",
   "execution_count": 7,
   "id": "5e72a21f",
   "metadata": {},
   "outputs": [],
   "source": [
    "model.compile(Adam(learning_rate=0.001),loss='binary_crossentropy',metrics=['accuracy'])  \n"
   ]
  },
  {
   "cell_type": "code",
   "execution_count": 8,
   "id": "a97f858e",
   "metadata": {},
   "outputs": [
    {
     "name": "stdout",
     "output_type": "stream",
     "text": [
      "Epoch 1/17\n"
     ]
    },
    {
     "name": "stderr",
     "output_type": "stream",
     "text": [
      "2023-05-17 21:41:55.275622: I tensorflow/core/common_runtime/executor.cc:1197] [/device:CPU:0] (DEBUG INFO) Executor start aborting (this does not indicate an error and you can ignore this message): INVALID_ARGUMENT: You must feed a value for placeholder tensor 'Placeholder/_0' with dtype int32\n",
      "\t [[{{node Placeholder/_0}}]]\n"
     ]
    },
    {
     "name": "stdout",
     "output_type": "stream",
     "text": [
      "19/19 [==============================] - ETA: 0s - loss: 8.2471 - accuracy: 0.5500"
     ]
    },
    {
     "name": "stderr",
     "output_type": "stream",
     "text": [
      "2023-05-17 21:42:48.594823: I tensorflow/core/common_runtime/executor.cc:1197] [/device:CPU:0] (DEBUG INFO) Executor start aborting (this does not indicate an error and you can ignore this message): INVALID_ARGUMENT: You must feed a value for placeholder tensor 'Placeholder/_0' with dtype int32\n",
      "\t [[{{node Placeholder/_0}}]]\n"
     ]
    },
    {
     "name": "stdout",
     "output_type": "stream",
     "text": [
      "19/19 [==============================] - 69s 4s/step - loss: 8.2471 - accuracy: 0.5500 - val_loss: 0.6909 - val_accuracy: 0.5098\n",
      "Epoch 2/17\n",
      "19/19 [==============================] - 63s 3s/step - loss: 0.6628 - accuracy: 0.6217 - val_loss: 0.6911 - val_accuracy: 0.4902\n",
      "Epoch 3/17\n",
      "19/19 [==============================] - 63s 3s/step - loss: 0.5333 - accuracy: 0.7433 - val_loss: 0.6507 - val_accuracy: 0.7418\n",
      "Epoch 4/17\n",
      "19/19 [==============================] - 64s 3s/step - loss: 0.3883 - accuracy: 0.8517 - val_loss: 0.6116 - val_accuracy: 0.7059\n",
      "Epoch 5/17\n",
      "19/19 [==============================] - 68s 4s/step - loss: 0.3136 - accuracy: 0.8817 - val_loss: 0.5278 - val_accuracy: 0.7974\n",
      "Epoch 6/17\n",
      "19/19 [==============================] - 64s 3s/step - loss: 0.2609 - accuracy: 0.9100 - val_loss: 0.4680 - val_accuracy: 0.8007\n",
      "Epoch 7/17\n",
      "19/19 [==============================] - 63s 3s/step - loss: 0.2372 - accuracy: 0.9083 - val_loss: 0.4431 - val_accuracy: 0.8431\n",
      "Epoch 8/17\n",
      "19/19 [==============================] - 62s 3s/step - loss: 0.1856 - accuracy: 0.9267 - val_loss: 0.3407 - val_accuracy: 0.8595\n",
      "Epoch 9/17\n",
      "19/19 [==============================] - 62s 3s/step - loss: 0.2050 - accuracy: 0.9283 - val_loss: 0.3323 - val_accuracy: 0.8889\n",
      "Epoch 10/17\n",
      "19/19 [==============================] - 62s 3s/step - loss: 0.1881 - accuracy: 0.9333 - val_loss: 0.3762 - val_accuracy: 0.8758\n",
      "Epoch 11/17\n",
      "19/19 [==============================] - 63s 3s/step - loss: 0.1574 - accuracy: 0.9433 - val_loss: 0.3410 - val_accuracy: 0.8725\n",
      "Epoch 12/17\n",
      "19/19 [==============================] - 63s 3s/step - loss: 0.1475 - accuracy: 0.9450 - val_loss: 0.3477 - val_accuracy: 0.8627\n",
      "Epoch 13/17\n",
      "19/19 [==============================] - 64s 3s/step - loss: 0.1249 - accuracy: 0.9600 - val_loss: 0.2965 - val_accuracy: 0.9020\n",
      "Epoch 14/17\n",
      "19/19 [==============================] - 64s 3s/step - loss: 0.1277 - accuracy: 0.9567 - val_loss: 0.4103 - val_accuracy: 0.8235\n",
      "Epoch 15/17\n",
      "19/19 [==============================] - 63s 3s/step - loss: 0.1103 - accuracy: 0.9600 - val_loss: 0.3321 - val_accuracy: 0.8856\n",
      "Epoch 16/17\n",
      "19/19 [==============================] - 63s 3s/step - loss: 0.1099 - accuracy: 0.9567 - val_loss: 0.3052 - val_accuracy: 0.8987\n",
      "Epoch 17/17\n",
      "19/19 [==============================] - 65s 3s/step - loss: 0.1044 - accuracy: 0.9633 - val_loss: 0.2909 - val_accuracy: 0.8987\n"
     ]
    }
   ],
   "source": [
    "history=model.fit(train_generator,\n",
    "                  epochs=17,\n",
    "                  validation_data=valid_generator\n",
    ")\n"
   ]
  },
  {
   "cell_type": "code",
   "execution_count": 9,
   "id": "b1eb492f",
   "metadata": {},
   "outputs": [
    {
     "name": "stderr",
     "output_type": "stream",
     "text": [
      "2023-05-17 22:00:00.828773: I tensorflow/core/common_runtime/executor.cc:1197] [/device:CPU:0] (DEBUG INFO) Executor start aborting (this does not indicate an error and you can ignore this message): INVALID_ARGUMENT: You must feed a value for placeholder tensor 'Placeholder/_0' with dtype int32\n",
      "\t [[{{node Placeholder/_0}}]]\n"
     ]
    },
    {
     "name": "stdout",
     "output_type": "stream",
     "text": [
      "4/4 [==============================] - 3s 621ms/step - loss: 0.2223 - accuracy: 0.9100\n",
      "test acc : 0.9100000262260437 test loss : 0.22232019901275635\n"
     ]
    }
   ],
   "source": [
    "test_loss,test_acc=model.evaluate(test_generator)\n",
    "print('test acc : {} test loss : {}'.format(test_acc,test_loss))\n"
   ]
  },
  {
   "cell_type": "code",
   "execution_count": 10,
   "id": "f4071166",
   "metadata": {},
   "outputs": [],
   "source": [
    "model.save('fmd_datamodel30_244.h5')"
   ]
  },
  {
   "cell_type": "code",
   "execution_count": 61,
   "id": "312705b7",
   "metadata": {},
   "outputs": [
    {
     "data": {
      "image/png": "[encoded data removed]",
      "text/plain": [
       "<Figure size 640x480 with 1 Axes>"
      ]
     },
     "metadata": {},
     "output_type": "display_data"
    }
   ],
   "source": [
    "plt.plot(history.epoch,history.history[\"accuracy\"])\n",
    "plt.plot(history.epoch,history.history[\"val_accuracy\"])\n",
    "plt.show()"
   ]
  },
  {
   "cell_type": "code",
   "execution_count": 75,
   "id": "91951a14",
   "metadata": {},
   "outputs": [
    {
     "data": {
      "image/png": "[encoded data removed]",
      "text/plain": [
       "<Figure size 640x480 with 1 Axes>"
      ]
     },
     "metadata": {},
     "output_type": "display_data"
    }
   ],
   "source": [
    "plt.bar(history.epoch,history.history[\"accuracy\"])\n",
    "plt.bar(history.epoch,history.history[\"val_accuracy\"])\n",
    "plt.show()"
   ]
  },
  {
   "cell_type": "code",
   "execution_count": 57,
   "id": "895061be",
   "metadata": {},
   "outputs": [
    {
     "data": {
      "image/png": "[encoded data removed]",
      "text/plain": [
       "<Figure size 640x480 with 1 Axes>"
      ]
     },
     "metadata": {},
     "output_type": "display_data"
    }
   ],
   "source": [
    "plt.plot(history.history[\"loss\"])\n",
    "plt.plot(history.history[\"val_loss\"])\n",
    "plt.show()\n",
    "plt."
   ]
  },
  {
   "cell_type": "code",
   "execution_count": 45,
   "id": "f563666a",
   "metadata": {},
   "outputs": [],
   "source": []
  },
  {
   "cell_type": "code",
   "execution_count": 74,
   "id": "d4101578",
   "metadata": {},
   "outputs": [
    {
     "data": {
      "text/plain": [
       "[0, 1, 2, 3, 4, 5, 6, 7, 8, 9, 10, 11, 12, 13, 14, 15, 16]"
      ]
     },
     "execution_count": 74,
     "metadata": {},
     "output_type": "execute_result"
    }
   ],
   "source": [
    "history.epoch"
   ]
  },
  {
   "cell_type": "code",
   "execution_count": null,
   "id": "59b34bb2",
   "metadata": {},
   "outputs": [],
   "source": []
  },
  {
   "cell_type": "code",
   "execution_count": null,
   "id": "78ad9390",
   "metadata": {},
   "outputs": [],
   "source": []
  }
 ],
 "metadata": {
  "kernelspec": {
   "display_name": "Python 3 (ipykernel)",
   "language": "python",
   "name": "python3"
  },
  "language_info": {
   "codemirror_mode": {
    "name": "ipython",
    "version": 3
   },
   "file_extension": ".py",
   "mimetype": "text/x-python",
   "name": "python",
   "nbconvert_exporter": "python",
   "pygments_lexer": "ipython3",
   "version": "3.10.9"
  }
 },
 "nbformat": 4,
 "nbformat_minor": 5
}
