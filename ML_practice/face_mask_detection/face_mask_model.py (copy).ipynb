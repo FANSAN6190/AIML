{
 "cells": [
  {
   "cell_type": "code",
   "execution_count": 1,
   "id": "d8138526",
   "metadata": {},
   "outputs": [
    {
     "name": "stderr",
     "output_type": "stream",
     "text": [
      "2023-05-18 12:06:53.616019: I tensorflow/tsl/cuda/cudart_stub.cc:28] Could not find cuda drivers on your machine, GPU will not be used.\n",
      "2023-05-18 12:06:53.653863: I tensorflow/tsl/cuda/cudart_stub.cc:28] Could not find cuda drivers on your machine, GPU will not be used.\n",
      "2023-05-18 12:06:53.654647: I tensorflow/core/platform/cpu_feature_guard.cc:182] This TensorFlow binary is optimized to use available CPU instructions in performance-critical operations.\n",
      "To enable the following instructions: AVX2 FMA, in other operations, rebuild TensorFlow with the appropriate compiler flags.\n",
      "2023-05-18 12:06:54.408488: W tensorflow/compiler/tf2tensorrt/utils/py_utils.cc:38] TF-TRT Warning: Could not find TensorRT\n"
     ]
    }
   ],
   "source": [
    "#importing modules and layers\n",
    "from tensorflow.keras.models import Sequential\n",
    "from tensorflow.keras.layers import Conv2D,MaxPooling2D,Dropout,Flatten,Dense \n",
    "from tensorflow.keras.optimizers import Adam\n",
    "from tensorflow.keras.preprocessing.image import ImageDataGenerator\n",
    "import numpy as np\n",
    "import matplotlib.pyplot as plt\n",
    "import os"
   ]
  },
  {
   "cell_type": "code",
   "execution_count": 2,
   "id": "7e1b5660",
   "metadata": {},
   "outputs": [],
   "source": [
    "#dir_paths  \n",
    "main_dir='New Masks Dataset/'\n",
    "train_dir=os.path.join(main_dir,'Train')\n",
    "test_dir=os.path.join(main_dir,'Test')\n",
    "valid_dir=os.path.join(main_dir,'Validation')\n",
    "train_mask_dir=os.path.join(train_dir,'Mask')\n",
    "train_nomask_dir=os.path.join(train_dir,'Non Mask')"
   ]
  },
  {
   "cell_type": "code",
   "execution_count": 3,
   "id": "5a1e0338",
   "metadata": {},
   "outputs": [
    {
     "name": "stdout",
     "output_type": "stream",
     "text": [
      "Mask:\n",
      " ['0190.jpg', '1103.png', '0505.jpg', '1346.jpg', '0211.jpg']\n",
      "Non-Mask:\n",
      " ['261.jpg', '93.jpg', '280.jpg', '322.jpg', '226.jpg']\n"
     ]
    }
   ],
   "source": [
    "train_mask_names=os.listdir(train_mask_dir)\n",
    "print(\"Mask:\\n\",train_mask_names[:5])\n",
    "\n",
    "train_nomask_names=os.listdir(train_nomask_dir)\n",
    "print(\"Non-Mask:\\n\",train_nomask_names[:5])\n"
   ]
  },
  {
   "cell_type": "code",
   "execution_count": 4,
   "id": "6fcc58ac",
   "metadata": {},
   "outputs": [
    {
     "name": "stdout",
     "output_type": "stream",
     "text": [
      "Found 626 images belonging to 2 classes.\n",
      "Found 108 images belonging to 2 classes.\n",
      "Found 317 images belonging to 2 classes.\n"
     ]
    }
   ],
   "source": [
    "#normalization\n",
    "train_datagen=ImageDataGenerator(\n",
    "    rescale=1./255,\n",
    "    rotation_range=0.2,\n",
    "        horizontal_flip=True\n",
    ")\n",
    "\n",
    "test_datagen=ImageDataGenerator(rescale=1./255)\n",
    "validation_datagen=ImageDataGenerator(rescale=1./255)\n",
    "\n",
    "train_generator=train_datagen.flow_from_directory(\n",
    "    train_dir,\n",
    "    target_size=(150,150),\n",
    "    batch_size=32,\n",
    "    class_mode='binary'\n",
    ")\n",
    "test_generator=test_datagen.flow_from_directory(\n",
    "    test_dir,\n",
    "    target_size=(150,150),\n",
    "    batch_size=32,\n",
    "    class_mode='binary'\n",
    ")\n",
    "valid_generator=train_datagen.flow_from_directory(\n",
    "    valid_dir,\n",
    "    target_size=(150,150),\n",
    "    batch_size=32,\n",
    "    class_mode='binary'\n",
    ")"
   ]
  },
  {
   "cell_type": "code",
   "execution_count": 5,
   "id": "e86577ce",
   "metadata": {},
   "outputs": [
    {
     "data": {
      "text/plain": [
       "{'Mask': 0, 'Non Mask': 1}"
      ]
     },
     "execution_count": 5,
     "metadata": {},
     "output_type": "execute_result"
    }
   ],
   "source": [
    "train_generator.class_indices"
   ]
  },
  {
   "cell_type": "code",
   "execution_count": 6,
   "id": "05e12d1b",
   "metadata": {},
   "outputs": [
    {
     "name": "stdout",
     "output_type": "stream",
     "text": [
      "Model: \"sequential\"\n",
      "_________________________________________________________________\n",
      " Layer (type)                Output Shape              Param #   \n",
      "=================================================================\n",
      " conv2d (Conv2D)             (None, 150, 150, 32)      896       \n",
      "                                                                 \n",
      " max_pooling2d (MaxPooling2D  (None, 75, 75, 32)       0         \n",
      " )                                                               \n",
      "                                                                 \n",
      " dropout (Dropout)           (None, 75, 75, 32)        0         \n",
      "                                                                 \n",
      " conv2d_1 (Conv2D)           (None, 75, 75, 64)        18496     \n",
      "                                                                 \n",
      " max_pooling2d_1 (MaxPooling  (None, 37, 37, 64)       0         \n",
      " 2D)                                                             \n",
      "                                                                 \n",
      " dropout_1 (Dropout)         (None, 37, 37, 64)        0         \n",
      "                                                                 \n",
      " flatten (Flatten)           (None, 87616)             0         \n",
      "                                                                 \n",
      " dense (Dense)               (None, 256)               22429952  \n",
      "                                                                 \n",
      " dropout_2 (Dropout)         (None, 256)               0         \n",
      "                                                                 \n",
      " dense_1 (Dense)             (None, 1)                 257       \n",
      "                                                                 \n",
      "=================================================================\n",
      "Total params: 22,449,601\n",
      "Trainable params: 22,449,601\n",
      "Non-trainable params: 0\n",
      "_________________________________________________________________\n"
     ]
    }
   ],
   "source": [
    "model=Sequential()\n",
    "model.add(Conv2D(32,(3,3),padding='SAME',activation='relu',input_shape=(150,150,3)))\n",
    "model.add(MaxPooling2D(pool_size=(2,2)))\n",
    "model.add(Dropout(0.5))\n",
    "\n",
    "model.add(Conv2D(64,(3,3),padding='SAME',activation='relu'))\n",
    "model.add(MaxPooling2D(pool_size=(2,2)))\n",
    "model.add(Dropout(0.5))\n",
    "\n",
    "model.add(Flatten())\n",
    "\n",
    "model.add(Dense(256,activation='relu'))\n",
    "model.add(Dropout(0.5))\n",
    "model.add(Dense(1,activation='sigmoid'))\n",
    "model.summary()\n",
    "\n",
    "\n"
   ]
  },
  {
   "cell_type": "code",
   "execution_count": 7,
   "id": "5e72a21f",
   "metadata": {},
   "outputs": [],
   "source": [
    "model.compile(Adam(learning_rate=0.001),loss='binary_crossentropy',metrics=['accuracy'])  \n"
   ]
  },
  {
   "cell_type": "code",
   "execution_count": 8,
   "id": "a97f858e",
   "metadata": {},
   "outputs": [
    {
     "name": "stdout",
     "output_type": "stream",
     "text": [
      "Epoch 1/12\n"
     ]
    },
    {
     "name": "stderr",
     "output_type": "stream",
     "text": [
      "2023-05-18 12:06:56.452140: I tensorflow/core/common_runtime/executor.cc:1197] [/device:CPU:0] (DEBUG INFO) Executor start aborting (this does not indicate an error and you can ignore this message): INVALID_ARGUMENT: You must feed a value for placeholder tensor 'Placeholder/_0' with dtype int32\n",
      "\t [[{{node Placeholder/_0}}]]\n"
     ]
    },
    {
     "name": "stdout",
     "output_type": "stream",
     "text": [
      "20/20 [==============================] - ETA: 0s - loss: 2.4578 - accuracy: 0.5288"
     ]
    },
    {
     "name": "stderr",
     "output_type": "stream",
     "text": [
      "2023-05-18 12:07:14.346444: I tensorflow/core/common_runtime/executor.cc:1197] [/device:CPU:0] (DEBUG INFO) Executor start aborting (this does not indicate an error and you can ignore this message): INVALID_ARGUMENT: You must feed a value for placeholder tensor 'Placeholder/_0' with dtype int32\n",
      "\t [[{{node Placeholder/_0}}]]\n"
     ]
    },
    {
     "name": "stdout",
     "output_type": "stream",
     "text": [
      "20/20 [==============================] - 24s 1s/step - loss: 2.4578 - accuracy: 0.5288 - val_loss: 0.6929 - val_accuracy: 0.5331\n",
      "Epoch 2/12\n",
      "20/20 [==============================] - 24s 1s/step - loss: 0.6172 - accuracy: 0.6629 - val_loss: 0.5810 - val_accuracy: 0.8486\n",
      "Epoch 3/12\n",
      "20/20 [==============================] - 24s 1s/step - loss: 0.3899 - accuracy: 0.8482 - val_loss: 0.4417 - val_accuracy: 0.8644\n",
      "Epoch 4/12\n",
      "20/20 [==============================] - 24s 1s/step - loss: 0.2664 - accuracy: 0.9089 - val_loss: 0.3402 - val_accuracy: 0.9022\n",
      "Epoch 5/12\n",
      "20/20 [==============================] - 27s 1s/step - loss: 0.2699 - accuracy: 0.8866 - val_loss: 0.3419 - val_accuracy: 0.8991\n",
      "Epoch 6/12\n",
      "20/20 [==============================] - 29s 1s/step - loss: 0.2422 - accuracy: 0.9265 - val_loss: 0.3169 - val_accuracy: 0.8864\n",
      "Epoch 7/12\n",
      "20/20 [==============================] - 29s 1s/step - loss: 0.1938 - accuracy: 0.9281 - val_loss: 0.2916 - val_accuracy: 0.8833\n",
      "Epoch 8/12\n",
      "20/20 [==============================] - 23s 1s/step - loss: 0.1709 - accuracy: 0.9441 - val_loss: 0.2581 - val_accuracy: 0.8991\n",
      "Epoch 9/12\n",
      "20/20 [==============================] - 23s 1s/step - loss: 0.1721 - accuracy: 0.9361 - val_loss: 0.2435 - val_accuracy: 0.9022\n",
      "Epoch 10/12\n",
      "20/20 [==============================] - 23s 1s/step - loss: 0.1970 - accuracy: 0.9313 - val_loss: 0.3141 - val_accuracy: 0.8801\n",
      "Epoch 11/12\n",
      "20/20 [==============================] - 24s 1s/step - loss: 0.1682 - accuracy: 0.9425 - val_loss: 0.2803 - val_accuracy: 0.8896\n",
      "Epoch 12/12\n",
      "20/20 [==============================] - 24s 1s/step - loss: 0.1602 - accuracy: 0.9457 - val_loss: 0.3123 - val_accuracy: 0.8864\n"
     ]
    }
   ],
   "source": [
    "history=model.fit(train_generator,\n",
    "                  epochs=12,\n",
    "                  validation_data=valid_generator\n",
    ")\n"
   ]
  },
  {
   "cell_type": "code",
   "execution_count": 9,
   "id": "b1eb492f",
   "metadata": {},
   "outputs": [
    {
     "name": "stderr",
     "output_type": "stream",
     "text": [
      "2023-05-18 12:11:55.259202: I tensorflow/core/common_runtime/executor.cc:1197] [/device:CPU:0] (DEBUG INFO) Executor start aborting (this does not indicate an error and you can ignore this message): INVALID_ARGUMENT: You must feed a value for placeholder tensor 'Placeholder/_0' with dtype int32\n",
      "\t [[{{node Placeholder/_0}}]]\n"
     ]
    },
    {
     "name": "stdout",
     "output_type": "stream",
     "text": [
      "4/4 [==============================] - 1s 274ms/step - loss: 0.2620 - accuracy: 0.8611\n",
      "test acc : 0.8611111044883728 test loss : 0.2620367407798767\n"
     ]
    }
   ],
   "source": [
    "test_loss,test_acc=model.evaluate(test_generator)\n",
    "print('test acc : {} test loss : {}'.format(test_acc,test_loss))\n"
   ]
  },
  {
   "cell_type": "code",
   "execution_count": 10,
   "id": "f4071166",
   "metadata": {},
   "outputs": [],
   "source": [
    "model.save('fmd_datamodel30_150_ib.h5')"
   ]
  },
  {
   "cell_type": "code",
   "execution_count": 11,
   "id": "312705b7",
   "metadata": {},
   "outputs": [
    {
     "data": {
      "image/png": "[encoded data removed]",
      "text/plain": [
       "<Figure size 640x480 with 1 Axes>"
      ]
     },
     "metadata": {},
     "output_type": "display_data"
    }
   ],
   "source": [
    "plt.plot(history.epoch,history.history[\"accuracy\"])\n",
    "plt.plot(history.epoch,history.history[\"val_accuracy\"])\n",
    "plt.show()"
   ]
  },
  {
   "cell_type": "code",
   "execution_count": 12,
   "id": "91951a14",
   "metadata": {},
   "outputs": [
    {
     "data": {
      "image/png": "[encoded data removed]",
      "text/plain": [
       "<Figure size 640x480 with 1 Axes>"
      ]
     },
     "metadata": {},
     "output_type": "display_data"
    }
   ],
   "source": [
    "plt.bar(history.epoch,history.history[\"accuracy\"])\n",
    "plt.bar(history.epoch,history.history[\"val_accuracy\"])\n",
    "plt.show()"
   ]
  },
  {
   "cell_type": "code",
   "execution_count": 14,
   "id": "895061be",
   "metadata": {},
   "outputs": [
    {
     "data": {
      "image/png": "[encoded data removed]",
      "text/plain": [
       "<Figure size 640x480 with 1 Axes>"
      ]
     },
     "metadata": {},
     "output_type": "display_data"
    }
   ],
   "source": [
    "plt.plot(history.history[\"loss\"])\n",
    "plt.plot(history.history[\"val_loss\"])\n",
    "plt.show()\n"
   ]
  },
  {
   "cell_type": "code",
   "execution_count": null,
   "id": "f563666a",
   "metadata": {},
   "outputs": [],
   "source": []
  },
  {
   "cell_type": "code",
   "execution_count": null,
   "id": "d4101578",
   "metadata": {},
   "outputs": [],
   "source": [
    "history.epoch"
   ]
  },
  {
   "cell_type": "code",
   "execution_count": null,
   "id": "59b34bb2",
   "metadata": {},
   "outputs": [],
   "source": []
  },
  {
   "cell_type": "code",
   "execution_count": null,
   "id": "78ad9390",
   "metadata": {},
   "outputs": [],
   "source": []
  }
 ],
 "metadata": {
  "kernelspec": {
   "display_name": "Python 3 (ipykernel)",
   "language": "python",
   "name": "python3"
  },
  "language_info": {
   "codemirror_mode": {
    "name": "ipython",
    "version": 3
   },
   "file_extension": ".py",
   "mimetype": "text/x-python",
   "name": "python",
   "nbconvert_exporter": "python",
   "pygments_lexer": "ipython3",
   "version": "3.10.9"
  }
 },
 "nbformat": 4,
 "nbformat_minor": 5
}
