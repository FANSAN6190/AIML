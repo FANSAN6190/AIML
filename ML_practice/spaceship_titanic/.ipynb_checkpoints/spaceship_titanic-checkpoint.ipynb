{
 "cells": [
  {
   "cell_type": "markdown",
   "id": "d78d9985",
   "metadata": {},
   "source": [
    "#  Spaceship Titanic\n",
    "#### In this competition your task is to predict whether a passenger was transported to an alternate dimension during the Spaceship Titanic's collision with the spacetime anomaly. To help you make these predictions, you're given a set of personal records recovered from the ship's damaged computer system."
   ]
  },
  {
   "cell_type": "code",
   "execution_count": 1,
   "id": "8204c2ee",
   "metadata": {},
   "outputs": [],
   "source": [
    "import polars as pl\n",
    "import numpy as np"
   ]
  },
  {
   "cell_type": "code",
   "execution_count": 2,
   "id": "03428723",
   "metadata": {},
   "outputs": [
    {
     "data": {
      "text/html": [
       "<div><style>\n",
       ".dataframe > thead > tr > th,\n",
       ".dataframe > tbody > tr > td {\n",
       "  text-align: right;\n",
       "}\n",
       "</style>\n",
       "<small>shape: (9, 15)</small><table border=\"1\" class=\"dataframe\"><thead><tr><th>describe</th><th>PassengerId</th><th>HomePlanet</th><th>CryoSleep</th><th>Cabin</th><th>Destination</th><th>Age</th><th>VIP</th><th>RoomService</th><th>FoodCourt</th><th>ShoppingMall</th><th>Spa</th><th>VRDeck</th><th>Name</th><th>Transported</th></tr><tr><td>str</td><td>str</td><td>str</td><td>f64</td><td>str</td><td>str</td><td>f64</td><td>f64</td><td>f64</td><td>f64</td><td>f64</td><td>f64</td><td>f64</td><td>str</td><td>f64</td></tr></thead><tbody><tr><td>&quot;count&quot;</td><td>&quot;8693&quot;</td><td>&quot;8693&quot;</td><td>8693.0</td><td>&quot;8693&quot;</td><td>&quot;8693&quot;</td><td>8693.0</td><td>8693.0</td><td>8693.0</td><td>8693.0</td><td>8693.0</td><td>8693.0</td><td>8693.0</td><td>&quot;8693&quot;</td><td>8693.0</td></tr><tr><td>&quot;null_count&quot;</td><td>&quot;0&quot;</td><td>&quot;201&quot;</td><td>217.0</td><td>&quot;199&quot;</td><td>&quot;182&quot;</td><td>179.0</td><td>203.0</td><td>181.0</td><td>183.0</td><td>208.0</td><td>183.0</td><td>188.0</td><td>&quot;200&quot;</td><td>0.0</td></tr><tr><td>&quot;mean&quot;</td><td>null</td><td>null</td><td>0.358306</td><td>null</td><td>null</td><td>28.82793</td><td>0.023439</td><td>224.687617</td><td>458.077203</td><td>173.729169</td><td>311.138778</td><td>304.854791</td><td>null</td><td>0.503624</td></tr><tr><td>&quot;std&quot;</td><td>null</td><td>null</td><td>0.47953</td><td>null</td><td>null</td><td>14.489021</td><td>0.151303</td><td>666.717663</td><td>1611.48924</td><td>604.696458</td><td>1136.705535</td><td>1145.717189</td><td>null</td><td>0.500016</td></tr><tr><td>&quot;min&quot;</td><td>&quot;0001_01&quot;</td><td>&quot;Earth&quot;</td><td>0.0</td><td>&quot;A/0/P&quot;</td><td>&quot;55 Cancri e&quot;</td><td>0.0</td><td>0.0</td><td>0.0</td><td>0.0</td><td>0.0</td><td>0.0</td><td>0.0</td><td>&quot;Aard Curle&quot;</td><td>0.0</td></tr><tr><td>&quot;max&quot;</td><td>&quot;9280_02&quot;</td><td>&quot;Mars&quot;</td><td>1.0</td><td>&quot;T/3/P&quot;</td><td>&quot;TRAPPIST-1e&quot;</td><td>79.0</td><td>1.0</td><td>14327.0</td><td>29813.0</td><td>23492.0</td><td>22408.0</td><td>24133.0</td><td>&quot;Zubeneb Pashar…</td><td>1.0</td></tr><tr><td>&quot;median&quot;</td><td>null</td><td>null</td><td>0.0</td><td>null</td><td>null</td><td>27.0</td><td>0.0</td><td>0.0</td><td>0.0</td><td>0.0</td><td>0.0</td><td>0.0</td><td>null</td><td>1.0</td></tr><tr><td>&quot;25%&quot;</td><td>null</td><td>null</td><td>null</td><td>null</td><td>null</td><td>19.0</td><td>null</td><td>0.0</td><td>0.0</td><td>0.0</td><td>0.0</td><td>0.0</td><td>null</td><td>null</td></tr><tr><td>&quot;75%&quot;</td><td>null</td><td>null</td><td>null</td><td>null</td><td>null</td><td>38.0</td><td>null</td><td>47.0</td><td>76.0</td><td>27.0</td><td>59.0</td><td>46.0</td><td>null</td><td>null</td></tr></tbody></table></div>"
      ],
      "text/plain": [
       "shape: (9, 15)\n",
       "┌───────────┬───────────┬───────────┬───────────┬───┬───────────┬───────────┬───────────┬──────────┐\n",
       "│ describe  ┆ Passenger ┆ HomePlane ┆ CryoSleep ┆ … ┆ Spa       ┆ VRDeck    ┆ Name      ┆ Transpor │\n",
       "│ ---       ┆ Id        ┆ t         ┆ ---       ┆   ┆ ---       ┆ ---       ┆ ---       ┆ ted      │\n",
       "│ str       ┆ ---       ┆ ---       ┆ f64       ┆   ┆ f64       ┆ f64       ┆ str       ┆ ---      │\n",
       "│           ┆ str       ┆ str       ┆           ┆   ┆           ┆           ┆           ┆ f64      │\n",
       "╞═══════════╪═══════════╪═══════════╪═══════════╪═══╪═══════════╪═══════════╪═══════════╪══════════╡\n",
       "│ count     ┆ 8693      ┆ 8693      ┆ 8693.0    ┆ … ┆ 8693.0    ┆ 8693.0    ┆ 8693      ┆ 8693.0   │\n",
       "│ null_coun ┆ 0         ┆ 201       ┆ 217.0     ┆ … ┆ 183.0     ┆ 188.0     ┆ 200       ┆ 0.0      │\n",
       "│ t         ┆           ┆           ┆           ┆   ┆           ┆           ┆           ┆          │\n",
       "│ mean      ┆ null      ┆ null      ┆ 0.358306  ┆ … ┆ 311.13877 ┆ 304.85479 ┆ null      ┆ 0.503624 │\n",
       "│           ┆           ┆           ┆           ┆   ┆ 8         ┆ 1         ┆           ┆          │\n",
       "│ std       ┆ null      ┆ null      ┆ 0.47953   ┆ … ┆ 1136.7055 ┆ 1145.7171 ┆ null      ┆ 0.500016 │\n",
       "│           ┆           ┆           ┆           ┆   ┆ 35        ┆ 89        ┆           ┆          │\n",
       "│ min       ┆ 0001_01   ┆ Earth     ┆ 0.0       ┆ … ┆ 0.0       ┆ 0.0       ┆ Aard      ┆ 0.0      │\n",
       "│           ┆           ┆           ┆           ┆   ┆           ┆           ┆ Curle     ┆          │\n",
       "│ max       ┆ 9280_02   ┆ Mars      ┆ 1.0       ┆ … ┆ 22408.0   ┆ 24133.0   ┆ Zubeneb   ┆ 1.0      │\n",
       "│           ┆           ┆           ┆           ┆   ┆           ┆           ┆ Pasharne  ┆          │\n",
       "│ median    ┆ null      ┆ null      ┆ 0.0       ┆ … ┆ 0.0       ┆ 0.0       ┆ null      ┆ 1.0      │\n",
       "│ 25%       ┆ null      ┆ null      ┆ null      ┆ … ┆ 0.0       ┆ 0.0       ┆ null      ┆ null     │\n",
       "│ 75%       ┆ null      ┆ null      ┆ null      ┆ … ┆ 59.0      ┆ 46.0      ┆ null      ┆ null     │\n",
       "└───────────┴───────────┴───────────┴───────────┴───┴───────────┴───────────┴───────────┴──────────┘"
      ]
     },
     "execution_count": 2,
     "metadata": {},
     "output_type": "execute_result"
    }
   ],
   "source": [
    "#importing dataset\n",
    "train_data=pl.read_csv(\"dataset_vs/train.csv\")\n",
    "test_data=pl.read_csv(\"dataset_vs/test.csv\")\n",
    "train_data.describe()"
   ]
  },
  {
   "cell_type": "code",
   "execution_count": 3,
   "id": "3d9ee039",
   "metadata": {},
   "outputs": [
    {
     "data": {
      "text/html": [
       "<div><style>\n",
       ".dataframe > thead > tr > th,\n",
       ".dataframe > tbody > tr > td {\n",
       "  text-align: right;\n",
       "}\n",
       "</style>\n",
       "<small>shape: (5, 14)</small><table border=\"1\" class=\"dataframe\"><thead><tr><th>PassengerId</th><th>HomePlanet</th><th>CryoSleep</th><th>Cabin</th><th>Destination</th><th>Age</th><th>VIP</th><th>RoomService</th><th>FoodCourt</th><th>ShoppingMall</th><th>Spa</th><th>VRDeck</th><th>Name</th><th>Transported</th></tr><tr><td>str</td><td>str</td><td>bool</td><td>str</td><td>str</td><td>f64</td><td>bool</td><td>f64</td><td>f64</td><td>f64</td><td>f64</td><td>f64</td><td>str</td><td>bool</td></tr></thead><tbody><tr><td>&quot;0001_01&quot;</td><td>&quot;Europa&quot;</td><td>false</td><td>&quot;B/0/P&quot;</td><td>&quot;TRAPPIST-1e&quot;</td><td>39.0</td><td>false</td><td>0.0</td><td>0.0</td><td>0.0</td><td>0.0</td><td>0.0</td><td>&quot;Maham Ofraccul…</td><td>false</td></tr><tr><td>&quot;0002_01&quot;</td><td>&quot;Earth&quot;</td><td>false</td><td>&quot;F/0/S&quot;</td><td>&quot;TRAPPIST-1e&quot;</td><td>24.0</td><td>false</td><td>109.0</td><td>9.0</td><td>25.0</td><td>549.0</td><td>44.0</td><td>&quot;Juanna Vines&quot;</td><td>true</td></tr><tr><td>&quot;0003_01&quot;</td><td>&quot;Europa&quot;</td><td>false</td><td>&quot;A/0/S&quot;</td><td>&quot;TRAPPIST-1e&quot;</td><td>58.0</td><td>true</td><td>43.0</td><td>3576.0</td><td>0.0</td><td>6715.0</td><td>49.0</td><td>&quot;Altark Susent&quot;</td><td>false</td></tr><tr><td>&quot;0003_02&quot;</td><td>&quot;Europa&quot;</td><td>false</td><td>&quot;A/0/S&quot;</td><td>&quot;TRAPPIST-1e&quot;</td><td>33.0</td><td>false</td><td>0.0</td><td>1283.0</td><td>371.0</td><td>3329.0</td><td>193.0</td><td>&quot;Solam Susent&quot;</td><td>false</td></tr><tr><td>&quot;0004_01&quot;</td><td>&quot;Earth&quot;</td><td>false</td><td>&quot;F/1/S&quot;</td><td>&quot;TRAPPIST-1e&quot;</td><td>16.0</td><td>false</td><td>303.0</td><td>70.0</td><td>151.0</td><td>565.0</td><td>2.0</td><td>&quot;Willy Santanti…</td><td>true</td></tr></tbody></table></div>"
      ],
      "text/plain": [
       "shape: (5, 14)\n",
       "┌─────────────┬────────────┬───────────┬───────┬───┬────────┬────────┬───────────────┬─────────────┐\n",
       "│ PassengerId ┆ HomePlanet ┆ CryoSleep ┆ Cabin ┆ … ┆ Spa    ┆ VRDeck ┆ Name          ┆ Transported │\n",
       "│ ---         ┆ ---        ┆ ---       ┆ ---   ┆   ┆ ---    ┆ ---    ┆ ---           ┆ ---         │\n",
       "│ str         ┆ str        ┆ bool      ┆ str   ┆   ┆ f64    ┆ f64    ┆ str           ┆ bool        │\n",
       "╞═════════════╪════════════╪═══════════╪═══════╪═══╪════════╪════════╪═══════════════╪═════════════╡\n",
       "│ 0001_01     ┆ Europa     ┆ false     ┆ B/0/P ┆ … ┆ 0.0    ┆ 0.0    ┆ Maham         ┆ false       │\n",
       "│             ┆            ┆           ┆       ┆   ┆        ┆        ┆ Ofracculy     ┆             │\n",
       "│ 0002_01     ┆ Earth      ┆ false     ┆ F/0/S ┆ … ┆ 549.0  ┆ 44.0   ┆ Juanna Vines  ┆ true        │\n",
       "│ 0003_01     ┆ Europa     ┆ false     ┆ A/0/S ┆ … ┆ 6715.0 ┆ 49.0   ┆ Altark Susent ┆ false       │\n",
       "│ 0003_02     ┆ Europa     ┆ false     ┆ A/0/S ┆ … ┆ 3329.0 ┆ 193.0  ┆ Solam Susent  ┆ false       │\n",
       "│ 0004_01     ┆ Earth      ┆ false     ┆ F/1/S ┆ … ┆ 565.0  ┆ 2.0    ┆ Willy         ┆ true        │\n",
       "│             ┆            ┆           ┆       ┆   ┆        ┆        ┆ Santantines   ┆             │\n",
       "└─────────────┴────────────┴───────────┴───────┴───┴────────┴────────┴───────────────┴─────────────┘"
      ]
     },
     "execution_count": 3,
     "metadata": {},
     "output_type": "execute_result"
    }
   ],
   "source": [
    "train_data.head(5)"
   ]
  },
  {
   "cell_type": "code",
   "execution_count": 4,
   "id": "fe98762f",
   "metadata": {},
   "outputs": [
    {
     "data": {
      "text/html": [
       "<div><style>\n",
       ".dataframe > thead > tr > th,\n",
       ".dataframe > tbody > tr > td {\n",
       "  text-align: right;\n",
       "}\n",
       "</style>\n",
       "<small>shape: (1, 14)</small><table border=\"1\" class=\"dataframe\"><thead><tr><th>PassengerId</th><th>HomePlanet</th><th>CryoSleep</th><th>Cabin</th><th>Destination</th><th>Age</th><th>VIP</th><th>RoomService</th><th>FoodCourt</th><th>ShoppingMall</th><th>Spa</th><th>VRDeck</th><th>Name</th><th>Transported</th></tr><tr><td>u32</td><td>u32</td><td>u32</td><td>u32</td><td>u32</td><td>u32</td><td>u32</td><td>u32</td><td>u32</td><td>u32</td><td>u32</td><td>u32</td><td>u32</td><td>u32</td></tr></thead><tbody><tr><td>0</td><td>201</td><td>217</td><td>199</td><td>182</td><td>179</td><td>203</td><td>181</td><td>183</td><td>208</td><td>183</td><td>188</td><td>200</td><td>0</td></tr></tbody></table></div>"
      ],
      "text/plain": [
       "shape: (1, 14)\n",
       "┌─────────────┬────────────┬───────────┬───────┬───┬─────┬────────┬──────┬─────────────┐\n",
       "│ PassengerId ┆ HomePlanet ┆ CryoSleep ┆ Cabin ┆ … ┆ Spa ┆ VRDeck ┆ Name ┆ Transported │\n",
       "│ ---         ┆ ---        ┆ ---       ┆ ---   ┆   ┆ --- ┆ ---    ┆ ---  ┆ ---         │\n",
       "│ u32         ┆ u32        ┆ u32       ┆ u32   ┆   ┆ u32 ┆ u32    ┆ u32  ┆ u32         │\n",
       "╞═════════════╪════════════╪═══════════╪═══════╪═══╪═════╪════════╪══════╪═════════════╡\n",
       "│ 0           ┆ 201        ┆ 217       ┆ 199   ┆ … ┆ 183 ┆ 188    ┆ 200  ┆ 0           │\n",
       "└─────────────┴────────────┴───────────┴───────┴───┴─────┴────────┴──────┴─────────────┘"
      ]
     },
     "execution_count": 4,
     "metadata": {},
     "output_type": "execute_result"
    }
   ],
   "source": [
    "train_data.null_count()"
   ]
  },
  {
   "cell_type": "code",
   "execution_count": 5,
   "id": "b724d41f",
   "metadata": {},
   "outputs": [],
   "source": [
    "# Defning target values and Organizing training data\n",
    "X=train_data.clone().sample(len(train_data),shuffle=True)\n",
    "X_test=test_data.clone()\n",
    "y=X[\"Transported\"]\n",
    "X=X.drop([\"PassengerId\",\"Name\",\"Transported\"])\n",
    "X_test=X_test.drop([\"PassengerId\",\"Name\"])\n"
   ]
  },
  {
   "cell_type": "code",
   "execution_count": null,
   "id": "e8dfe406",
   "metadata": {},
   "outputs": [],
   "source": []
  },
  {
   "cell_type": "code",
   "execution_count": null,
   "id": "18e398c9",
   "metadata": {},
   "outputs": [],
   "source": []
  },
  {
   "cell_type": "code",
   "execution_count": 6,
   "id": "35184761",
   "metadata": {},
   "outputs": [],
   "source": [
    "def cabin(cab_col):\n",
    "    cabin=[]\n",
    "    for i in cab_col:\n",
    "        if(i!=None):\n",
    "            cabin.append(i[0]+i[-1])\n",
    "        else:\n",
    "            cabin.append(None)\n",
    "    return cabin"
   ]
  },
  {
   "cell_type": "code",
   "execution_count": null,
   "id": "c445a9cb",
   "metadata": {},
   "outputs": [],
   "source": []
  },
  {
   "cell_type": "code",
   "execution_count": 7,
   "id": "1819081b",
   "metadata": {},
   "outputs": [
    {
     "name": "stderr",
     "output_type": "stream",
     "text": [
      "/home/fansan/.local/lib/python3.10/site-packages/sklearn/preprocessing/_encoders.py:828: FutureWarning: `sparse` was renamed to `sparse_output` in version 1.2 and will be removed in 1.4. `sparse_output` is ignored unless you leave `sparse` to its default value.\n",
      "  warnings.warn(\n",
      "/home/fansan/.local/lib/python3.10/site-packages/sklearn/preprocessing/_encoders.py:828: FutureWarning: `sparse` was renamed to `sparse_output` in version 1.2 and will be removed in 1.4. `sparse_output` is ignored unless you leave `sparse` to its default value.\n",
      "  warnings.warn(\n"
     ]
    }
   ],
   "source": [
    "# Managing Categorical and Boolean values\n",
    "\n",
    "#Boolean - \n",
    "X=X.with_columns(X[\"CryoSleep\"].cast(int))\n",
    "X=X.with_columns(X[\"VIP\"].cast(int))\n",
    "\n",
    "X_test=X_test.with_columns(X_test[\"CryoSleep\"].cast(int))\n",
    "X_test=X_test.with_columns(X_test[\"VIP\"].cast(int))\n",
    "\n",
    "y=y.cast(int)\n",
    "\n",
    "#String - \n",
    "#Cabin_df=pl.DataFrame({\"Cabin\":cabin(X[\"Cabin\"])})\n",
    "#Cabin_df_test=pl.DataFrame({\"Cabin\":cabin(X_test[\"Cabin\"])})\n",
    "\n",
    "X=X.drop(\"Cabin\")\n",
    "X_test=X_test.drop(\"Cabin\")\n",
    "\n",
    "#X=pl.concat([X,Cabin_df],how=\"horizontal\")\n",
    "#X=pl.concat([X_test,Cabin_df_test],how=\"horizontal\")\n",
    "\n",
    "\n",
    "import polars.selectors as cs\n",
    "#train_data.select([pl.col(pl.NUMERIC_DTYPES)])\n",
    "cat_col=X.select(cs.string()).columns\n",
    "X[cat_col].head()\n",
    "\n",
    "from sklearn.preprocessing import OneHotEncoder\n",
    "oh_encoder=OneHotEncoder(handle_unknown=\"ignore\",sparse=False)\n",
    "\n",
    "oh_X = pl.DataFrame(oh_encoder.fit_transform(X[cat_col]))\n",
    "X_num=pl.concat([X,oh_X],how=\"horizontal\").drop(cat_col)\n",
    "\n",
    "oh_X_test = pl.DataFrame(oh_encoder.fit_transform(X_test[cat_col]))\n",
    "X_num_test=pl.concat([X_test,oh_X_test],how=\"horizontal\").drop(cat_col)\n",
    "\n"
   ]
  },
  {
   "cell_type": "code",
   "execution_count": null,
   "id": "50f91b3b",
   "metadata": {},
   "outputs": [],
   "source": []
  },
  {
   "cell_type": "code",
   "execution_count": 8,
   "id": "53053aa6",
   "metadata": {},
   "outputs": [
    {
     "name": "stdout",
     "output_type": "stream",
     "text": [
      "5439\n",
      "8291\n"
     ]
    }
   ],
   "source": [
    "print((X_num[\"CryoSleep\"]==0).sum())\n",
    "print((X_num[\"VIP\"]==0).sum())"
   ]
  },
  {
   "cell_type": "code",
   "execution_count": 9,
   "id": "efff9309",
   "metadata": {},
   "outputs": [],
   "source": [
    "# Handling Null values\n",
    "from sklearn.impute import SimpleImputer\n",
    "\n",
    "X_num=X_num.with_columns(X_num[\"Age\"].fill_nan(X_num[\"Age\"].median()))\n",
    "X_num=X_num.with_columns(X_num[\"CryoSleep\"].fill_nan(1))\n",
    "X_num=X_num.with_columns(X_num[\"VIP\"].fill_nan(0))\n",
    "\n",
    "imputer=SimpleImputer(strategy=\"median\")\n",
    "X_imputed=pl.DataFrame(imputer.fit_transform(X_num))\n",
    "X_imputed.columns=X_num.columns\n",
    "\n",
    "X_imputed_test=pl.DataFrame(imputer.fit_transform(X_num_test))\n",
    "X_imputed_test.columns=X_num_test.columns\n",
    "\n"
   ]
  },
  {
   "cell_type": "code",
   "execution_count": null,
   "id": "48db4500",
   "metadata": {},
   "outputs": [],
   "source": []
  },
  {
   "cell_type": "code",
   "execution_count": null,
   "id": "96a9d810",
   "metadata": {},
   "outputs": [],
   "source": []
  },
  {
   "cell_type": "code",
   "execution_count": 10,
   "id": "ead12b97",
   "metadata": {
    "scrolled": false
   },
   "outputs": [
    {
     "data": {
      "text/html": [
       "<div><style>\n",
       ".dataframe > thead > tr > th,\n",
       ".dataframe > tbody > tr > td {\n",
       "  text-align: right;\n",
       "}\n",
       "</style>\n",
       "<small>shape: (9, 17)</small><table border=\"1\" class=\"dataframe\"><thead><tr><th>describe</th><th>CryoSleep</th><th>Age</th><th>VIP</th><th>RoomService</th><th>FoodCourt</th><th>ShoppingMall</th><th>Spa</th><th>VRDeck</th><th>column_0</th><th>column_1</th><th>column_2</th><th>column_3</th><th>column_4</th><th>column_5</th><th>column_6</th><th>column_7</th></tr><tr><td>str</td><td>f64</td><td>f64</td><td>f64</td><td>f64</td><td>f64</td><td>f64</td><td>f64</td><td>f64</td><td>f64</td><td>f64</td><td>f64</td><td>f64</td><td>f64</td><td>f64</td><td>f64</td><td>f64</td></tr></thead><tbody><tr><td>&quot;count&quot;</td><td>8693.0</td><td>8693.0</td><td>8693.0</td><td>8693.0</td><td>8693.0</td><td>8693.0</td><td>8693.0</td><td>8693.0</td><td>8693.0</td><td>8693.0</td><td>8693.0</td><td>8693.0</td><td>8693.0</td><td>8693.0</td><td>8693.0</td><td>8693.0</td></tr><tr><td>&quot;null_count&quot;</td><td>0.0</td><td>0.0</td><td>0.0</td><td>0.0</td><td>0.0</td><td>0.0</td><td>0.0</td><td>0.0</td><td>0.0</td><td>0.0</td><td>0.0</td><td>0.0</td><td>0.0</td><td>0.0</td><td>0.0</td><td>0.0</td></tr><tr><td>&quot;mean&quot;</td><td>0.349362</td><td>28.790291</td><td>0.022892</td><td>220.009318</td><td>448.434027</td><td>169.5723</td><td>304.588865</td><td>298.26182</td><td>0.529391</td><td>0.24514</td><td>0.202347</td><td>0.023122</td><td>0.207063</td><td>0.091568</td><td>0.680433</td><td>0.020936</td></tr><tr><td>&quot;std&quot;</td><td>0.476796</td><td>14.341404</td><td>0.149568</td><td>660.51905</td><td>1595.790627</td><td>598.007164</td><td>1125.562559</td><td>1134.126417</td><td>0.499164</td><td>0.430195</td><td>0.401772</td><td>0.1503</td><td>0.405224</td><td>0.288432</td><td>0.466336</td><td>0.14318</td></tr><tr><td>&quot;min&quot;</td><td>0.0</td><td>0.0</td><td>0.0</td><td>0.0</td><td>0.0</td><td>0.0</td><td>0.0</td><td>0.0</td><td>0.0</td><td>0.0</td><td>0.0</td><td>0.0</td><td>0.0</td><td>0.0</td><td>0.0</td><td>0.0</td></tr><tr><td>&quot;max&quot;</td><td>1.0</td><td>79.0</td><td>1.0</td><td>14327.0</td><td>29813.0</td><td>23492.0</td><td>22408.0</td><td>24133.0</td><td>1.0</td><td>1.0</td><td>1.0</td><td>1.0</td><td>1.0</td><td>1.0</td><td>1.0</td><td>1.0</td></tr><tr><td>&quot;median&quot;</td><td>0.0</td><td>27.0</td><td>0.0</td><td>0.0</td><td>0.0</td><td>0.0</td><td>0.0</td><td>0.0</td><td>1.0</td><td>0.0</td><td>0.0</td><td>0.0</td><td>0.0</td><td>0.0</td><td>1.0</td><td>0.0</td></tr><tr><td>&quot;25%&quot;</td><td>0.0</td><td>20.0</td><td>0.0</td><td>0.0</td><td>0.0</td><td>0.0</td><td>0.0</td><td>0.0</td><td>0.0</td><td>0.0</td><td>0.0</td><td>0.0</td><td>0.0</td><td>0.0</td><td>0.0</td><td>0.0</td></tr><tr><td>&quot;75%&quot;</td><td>1.0</td><td>37.0</td><td>0.0</td><td>41.0</td><td>61.0</td><td>22.0</td><td>53.0</td><td>40.0</td><td>1.0</td><td>0.0</td><td>0.0</td><td>0.0</td><td>0.0</td><td>0.0</td><td>1.0</td><td>0.0</td></tr></tbody></table></div>"
      ],
      "text/plain": [
       "shape: (9, 17)\n",
       "┌────────────┬───────────┬───────────┬──────────┬───┬──────────┬──────────┬──────────┬──────────┐\n",
       "│ describe   ┆ CryoSleep ┆ Age       ┆ VIP      ┆ … ┆ column_4 ┆ column_5 ┆ column_6 ┆ column_7 │\n",
       "│ ---        ┆ ---       ┆ ---       ┆ ---      ┆   ┆ ---      ┆ ---      ┆ ---      ┆ ---      │\n",
       "│ str        ┆ f64       ┆ f64       ┆ f64      ┆   ┆ f64      ┆ f64      ┆ f64      ┆ f64      │\n",
       "╞════════════╪═══════════╪═══════════╪══════════╪═══╪══════════╪══════════╪══════════╪══════════╡\n",
       "│ count      ┆ 8693.0    ┆ 8693.0    ┆ 8693.0   ┆ … ┆ 8693.0   ┆ 8693.0   ┆ 8693.0   ┆ 8693.0   │\n",
       "│ null_count ┆ 0.0       ┆ 0.0       ┆ 0.0      ┆ … ┆ 0.0      ┆ 0.0      ┆ 0.0      ┆ 0.0      │\n",
       "│ mean       ┆ 0.349362  ┆ 28.790291 ┆ 0.022892 ┆ … ┆ 0.207063 ┆ 0.091568 ┆ 0.680433 ┆ 0.020936 │\n",
       "│ std        ┆ 0.476796  ┆ 14.341404 ┆ 0.149568 ┆ … ┆ 0.405224 ┆ 0.288432 ┆ 0.466336 ┆ 0.14318  │\n",
       "│ min        ┆ 0.0       ┆ 0.0       ┆ 0.0      ┆ … ┆ 0.0      ┆ 0.0      ┆ 0.0      ┆ 0.0      │\n",
       "│ max        ┆ 1.0       ┆ 79.0      ┆ 1.0      ┆ … ┆ 1.0      ┆ 1.0      ┆ 1.0      ┆ 1.0      │\n",
       "│ median     ┆ 0.0       ┆ 27.0      ┆ 0.0      ┆ … ┆ 0.0      ┆ 0.0      ┆ 1.0      ┆ 0.0      │\n",
       "│ 25%        ┆ 0.0       ┆ 20.0      ┆ 0.0      ┆ … ┆ 0.0      ┆ 0.0      ┆ 0.0      ┆ 0.0      │\n",
       "│ 75%        ┆ 1.0       ┆ 37.0      ┆ 0.0      ┆ … ┆ 0.0      ┆ 0.0      ┆ 1.0      ┆ 0.0      │\n",
       "└────────────┴───────────┴───────────┴──────────┴───┴──────────┴──────────┴──────────┴──────────┘"
      ]
     },
     "execution_count": 10,
     "metadata": {},
     "output_type": "execute_result"
    }
   ],
   "source": [
    "X_imputed.describe()"
   ]
  },
  {
   "cell_type": "code",
   "execution_count": 11,
   "id": "30fc6d5c",
   "metadata": {},
   "outputs": [
    {
     "data": {
      "text/html": [
       "<div><style>\n",
       ".dataframe > thead > tr > th,\n",
       ".dataframe > tbody > tr > td {\n",
       "  text-align: right;\n",
       "}\n",
       "</style>\n",
       "<small>shape: (9, 17)</small><table border=\"1\" class=\"dataframe\"><thead><tr><th>describe</th><th>CryoSleep</th><th>Age</th><th>VIP</th><th>RoomService</th><th>FoodCourt</th><th>ShoppingMall</th><th>Spa</th><th>VRDeck</th><th>column_0</th><th>column_1</th><th>column_2</th><th>column_3</th><th>column_4</th><th>column_5</th><th>column_6</th><th>column_7</th></tr><tr><td>str</td><td>f64</td><td>f64</td><td>f64</td><td>f64</td><td>f64</td><td>f64</td><td>f64</td><td>f64</td><td>f64</td><td>f64</td><td>f64</td><td>f64</td><td>f64</td><td>f64</td><td>f64</td><td>f64</td></tr></thead><tbody><tr><td>&quot;count&quot;</td><td>4277.0</td><td>4277.0</td><td>4277.0</td><td>4277.0</td><td>4277.0</td><td>4277.0</td><td>4277.0</td><td>4277.0</td><td>4277.0</td><td>4277.0</td><td>4277.0</td><td>4277.0</td><td>4277.0</td><td>4277.0</td><td>4277.0</td><td>4277.0</td></tr><tr><td>&quot;null_count&quot;</td><td>0.0</td><td>0.0</td><td>0.0</td><td>0.0</td><td>0.0</td><td>0.0</td><td>0.0</td><td>0.0</td><td>0.0</td><td>0.0</td><td>0.0</td><td>0.0</td><td>0.0</td><td>0.0</td><td>0.0</td><td>0.0</td></tr><tr><td>&quot;mean&quot;</td><td>0.361001</td><td>28.60159</td><td>0.017302</td><td>215.062427</td><td>428.592238</td><td>173.233107</td><td>295.895955</td><td>304.898293</td><td>0.529109</td><td>0.234276</td><td>0.216273</td><td>0.020341</td><td>0.196633</td><td>0.090718</td><td>0.691139</td><td>0.02151</td></tr><tr><td>&quot;std&quot;</td><td>0.480347</td><td>14.032629</td><td>0.130409</td><td>601.914503</td><td>1510.155974</td><td>554.991776</td><td>1104.872018</td><td>1235.991811</td><td>0.49921</td><td>0.423595</td><td>0.411751</td><td>0.141182</td><td>0.397499</td><td>0.287241</td><td>0.462078</td><td>0.145095</td></tr><tr><td>&quot;min&quot;</td><td>0.0</td><td>0.0</td><td>0.0</td><td>0.0</td><td>0.0</td><td>0.0</td><td>0.0</td><td>0.0</td><td>0.0</td><td>0.0</td><td>0.0</td><td>0.0</td><td>0.0</td><td>0.0</td><td>0.0</td><td>0.0</td></tr><tr><td>&quot;max&quot;</td><td>1.0</td><td>79.0</td><td>1.0</td><td>11567.0</td><td>25273.0</td><td>8292.0</td><td>19844.0</td><td>22272.0</td><td>1.0</td><td>1.0</td><td>1.0</td><td>1.0</td><td>1.0</td><td>1.0</td><td>1.0</td><td>1.0</td></tr><tr><td>&quot;median&quot;</td><td>0.0</td><td>26.0</td><td>0.0</td><td>0.0</td><td>0.0</td><td>0.0</td><td>0.0</td><td>0.0</td><td>1.0</td><td>0.0</td><td>0.0</td><td>0.0</td><td>0.0</td><td>0.0</td><td>1.0</td><td>0.0</td></tr><tr><td>&quot;25%&quot;</td><td>0.0</td><td>20.0</td><td>0.0</td><td>0.0</td><td>0.0</td><td>0.0</td><td>0.0</td><td>0.0</td><td>0.0</td><td>0.0</td><td>0.0</td><td>0.0</td><td>0.0</td><td>0.0</td><td>0.0</td><td>0.0</td></tr><tr><td>&quot;75%&quot;</td><td>1.0</td><td>37.0</td><td>0.0</td><td>48.0</td><td>66.0</td><td>27.0</td><td>43.0</td><td>31.0</td><td>1.0</td><td>0.0</td><td>0.0</td><td>0.0</td><td>0.0</td><td>0.0</td><td>1.0</td><td>0.0</td></tr></tbody></table></div>"
      ],
      "text/plain": [
       "shape: (9, 17)\n",
       "┌────────────┬───────────┬───────────┬──────────┬───┬──────────┬──────────┬──────────┬──────────┐\n",
       "│ describe   ┆ CryoSleep ┆ Age       ┆ VIP      ┆ … ┆ column_4 ┆ column_5 ┆ column_6 ┆ column_7 │\n",
       "│ ---        ┆ ---       ┆ ---       ┆ ---      ┆   ┆ ---      ┆ ---      ┆ ---      ┆ ---      │\n",
       "│ str        ┆ f64       ┆ f64       ┆ f64      ┆   ┆ f64      ┆ f64      ┆ f64      ┆ f64      │\n",
       "╞════════════╪═══════════╪═══════════╪══════════╪═══╪══════════╪══════════╪══════════╪══════════╡\n",
       "│ count      ┆ 4277.0    ┆ 4277.0    ┆ 4277.0   ┆ … ┆ 4277.0   ┆ 4277.0   ┆ 4277.0   ┆ 4277.0   │\n",
       "│ null_count ┆ 0.0       ┆ 0.0       ┆ 0.0      ┆ … ┆ 0.0      ┆ 0.0      ┆ 0.0      ┆ 0.0      │\n",
       "│ mean       ┆ 0.361001  ┆ 28.60159  ┆ 0.017302 ┆ … ┆ 0.196633 ┆ 0.090718 ┆ 0.691139 ┆ 0.02151  │\n",
       "│ std        ┆ 0.480347  ┆ 14.032629 ┆ 0.130409 ┆ … ┆ 0.397499 ┆ 0.287241 ┆ 0.462078 ┆ 0.145095 │\n",
       "│ min        ┆ 0.0       ┆ 0.0       ┆ 0.0      ┆ … ┆ 0.0      ┆ 0.0      ┆ 0.0      ┆ 0.0      │\n",
       "│ max        ┆ 1.0       ┆ 79.0      ┆ 1.0      ┆ … ┆ 1.0      ┆ 1.0      ┆ 1.0      ┆ 1.0      │\n",
       "│ median     ┆ 0.0       ┆ 26.0      ┆ 0.0      ┆ … ┆ 0.0      ┆ 0.0      ┆ 1.0      ┆ 0.0      │\n",
       "│ 25%        ┆ 0.0       ┆ 20.0      ┆ 0.0      ┆ … ┆ 0.0      ┆ 0.0      ┆ 0.0      ┆ 0.0      │\n",
       "│ 75%        ┆ 1.0       ┆ 37.0      ┆ 0.0      ┆ … ┆ 0.0      ┆ 0.0      ┆ 1.0      ┆ 0.0      │\n",
       "└────────────┴───────────┴───────────┴──────────┴───┴──────────┴──────────┴──────────┴──────────┘"
      ]
     },
     "execution_count": 11,
     "metadata": {},
     "output_type": "execute_result"
    }
   ],
   "source": [
    "X_imputed_test.describe()"
   ]
  },
  {
   "cell_type": "code",
   "execution_count": 12,
   "id": "dd6b86de",
   "metadata": {},
   "outputs": [
    {
     "name": "stdout",
     "output_type": "stream",
     "text": [
      "(6519, 16)\n",
      "(6519,)\n",
      "(2174, 16)\n",
      "(2174,)\n"
     ]
    }
   ],
   "source": [
    "# Spliting data\n",
    "from sklearn.model_selection import train_test_split\n",
    "X_train,X_valid,y_train,y_valid = train_test_split(X_imputed,y,random_state=0)\n",
    "print(X_train.shape)\n",
    "print(y_train.shape)\n",
    "print(X_valid.shape)\n",
    "print(y_valid.shape)"
   ]
  },
  {
   "cell_type": "code",
   "execution_count": 13,
   "id": "b8ea9454",
   "metadata": {},
   "outputs": [],
   "source": [
    "from sklearn.ensemble import RandomForestClassifier\n",
    "from sklearn.metrics import mean_absolute_error\n",
    "\n",
    "# Function for comparing different approaches\n",
    "def score_dataset(X_train, X_valid, y_train, y_valid, n_estimator):\n",
    "    model = RandomForestClassifier(n_estimators=n_estimator, random_state=1)\n",
    "    model.fit(X_train, y_train)\n",
    "    preds = model.predict(X_valid)\n",
    "    return model,mean_absolute_error(y_valid, preds)\n"
   ]
  },
  {
   "cell_type": "code",
   "execution_count": 14,
   "id": "2ba6e739",
   "metadata": {},
   "outputs": [
    {
     "name": "stdout",
     "output_type": "stream",
     "text": [
      "0.22079116835326587 \t 0.7792088316467342 \t 20\n",
      "0.21619135234590617 \t 0.7838086476540939 \t 40\n",
      "0.21205151793928242 \t 0.7879484820607175 \t 60\n",
      "0.21389144434222632 \t 0.7861085556577737 \t 80\n",
      "0.21205151793928242 \t 0.7879484820607175 \t 100\n",
      "0.21757129714811407 \t 0.7824287028518859 \t 120\n",
      "0.21895124195032198 \t 0.781048758049678 \t 140\n",
      "0.21849126034958602 \t 0.781508739650414 \t 160\n",
      "0.21987120515179392 \t 0.7801287948482061 \t 180\n",
      "0.21895124195032198 \t 0.781048758049678 \t 200\n"
     ]
    }
   ],
   "source": [
    "mae_dic={}\n",
    "for i in range(20,201,20):\n",
    "    model,mae=score_dataset(X_train,X_valid,y_train,y_valid,i)\n",
    "    acc=model.score(X_valid,y_valid)\n",
    "    mae_dic[i]=mae\n",
    "    print(mae,'\\t',acc,'\\t',i)\n"
   ]
  },
  {
   "cell_type": "code",
   "execution_count": 15,
   "id": "d38d2fac",
   "metadata": {},
   "outputs": [
    {
     "data": {
      "text/plain": [
       "60"
      ]
     },
     "execution_count": 15,
     "metadata": {},
     "output_type": "execute_result"
    }
   ],
   "source": [
    "best_n=min(mae_dic,key=mae_dic.get)\n",
    "best_n"
   ]
  },
  {
   "cell_type": "code",
   "execution_count": 16,
   "id": "0ed950e6",
   "metadata": {},
   "outputs": [
    {
     "data": {
      "text/html": [
       "<style>#sk-container-id-1 {color: black;background-color: white;}#sk-container-id-1 pre{padding: 0;}#sk-container-id-1 div.sk-toggleable {background-color: white;}#sk-container-id-1 label.sk-toggleable__label {cursor: pointer;display: block;width: 100%;margin-bottom: 0;padding: 0.3em;box-sizing: border-box;text-align: center;}#sk-container-id-1 label.sk-toggleable__label-arrow:before {content: \"▸\";float: left;margin-right: 0.25em;color: #696969;}#sk-container-id-1 label.sk-toggleable__label-arrow:hover:before {color: black;}#sk-container-id-1 div.sk-estimator:hover label.sk-toggleable__label-arrow:before {color: black;}#sk-container-id-1 div.sk-toggleable__content {max-height: 0;max-width: 0;overflow: hidden;text-align: left;background-color: #f0f8ff;}#sk-container-id-1 div.sk-toggleable__content pre {margin: 0.2em;color: black;border-radius: 0.25em;background-color: #f0f8ff;}#sk-container-id-1 input.sk-toggleable__control:checked~div.sk-toggleable__content {max-height: 200px;max-width: 100%;overflow: auto;}#sk-container-id-1 input.sk-toggleable__control:checked~label.sk-toggleable__label-arrow:before {content: \"▾\";}#sk-container-id-1 div.sk-estimator input.sk-toggleable__control:checked~label.sk-toggleable__label {background-color: #d4ebff;}#sk-container-id-1 div.sk-label input.sk-toggleable__control:checked~label.sk-toggleable__label {background-color: #d4ebff;}#sk-container-id-1 input.sk-hidden--visually {border: 0;clip: rect(1px 1px 1px 1px);clip: rect(1px, 1px, 1px, 1px);height: 1px;margin: -1px;overflow: hidden;padding: 0;position: absolute;width: 1px;}#sk-container-id-1 div.sk-estimator {font-family: monospace;background-color: #f0f8ff;border: 1px dotted black;border-radius: 0.25em;box-sizing: border-box;margin-bottom: 0.5em;}#sk-container-id-1 div.sk-estimator:hover {background-color: #d4ebff;}#sk-container-id-1 div.sk-parallel-item::after {content: \"\";width: 100%;border-bottom: 1px solid gray;flex-grow: 1;}#sk-container-id-1 div.sk-label:hover label.sk-toggleable__label {background-color: #d4ebff;}#sk-container-id-1 div.sk-serial::before {content: \"\";position: absolute;border-left: 1px solid gray;box-sizing: border-box;top: 0;bottom: 0;left: 50%;z-index: 0;}#sk-container-id-1 div.sk-serial {display: flex;flex-direction: column;align-items: center;background-color: white;padding-right: 0.2em;padding-left: 0.2em;position: relative;}#sk-container-id-1 div.sk-item {position: relative;z-index: 1;}#sk-container-id-1 div.sk-parallel {display: flex;align-items: stretch;justify-content: center;background-color: white;position: relative;}#sk-container-id-1 div.sk-item::before, #sk-container-id-1 div.sk-parallel-item::before {content: \"\";position: absolute;border-left: 1px solid gray;box-sizing: border-box;top: 0;bottom: 0;left: 50%;z-index: -1;}#sk-container-id-1 div.sk-parallel-item {display: flex;flex-direction: column;z-index: 1;position: relative;background-color: white;}#sk-container-id-1 div.sk-parallel-item:first-child::after {align-self: flex-end;width: 50%;}#sk-container-id-1 div.sk-parallel-item:last-child::after {align-self: flex-start;width: 50%;}#sk-container-id-1 div.sk-parallel-item:only-child::after {width: 0;}#sk-container-id-1 div.sk-dashed-wrapped {border: 1px dashed gray;margin: 0 0.4em 0.5em 0.4em;box-sizing: border-box;padding-bottom: 0.4em;background-color: white;}#sk-container-id-1 div.sk-label label {font-family: monospace;font-weight: bold;display: inline-block;line-height: 1.2em;}#sk-container-id-1 div.sk-label-container {text-align: center;}#sk-container-id-1 div.sk-container {/* jupyter's `normalize.less` sets `[hidden] { display: none; }` but bootstrap.min.css set `[hidden] { display: none !important; }` so we also need the `!important` here to be able to override the default hidden behavior on the sphinx rendered scikit-learn.org. See: https://github.com/scikit-learn/scikit-learn/issues/21755 */display: inline-block !important;position: relative;}#sk-container-id-1 div.sk-text-repr-fallback {display: none;}</style><div id=\"sk-container-id-1\" class=\"sk-top-container\"><div class=\"sk-text-repr-fallback\"><pre>RandomForestClassifier(n_estimators=60, random_state=1)</pre><b>In a Jupyter environment, please rerun this cell to show the HTML representation or trust the notebook. <br />On GitHub, the HTML representation is unable to render, please try loading this page with nbviewer.org.</b></div><div class=\"sk-container\" hidden><div class=\"sk-item\"><div class=\"sk-estimator sk-toggleable\"><input class=\"sk-toggleable__control sk-hidden--visually\" id=\"sk-estimator-id-1\" type=\"checkbox\" checked><label for=\"sk-estimator-id-1\" class=\"sk-toggleable__label sk-toggleable__label-arrow\">RandomForestClassifier</label><div class=\"sk-toggleable__content\"><pre>RandomForestClassifier(n_estimators=60, random_state=1)</pre></div></div></div></div></div>"
      ],
      "text/plain": [
       "RandomForestClassifier(n_estimators=60, random_state=1)"
      ]
     },
     "execution_count": 16,
     "metadata": {},
     "output_type": "execute_result"
    }
   ],
   "source": [
    "# The Final Model will be \n",
    "model=RandomForestClassifier(n_estimators=best_n,random_state=1)\n",
    "model.fit(X_imputed,y)\n",
    "model"
   ]
  },
  {
   "cell_type": "code",
   "execution_count": 17,
   "id": "d489b1f5",
   "metadata": {},
   "outputs": [],
   "source": [
    "prediction=model.predict(X_valid)\n",
    "test_prediction=model.predict(X_imputed_test)\n",
    "test_prediction=test_prediction.astype(bool)"
   ]
  },
  {
   "cell_type": "code",
   "execution_count": 18,
   "id": "8ebeeaca",
   "metadata": {},
   "outputs": [],
   "source": [
    "output = pl.DataFrame({'PassengerId': test_data[\"PassengerId\"].to_numpy().astype(str),\n",
    "                       'Transported': test_prediction})\n",
    "output.write_csv('submission.csv',separator=',')\n"
   ]
  },
  {
   "cell_type": "code",
   "execution_count": 19,
   "id": "ec157f31",
   "metadata": {},
   "outputs": [],
   "source": [
    "import pathlib\n",
    "path: pathlib.Path =\"dataset_vs/submission.csv\"\n",
    "output.write_csv(\"submission.csv\", separator=\",\")"
   ]
  },
  {
   "cell_type": "code",
   "execution_count": 20,
   "id": "7317e880",
   "metadata": {},
   "outputs": [
    {
     "data": {
      "text/html": [
       "<div><style>\n",
       ".dataframe > thead > tr > th,\n",
       ".dataframe > tbody > tr > td {\n",
       "  text-align: right;\n",
       "}\n",
       "</style>\n",
       "<small>shape: (4_277, 2)</small><table border=\"1\" class=\"dataframe\"><thead><tr><th>PassengerId</th><th>Transported</th></tr><tr><td>str</td><td>bool</td></tr></thead><tbody><tr><td>&quot;0013_01&quot;</td><td>true</td></tr><tr><td>&quot;0018_01&quot;</td><td>false</td></tr><tr><td>&quot;0019_01&quot;</td><td>true</td></tr><tr><td>&quot;0021_01&quot;</td><td>true</td></tr><tr><td>&quot;0023_01&quot;</td><td>true</td></tr><tr><td>&quot;0027_01&quot;</td><td>true</td></tr><tr><td>&quot;0029_01&quot;</td><td>true</td></tr><tr><td>&quot;0032_01&quot;</td><td>true</td></tr><tr><td>&quot;0032_02&quot;</td><td>true</td></tr><tr><td>&quot;0033_01&quot;</td><td>true</td></tr><tr><td>&quot;0037_01&quot;</td><td>false</td></tr><tr><td>&quot;0040_01&quot;</td><td>false</td></tr><tr><td>&hellip;</td><td>&hellip;</td></tr><tr><td>&quot;9255_01&quot;</td><td>true</td></tr><tr><td>&quot;9258_01&quot;</td><td>true</td></tr><tr><td>&quot;9260_01&quot;</td><td>true</td></tr><tr><td>&quot;9262_01&quot;</td><td>true</td></tr><tr><td>&quot;9263_01&quot;</td><td>true</td></tr><tr><td>&quot;9265_01&quot;</td><td>true</td></tr><tr><td>&quot;9266_01&quot;</td><td>true</td></tr><tr><td>&quot;9266_02&quot;</td><td>true</td></tr><tr><td>&quot;9269_01&quot;</td><td>false</td></tr><tr><td>&quot;9271_01&quot;</td><td>true</td></tr><tr><td>&quot;9273_01&quot;</td><td>true</td></tr><tr><td>&quot;9277_01&quot;</td><td>false</td></tr></tbody></table></div>"
      ],
      "text/plain": [
       "shape: (4_277, 2)\n",
       "┌─────────────┬─────────────┐\n",
       "│ PassengerId ┆ Transported │\n",
       "│ ---         ┆ ---         │\n",
       "│ str         ┆ bool        │\n",
       "╞═════════════╪═════════════╡\n",
       "│ 0013_01     ┆ true        │\n",
       "│ 0018_01     ┆ false       │\n",
       "│ 0019_01     ┆ true        │\n",
       "│ 0021_01     ┆ true        │\n",
       "│ …           ┆ …           │\n",
       "│ 9269_01     ┆ false       │\n",
       "│ 9271_01     ┆ true        │\n",
       "│ 9273_01     ┆ true        │\n",
       "│ 9277_01     ┆ false       │\n",
       "└─────────────┴─────────────┘"
      ]
     },
     "execution_count": 20,
     "metadata": {},
     "output_type": "execute_result"
    }
   ],
   "source": [
    "output"
   ]
  },
  {
   "cell_type": "code",
   "execution_count": 21,
   "id": "a8aebc15",
   "metadata": {},
   "outputs": [
    {
     "data": {
      "text/plain": [
       "0.9312090187507189"
      ]
     },
     "execution_count": 21,
     "metadata": {},
     "output_type": "execute_result"
    }
   ],
   "source": [
    "model.score(X_imputed,y)"
   ]
  },
  {
   "cell_type": "code",
   "execution_count": null,
   "id": "de816ceb",
   "metadata": {},
   "outputs": [],
   "source": []
  },
  {
   "cell_type": "code",
   "execution_count": null,
   "id": "a5638319",
   "metadata": {},
   "outputs": [],
   "source": []
  }
 ],
 "metadata": {
  "kernelspec": {
   "display_name": "Python 3 (ipykernel)",
   "language": "python",
   "name": "python3"
  },
  "language_info": {
   "codemirror_mode": {
    "name": "ipython",
    "version": 3
   },
   "file_extension": ".py",
   "mimetype": "text/x-python",
   "name": "python",
   "nbconvert_exporter": "python",
   "pygments_lexer": "ipython3",
   "version": "3.10.6"
  }
 },
 "nbformat": 4,
 "nbformat_minor": 5
}
