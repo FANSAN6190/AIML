{
 "cells": [
  {
   "cell_type": "code",
   "execution_count": 1,
   "id": "cd161892",
   "metadata": {},
   "outputs": [],
   "source": [
    "import polars as pl\n",
    "import numpy as np"
   ]
  },
  {
   "cell_type": "code",
   "execution_count": 2,
   "id": "79e59f3e",
   "metadata": {},
   "outputs": [
    {
     "data": {
      "text/html": [
       "<div><style>\n",
       ".dataframe > thead > tr > th,\n",
       ".dataframe > tbody > tr > td {\n",
       "  text-align: right;\n",
       "}\n",
       "</style>\n",
       "<small>shape: (9, 15)</small><table border=\"1\" class=\"dataframe\"><thead><tr><th>describe</th><th>PassengerId</th><th>HomePlanet</th><th>CryoSleep</th><th>Cabin</th><th>Destination</th><th>Age</th><th>VIP</th><th>RoomService</th><th>FoodCourt</th><th>ShoppingMall</th><th>Spa</th><th>VRDeck</th><th>Name</th><th>Transported</th></tr><tr><td>str</td><td>str</td><td>str</td><td>f64</td><td>str</td><td>str</td><td>f64</td><td>f64</td><td>f64</td><td>f64</td><td>f64</td><td>f64</td><td>f64</td><td>str</td><td>f64</td></tr></thead><tbody><tr><td>&quot;count&quot;</td><td>&quot;8693&quot;</td><td>&quot;8693&quot;</td><td>8693.0</td><td>&quot;8693&quot;</td><td>&quot;8693&quot;</td><td>8693.0</td><td>8693.0</td><td>8693.0</td><td>8693.0</td><td>8693.0</td><td>8693.0</td><td>8693.0</td><td>&quot;8693&quot;</td><td>8693.0</td></tr><tr><td>&quot;null_count&quot;</td><td>&quot;0&quot;</td><td>&quot;201&quot;</td><td>217.0</td><td>&quot;199&quot;</td><td>&quot;182&quot;</td><td>179.0</td><td>203.0</td><td>181.0</td><td>183.0</td><td>208.0</td><td>183.0</td><td>188.0</td><td>&quot;200&quot;</td><td>0.0</td></tr><tr><td>&quot;mean&quot;</td><td>null</td><td>null</td><td>0.358306</td><td>null</td><td>null</td><td>28.82793</td><td>0.023439</td><td>224.687617</td><td>458.077203</td><td>173.729169</td><td>311.138778</td><td>304.854791</td><td>null</td><td>0.503624</td></tr><tr><td>&quot;std&quot;</td><td>null</td><td>null</td><td>0.47953</td><td>null</td><td>null</td><td>14.489021</td><td>0.151303</td><td>666.717663</td><td>1611.48924</td><td>604.696458</td><td>1136.705535</td><td>1145.717189</td><td>null</td><td>0.500016</td></tr><tr><td>&quot;min&quot;</td><td>&quot;0001_01&quot;</td><td>&quot;Earth&quot;</td><td>0.0</td><td>&quot;A/0/P&quot;</td><td>&quot;55 Cancri e&quot;</td><td>0.0</td><td>0.0</td><td>0.0</td><td>0.0</td><td>0.0</td><td>0.0</td><td>0.0</td><td>&quot;Aard Curle&quot;</td><td>0.0</td></tr><tr><td>&quot;max&quot;</td><td>&quot;9280_02&quot;</td><td>&quot;Mars&quot;</td><td>1.0</td><td>&quot;T/3/P&quot;</td><td>&quot;TRAPPIST-1e&quot;</td><td>79.0</td><td>1.0</td><td>14327.0</td><td>29813.0</td><td>23492.0</td><td>22408.0</td><td>24133.0</td><td>&quot;Zubeneb Pashar…</td><td>1.0</td></tr><tr><td>&quot;median&quot;</td><td>null</td><td>null</td><td>0.0</td><td>null</td><td>null</td><td>27.0</td><td>0.0</td><td>0.0</td><td>0.0</td><td>0.0</td><td>0.0</td><td>0.0</td><td>null</td><td>1.0</td></tr><tr><td>&quot;25%&quot;</td><td>null</td><td>null</td><td>null</td><td>null</td><td>null</td><td>19.0</td><td>null</td><td>0.0</td><td>0.0</td><td>0.0</td><td>0.0</td><td>0.0</td><td>null</td><td>null</td></tr><tr><td>&quot;75%&quot;</td><td>null</td><td>null</td><td>null</td><td>null</td><td>null</td><td>38.0</td><td>null</td><td>47.0</td><td>76.0</td><td>27.0</td><td>59.0</td><td>46.0</td><td>null</td><td>null</td></tr></tbody></table></div>"
      ],
      "text/plain": [
       "shape: (9, 15)\n",
       "┌───────────┬───────────┬───────────┬───────────┬───┬───────────┬───────────┬───────────┬──────────┐\n",
       "│ describe  ┆ Passenger ┆ HomePlane ┆ CryoSleep ┆ … ┆ Spa       ┆ VRDeck    ┆ Name      ┆ Transpor │\n",
       "│ ---       ┆ Id        ┆ t         ┆ ---       ┆   ┆ ---       ┆ ---       ┆ ---       ┆ ted      │\n",
       "│ str       ┆ ---       ┆ ---       ┆ f64       ┆   ┆ f64       ┆ f64       ┆ str       ┆ ---      │\n",
       "│           ┆ str       ┆ str       ┆           ┆   ┆           ┆           ┆           ┆ f64      │\n",
       "╞═══════════╪═══════════╪═══════════╪═══════════╪═══╪═══════════╪═══════════╪═══════════╪══════════╡\n",
       "│ count     ┆ 8693      ┆ 8693      ┆ 8693.0    ┆ … ┆ 8693.0    ┆ 8693.0    ┆ 8693      ┆ 8693.0   │\n",
       "│ null_coun ┆ 0         ┆ 201       ┆ 217.0     ┆ … ┆ 183.0     ┆ 188.0     ┆ 200       ┆ 0.0      │\n",
       "│ t         ┆           ┆           ┆           ┆   ┆           ┆           ┆           ┆          │\n",
       "│ mean      ┆ null      ┆ null      ┆ 0.358306  ┆ … ┆ 311.13877 ┆ 304.85479 ┆ null      ┆ 0.503624 │\n",
       "│           ┆           ┆           ┆           ┆   ┆ 8         ┆ 1         ┆           ┆          │\n",
       "│ std       ┆ null      ┆ null      ┆ 0.47953   ┆ … ┆ 1136.7055 ┆ 1145.7171 ┆ null      ┆ 0.500016 │\n",
       "│           ┆           ┆           ┆           ┆   ┆ 35        ┆ 89        ┆           ┆          │\n",
       "│ min       ┆ 0001_01   ┆ Earth     ┆ 0.0       ┆ … ┆ 0.0       ┆ 0.0       ┆ Aard      ┆ 0.0      │\n",
       "│           ┆           ┆           ┆           ┆   ┆           ┆           ┆ Curle     ┆          │\n",
       "│ max       ┆ 9280_02   ┆ Mars      ┆ 1.0       ┆ … ┆ 22408.0   ┆ 24133.0   ┆ Zubeneb   ┆ 1.0      │\n",
       "│           ┆           ┆           ┆           ┆   ┆           ┆           ┆ Pasharne  ┆          │\n",
       "│ median    ┆ null      ┆ null      ┆ 0.0       ┆ … ┆ 0.0       ┆ 0.0       ┆ null      ┆ 1.0      │\n",
       "│ 25%       ┆ null      ┆ null      ┆ null      ┆ … ┆ 0.0       ┆ 0.0       ┆ null      ┆ null     │\n",
       "│ 75%       ┆ null      ┆ null      ┆ null      ┆ … ┆ 59.0      ┆ 46.0      ┆ null      ┆ null     │\n",
       "└───────────┴───────────┴───────────┴───────────┴───┴───────────┴───────────┴───────────┴──────────┘"
      ]
     },
     "execution_count": 2,
     "metadata": {},
     "output_type": "execute_result"
    }
   ],
   "source": [
    "#importing dataset\n",
    "train_data=pl.read_csv(\"dataset_vs/train.csv\")\n",
    "test_data=pl.read_csv(\"dataset_vs/test.csv\")\n",
    "train_data.describe()"
   ]
  },
  {
   "cell_type": "code",
   "execution_count": 3,
   "id": "d4093605",
   "metadata": {},
   "outputs": [],
   "source": [
    "# Defning target values and Organizing training data\n",
    "X=train_data.clone().sample(len(train_data),shuffle=True)\n",
    "X_test=test_data.clone()\n",
    "y=X[\"Transported\"]\n",
    "X=X.drop([\"PassengerId\",\"Name\",\"Transported\"])\n",
    "X_test=X_test.drop([\"PassengerId\",\"Name\"])\n"
   ]
  },
  {
   "cell_type": "code",
   "execution_count": 4,
   "id": "623d1071",
   "metadata": {},
   "outputs": [
    {
     "name": "stderr",
     "output_type": "stream",
     "text": [
      "/home/fansan/.local/lib/python3.10/site-packages/sklearn/preprocessing/_encoders.py:828: FutureWarning: `sparse` was renamed to `sparse_output` in version 1.2 and will be removed in 1.4. `sparse_output` is ignored unless you leave `sparse` to its default value.\n",
      "  warnings.warn(\n",
      "/home/fansan/.local/lib/python3.10/site-packages/sklearn/preprocessing/_encoders.py:828: FutureWarning: `sparse` was renamed to `sparse_output` in version 1.2 and will be removed in 1.4. `sparse_output` is ignored unless you leave `sparse` to its default value.\n",
      "  warnings.warn(\n"
     ]
    }
   ],
   "source": [
    "# Managing Categorical and Boolean values\n",
    "\n",
    "#Boolean - \n",
    "X=X.with_columns(X[\"CryoSleep\"].cast(int))\n",
    "X=X.with_columns(X[\"VIP\"].cast(int))\n",
    "\n",
    "X_test=X_test.with_columns(X_test[\"CryoSleep\"].cast(int))\n",
    "X_test=X_test.with_columns(X_test[\"VIP\"].cast(int))\n",
    "\n",
    "y=y.cast(int)\n",
    "\n",
    "X=X.drop(\"Cabin\")\n",
    "X_test=X_test.drop(\"Cabin\")\n",
    "\n",
    "import polars.selectors as cs\n",
    "#train_data.select([pl.col(pl.NUMERIC_DTYPES)])\n",
    "cat_col=X.select(cs.string()).columns\n",
    "X[cat_col].head()\n",
    "\n",
    "from sklearn.preprocessing import OneHotEncoder\n",
    "oh_encoder=OneHotEncoder(handle_unknown=\"ignore\",sparse=False)\n",
    "\n",
    "oh_X = pl.DataFrame(oh_encoder.fit_transform(X[cat_col]))\n",
    "X_num=pl.concat([X,oh_X],how=\"horizontal\").drop(cat_col)\n",
    "\n",
    "oh_X_test = pl.DataFrame(oh_encoder.fit_transform(X_test[cat_col]))\n",
    "X_num_test=pl.concat([X_test,oh_X_test],how=\"horizontal\").drop(cat_col)\n"
   ]
  },
  {
   "cell_type": "code",
   "execution_count": 5,
   "id": "f1dc347f",
   "metadata": {},
   "outputs": [],
   "source": [
    "# Handling Null values\n",
    "from sklearn.impute import SimpleImputer\n",
    "\n",
    "X_num=X_num.with_columns(X_num[\"Age\"].fill_nan(X_num[\"Age\"].median()))\n",
    "X_num=X_num.with_columns(X_num[\"CryoSleep\"].fill_nan(1))\n",
    "X_num=X_num.with_columns(X_num[\"VIP\"].fill_nan(0))\n",
    "\n",
    "imputer=SimpleImputer(strategy=\"median\")\n",
    "X_imputed=pl.DataFrame(imputer.fit_transform(X_num))\n",
    "X_imputed.columns=X_num.columns\n",
    "\n",
    "X_imputed_test=pl.DataFrame(imputer.fit_transform(X_num_test))\n",
    "X_imputed_test.columns=X_num_test.columns\n",
    "\n"
   ]
  },
  {
   "cell_type": "code",
   "execution_count": 6,
   "id": "31fb44c3",
   "metadata": {},
   "outputs": [
    {
     "name": "stdout",
     "output_type": "stream",
     "text": [
      "(6519, 16)\n",
      "(6519,)\n",
      "(2174, 16)\n",
      "(2174,)\n"
     ]
    }
   ],
   "source": [
    "# Spliting data\n",
    "from sklearn.model_selection import train_test_split\n",
    "X_train,X_valid,y_train,y_valid = train_test_split(X_imputed,y,random_state=0)\n",
    "print(X_train.shape)\n",
    "print(y_train.shape)\n",
    "print(X_valid.shape)\n",
    "print(y_valid.shape)"
   ]
  },
  {
   "cell_type": "code",
   "execution_count": 7,
   "id": "75a1e7fc",
   "metadata": {},
   "outputs": [
    {
     "ename": "ModuleNotFoundError",
     "evalue": "No module named 'tensorflow'",
     "output_type": "error",
     "traceback": [
      "\u001b[0;31m---------------------------------------------------------------------------\u001b[0m",
      "\u001b[0;31mModuleNotFoundError\u001b[0m                       Traceback (most recent call last)",
      "Cell \u001b[0;32mIn [7], line 1\u001b[0m\n\u001b[0;32m----> 1\u001b[0m \u001b[38;5;28;01mfrom\u001b[39;00m \u001b[38;5;21;01mtensorflow\u001b[39;00m \u001b[38;5;28;01mimport\u001b[39;00m keras\n",
      "\u001b[0;31mModuleNotFoundError\u001b[0m: No module named 'tensorflow'"
     ]
    }
   ],
   "source": [
    "from tensorflow import keras"
   ]
  },
  {
   "cell_type": "code",
   "execution_count": null,
   "id": "f6879579",
   "metadata": {},
   "outputs": [],
   "source": []
  }
 ],
 "metadata": {
  "kernelspec": {
   "display_name": "Python 3 (ipykernel)",
   "language": "python",
   "name": "python3"
  },
  "language_info": {
   "codemirror_mode": {
    "name": "ipython",
    "version": 3
   },
   "file_extension": ".py",
   "mimetype": "text/x-python",
   "name": "python",
   "nbconvert_exporter": "python",
   "pygments_lexer": "ipython3",
   "version": "3.10.6"
  }
 },
 "nbformat": 4,
 "nbformat_minor": 5
}
