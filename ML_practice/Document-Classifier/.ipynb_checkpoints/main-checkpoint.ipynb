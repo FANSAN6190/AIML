{
 "cells": [
  {
   "cell_type": "code",
   "execution_count": 1,
   "id": "a32da90e",
   "metadata": {},
   "outputs": [],
   "source": [
    "import PyPDF2\n",
    "import re\n",
    "from bs4 import BeautifulSoup\n",
    "\n",
    "\n",
    "import docxpy\n",
    "# pdf_file=r'C:\\Users\\inaze\\Desktop\\pdftest.pdf'\n",
    "inp=r'C:\\Users\\inaze\\Desktop\\APS LAB1.docx'\n",
    "\n",
    "def pdf_to_txt(pdf_file):\n",
    "    extracted_text = extract_text_from_pdf(pdf_file)\n",
    "    for text in extracted_text:\n",
    "        return text\n",
    "\n",
    "def cleanText(text):\n",
    "    text = BeautifulSoup(text, \"lxml\").text\n",
    "    text = re.sub(r'\\|\\|\\|', r' ', text) \n",
    "    text = re.sub(r'http\\S+', r'<URL>', text)\n",
    "    text = text.lower()\n",
    "    text = text.replace('x', '')\n",
    "    return text\n",
    "        \n",
    "if \".pdf\" in inp:\n",
    "    text=pdf_to_txt(inp)\n",
    "if \".doc\" in inp:\n",
    "    text=docxpy.process(inp)\n",
    "    \n",
    "text=cleanText(text)\n",
    "    \n",
    "\n",
    "\n",
    "\n",
    "    \n",
    "    \n",
    "    \n",
    "\n",
    "\n"
   ]
  },
  {
   "cell_type": "code",
   "execution_count": 2,
   "id": "bfd09b75",
   "metadata": {},
   "outputs": [
    {
     "data": {
      "text/plain": [
       "'bubble sort\\n\\nit starts with comparing two elements and swaps if one element is greater than the other. after each pass, the element with the largest weight gets its position at the end of the array.\\n\\n\\n\\nprogram: \\n\\n#include \\n\\nusing namespace std;\\n\\nvoid bubblesort(int arr[], int n)\\n\\n{\\n\\n\\tint i, j;\\n\\n\\tfor (i = 0; i < n - 1; i++)\\n\\n\\t\\tfor (j = 0; j < n - i - 1; j++)\\n\\n\\t\\t\\tif (arr[j] > arr[j + 1])\\n\\n\\t\\t\\t\\tswap(arr[j], arr[j + 1]);\\n\\n}\\n\\n\\n\\nvoid printarray(int arr[], int size)\\n\\n{\\n\\n\\tint i;\\n\\n\\tfor (i = 0; i < size; i++)\\n\\n\\t\\tcout << arr[i] << \" \";\\n\\n\\tcout << endl;\\n\\n}\\n\\n\\n\\nint main()\\n\\n{\\n\\n\\tint arr[] = { 5, 1, 4, 2, 8};\\n\\n\\tint n = sizeof(arr) / sizeof(arr[0]);\\n\\n\\tbubblesort(arr, n);\\n\\n\\tprintarray(arr, n);\\n\\n\\treturn 0;\\n\\n}\\n\\n\\n\\ntime compleity analysis:\\n\\nworst case: o(n^2)\\n\\nbest case: o(n)\\n\\n\\n\\n\\n\\nquick sort\\n\\nit is a divide and conquer algorithm. a pivot element is selected and then the array is partitioned around this pivot element. the smaller elements are put before the pivot element and the larger elements are put after the pivot element.\\n\\n\\n\\nprogram: \\n\\n#include \\n\\nusing namespace std;\\n\\n\\n\\nvoid swap(int a, int b){\\n\\n    int temp;\\n\\n    temp=a[l];\\n\\n    a[l]=a[j];\\n\\n    a[j]=temp;\\n\\n}\\n\\n\\n\\nvoid partition(int i, int h, int a[]){\\n\\n         int pivot=a[l];\\n\\n         int i=l; int j=h;\\n\\n         while(ipivot)\\n\\n              \\n\\n              if(i best case. the best case is not always possible because the partition is to be done at the median, and median can’t be known unless the list is sorted already. \\n\\n\\n\\nworst case: partition is happening at the beginning of the list o(n^2).\\n\\n\\n\\n\\n\\n\\n\\n\\n\\n\\n\\n\\n\\n\\n\\n\\n\\n\\n\\n\\n\\n\\n\\n\\n\\n\\n\\n\\n\\n\\n\\n\\n\\n\\n\\n\\n\\n\\n\\n\\n\\n\\n\\n\\n\\n\\n\\n\\n\\n\\n\\n\\n\\n\\n\\n\\n\\n\\n\\n\\n\\n\\n\\n\\n\\n\\n\\n\\n\\n\\n\\n\\n\\n\\n\\n\\n\\n\\n\\n\\n\\n\\n\\n\\n\\n\\n\\n\\n\\ninsertion sort\\n\\n\\n\\nit starts by picking up any unsorted element, comparing with elements from left to right. then a space is created by shifting or moving the elements to net position. finally, the selected element is inserted into the empty space.\\n\\n\\n\\nprogram:\\n\\n#include\\n\\nvoid main()\\n\\n{\\n\\n\\tint a[100],n,k,i,j,temp;\\n\\n\\tcout<<” how many elements”;\\n\\ncin>>n;\\n\\ncout<<” how many elements of array”;\\n\\nfor(i=o;i<=n-1;i++)\\n\\n{\\n\\n\\tcin>>a[i];\\n\\n}\\n\\n\\tfor (k=1; k<=n-1; k++)\\n\\n\\t{\\n\\n\\t\\ttemp=a[k];\\n\\n\\t\\tj=k-1;\\n\\n\\t\\twhile((temp < a[j]) && (j>=0))\\n\\n\\t\\t{\\n\\n\\t\\t\\ta[j+1] = a[j];\\n\\n\\t\\t\\tj = j-1;\\n\\n\\t\\t}\\n\\n\\t\\ta[j+1] = temp;\\n\\n}\\n\\n\\t\\n\\n\\t\\n\\n\\tcout<<”after sorting :  \\\\n“;\\n\\n\\tfor(i=0 ; i\\n\\nvoid merge(int a[], int mid, int low, int high){\\n\\n\\tint i, j, k, b[100];\\n\\n\\ti=low;\\n\\n    j=mid+1;\\n\\n\\tk=low;\\n\\n\\twhile(i<=mid and j<=high){\\n\\n    \\tif (a[i]\\n\\nvoid swap(int *p, int *yp)\\n\\n{\\n\\n\\tint temp = *p;\\n\\n\\t*p = *yp;\\n\\n\\t*yp = temp;\\n\\n}\\n\\n \\n\\nvoid selecton_sort(int a[], int n){ int i, j; int s;\\n\\n\\tfor ( i=0;i'"
      ]
     },
     "execution_count": 2,
     "metadata": {},
     "output_type": "execute_result"
    }
   ],
   "source": [
    "text"
   ]
  },
  {
   "cell_type": "code",
   "execution_count": 43,
   "id": "409ef11d",
   "metadata": {},
   "outputs": [],
   "source": [
    "a"
   ]
  },
  {
   "cell_type": "code",
   "execution_count": 44,
   "id": "156f7692",
   "metadata": {},
   "outputs": [
    {
     "name": "stdout",
     "output_type": "stream",
     "text": [
      "Collecting docx\n",
      "  Downloading docx-0.2.4.tar.gz (54 kB)\n",
      "     ---------------------------------------- 54.9/54.9 kB 3.0 MB/s eta 0:00:00\n",
      "  Preparing metadata (setup.py): started\n",
      "  Preparing metadata (setup.py): finished with status 'done'\n",
      "Requirement already satisfied: lxml in c:\\users\\inaze\\appdata\\local\\programs\\python\\python310\\lib\\site-packages (from docx) (4.9.1)\n",
      "Requirement already satisfied: Pillow>=2.0 in c:\\users\\inaze\\appdata\\local\\programs\\python\\python310\\lib\\site-packages (from docx) (9.1.0)\n",
      "Building wheels for collected packages: docx\n",
      "  Building wheel for docx (setup.py): started\n",
      "  Building wheel for docx (setup.py): finished with status 'done'\n",
      "  Created wheel for docx: filename=docx-0.2.4-py3-none-any.whl size=53924 sha256=379a9a64724333d1e18377bbda1198297589f2610151506e404ed2aaa465d5cf\n",
      "  Stored in directory: c:\\users\\inaze\\appdata\\local\\pip\\cache\\wheels\\34\\71\\d1\\6627e591572f0d8f43d326046644eaf8a7266f52d35fb71afc\n",
      "Successfully built docx\n",
      "Installing collected packages: docx\n",
      "Successfully installed docx-0.2.4\n",
      "Note: you may need to restart the kernel to use updated packages.\n"
     ]
    }
   ],
   "source": []
  },
  {
   "cell_type": "code",
   "execution_count": 45,
   "id": "b3dd4ef1",
   "metadata": {},
   "outputs": [
    {
     "name": "stdout",
     "output_type": "stream",
     "text": [
      "Collecting docxpy\n",
      "  Downloading docxpy-0.8.5.tar.gz (4.1 kB)\n",
      "  Preparing metadata (setup.py): started\n",
      "  Preparing metadata (setup.py): finished with status 'done'\n",
      "Building wheels for collected packages: docxpy\n",
      "  Building wheel for docxpy (setup.py): started\n",
      "  Building wheel for docxpy (setup.py): finished with status 'done'\n",
      "  Created wheel for docxpy: filename=docxpy-0.8.5-py3-none-any.whl size=5001 sha256=53d176e7595be62cb3771ee5003ac542ac5cebb766a1126fe0173c5e7d2f70d5\n",
      "  Stored in directory: c:\\users\\inaze\\appdata\\local\\pip\\cache\\wheels\\ff\\61\\99\\ac42204be6aa37f2156c914c3ae207d129bbea00a74c211bff\n",
      "Successfully built docxpy\n",
      "Installing collected packages: docxpy\n",
      "Successfully installed docxpy-0.8.5\n",
      "Note: you may need to restart the kernel to use updated packages.\n"
     ]
    }
   ],
   "source": []
  },
  {
   "cell_type": "code",
   "execution_count": null,
   "id": "2353fe19",
   "metadata": {},
   "outputs": [],
   "source": []
  }
 ],
 "metadata": {
  "kernelspec": {
   "display_name": "Python 3 (ipykernel)",
   "language": "python",
   "name": "python3"
  },
  "language_info": {
   "codemirror_mode": {
    "name": "ipython",
    "version": 3
   },
   "file_extension": ".py",
   "mimetype": "text/x-python",
   "name": "python",
   "nbconvert_exporter": "python",
   "pygments_lexer": "ipython3",
   "version": "3.10.4"
  }
 },
 "nbformat": 4,
 "nbformat_minor": 5
}
