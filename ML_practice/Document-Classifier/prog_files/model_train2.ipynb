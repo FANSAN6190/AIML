{
 "cells": [
  {
   "cell_type": "code",
   "execution_count": 1,
   "id": "2fb93505",
   "metadata": {},
   "outputs": [
    {
     "name": "stderr",
     "output_type": "stream",
     "text": [
      "2023-02-05 09:35:06.953427: I tensorflow/core/platform/cpu_feature_guard.cc:193] This TensorFlow binary is optimized with oneAPI Deep Neural Network Library (oneDNN) to use the following CPU instructions in performance-critical operations:  AVX2 FMA\n",
      "To enable them in other operations, rebuild TensorFlow with the appropriate compiler flags.\n",
      "2023-02-05 09:35:07.266020: W tensorflow/compiler/xla/stream_executor/platform/default/dso_loader.cc:64] Could not load dynamic library 'libcudart.so.11.0'; dlerror: libcudart.so.11.0: cannot open shared object file: No such file or directory\n",
      "2023-02-05 09:35:07.266038: I tensorflow/compiler/xla/stream_executor/cuda/cudart_stub.cc:29] Ignore above cudart dlerror if you do not have a GPU set up on your machine.\n",
      "2023-02-05 09:35:08.609003: W tensorflow/compiler/xla/stream_executor/platform/default/dso_loader.cc:64] Could not load dynamic library 'libnvinfer.so.7'; dlerror: libnvinfer.so.7: cannot open shared object file: No such file or directory\n",
      "2023-02-05 09:35:08.609338: W tensorflow/compiler/xla/stream_executor/platform/default/dso_loader.cc:64] Could not load dynamic library 'libnvinfer_plugin.so.7'; dlerror: libnvinfer_plugin.so.7: cannot open shared object file: No such file or directory\n",
      "2023-02-05 09:35:08.609346: W tensorflow/compiler/tf2tensorrt/utils/py_utils.cc:38] TF-TRT Warning: Cannot dlopen some TensorRT libraries. If you would like to use Nvidia GPU with TensorRT, please make sure the missing libraries mentioned above are installed properly.\n"
     ]
    }
   ],
   "source": [
    "import tensorflow as tf\n",
    "from matplotlib import pyplot as plt\n",
    "from tensorflow.keras.models import Model\n",
    "from tensorflow.keras.preprocessing import image\n",
    "from tensorflow.keras.preprocessing.image import ImageDataGenerator\n",
    "from tensorflow.keras.models import Sequential\n",
    "from tensorflow.keras.layers import Dense, Conv2D,Dropout,Flatten,MaxPooling2D\n",
    "#from tensorflow.keras import layers \n",
    "import numpy as np\n",
    "import pandas as pd\n",
    "import os\n",
    "import cv2\n",
    "import matplotlib.pyplot as plt"
   ]
  },
  {
   "cell_type": "code",
   "execution_count": 2,
   "id": "dcdd28c3",
   "metadata": {},
   "outputs": [],
   "source": [
    "train_path=\"/home/fansan/Desktop/Document-Classifier/Dataset/data/train/\"\n",
    "test_path=\"/home/fansan/Desktop/Document-Classifier/Dataset/data/test/\"\n",
    "val_path=\"/home/fansan/Desktop/Document-Classifier/Dataset/data/valid/\""
   ]
  },
  {
   "cell_type": "code",
   "execution_count": null,
   "id": "3dbd50ec",
   "metadata": {
    "scrolled": true
   },
   "outputs": [],
   "source": [
    "\n"
   ]
  },
  {
   "cell_type": "code",
   "execution_count": 3,
   "id": "08737e69",
   "metadata": {},
   "outputs": [],
   "source": [
    "x_train=[]\n",
    "for folder in os.listdir(train_path):\n",
    "    sub_path=train_path+\"/\"+folder\n",
    "    for img in os.listdir(sub_path):\n",
    "        image_path=sub_path+\"/\"+img\n",
    "        img_arr=cv2.imread(image_path)\n",
    "        img_arr=cv2.resize(img_arr,(224,224))\n",
    "        x_train.append(img_arr)\n",
    "\n",
    "x_test=[]\n",
    "for folder in os.listdir(test_path):\n",
    "    sub_path=test_path+\"/\"+folder\n",
    "    for img in os.listdir(sub_path):\n",
    "        image_path=sub_path+\"/\"+img\n",
    "        img_arr=cv2.imread(image_path)\n",
    "        img_arr=cv2.resize(img_arr,(224,224))\n",
    "        x_test.append(img_arr)\n",
    "\n",
    "x_val=[]\n",
    "for folder in os.listdir(val_path):\n",
    "    sub_path=val_path+\"/\"+folder\n",
    "    for img in os.listdir(sub_path):\n",
    "        image_path=sub_path+\"/\"+img\n",
    "        img_arr=cv2.imread(image_path)\n",
    "        img_arr=cv2.resize(img_arr,(224,224))\n",
    "        x_val.append(img_arr)"
   ]
  },
  {
   "cell_type": "code",
   "execution_count": 4,
   "id": "ab988607",
   "metadata": {},
   "outputs": [],
   "source": [
    "train_x=np.array(x_train)\n",
    "test_x=np.array(x_test)\n",
    "val_x=np.array(x_val)"
   ]
  },
  {
   "cell_type": "code",
   "execution_count": 5,
   "id": "3afb78f2",
   "metadata": {},
   "outputs": [],
   "source": [
    "train_x=train_x/255.0\n",
    "test_x=test_x/255.0\n",
    "val_x=val_x/255.0"
   ]
  },
  {
   "cell_type": "code",
   "execution_count": 6,
   "id": "cf3cc2ff",
   "metadata": {},
   "outputs": [],
   "source": [
    "train_datagen = ImageDataGenerator(rescale = 1./255)\n",
    "test_datagen = ImageDataGenerator(rescale = 1./255)\n",
    "val_datagen = ImageDataGenerator(rescale = 1./255)\n"
   ]
  },
  {
   "cell_type": "code",
   "execution_count": 7,
   "id": "4818f4b6",
   "metadata": {},
   "outputs": [
    {
     "name": "stdout",
     "output_type": "stream",
     "text": [
      "Found 45 images belonging to 2 classes.\n",
      "Found 26 images belonging to 2 classes.\n",
      "Found 18 images belonging to 2 classes.\n"
     ]
    }
   ],
   "source": [
    "training_set = train_datagen.flow_from_directory(train_path,\n",
    "                                                 target_size = (224, 224),\n",
    "                                                 batch_size = 32,\n",
    "                                                 class_mode = 'sparse')\n",
    "test_set = test_datagen.flow_from_directory(test_path,\n",
    "                                            target_size = (224, 224),\n",
    "                                            batch_size = 32,\n",
    "                                            class_mode = 'sparse')\n",
    "val_set = val_datagen.flow_from_directory(val_path,\n",
    "                                            target_size = (224, 224),\n",
    "                                            batch_size = 32,\n",
    "                                            class_mode = 'sparse')"
   ]
  },
  {
   "cell_type": "code",
   "execution_count": 8,
   "id": "a4c35ec2",
   "metadata": {},
   "outputs": [],
   "source": [
    "train_y=training_set.classes\n",
    "test_y=test_set.classes\n",
    "val_y=val_set.classes"
   ]
  },
  {
   "cell_type": "code",
   "execution_count": 9,
   "id": "1b939cab",
   "metadata": {},
   "outputs": [
    {
     "data": {
      "text/plain": [
       "{'aadhar': 0, 'pan': 1}"
      ]
     },
     "execution_count": 9,
     "metadata": {},
     "output_type": "execute_result"
    }
   ],
   "source": [
    "training_set.class_indices"
   ]
  },
  {
   "cell_type": "code",
   "execution_count": 10,
   "id": "f879aed5",
   "metadata": {},
   "outputs": [
    {
     "data": {
      "text/plain": [
       "((45,), (26,), (18,))"
      ]
     },
     "execution_count": 10,
     "metadata": {},
     "output_type": "execute_result"
    }
   ],
   "source": [
    "train_y.shape,test_y.shape,val_y.shape"
   ]
  },
  {
   "cell_type": "code",
   "execution_count": 11,
   "id": "d05e542a",
   "metadata": {},
   "outputs": [
    {
     "name": "stderr",
     "output_type": "stream",
     "text": [
      "2023-02-05 09:35:12.379965: W tensorflow/compiler/xla/stream_executor/platform/default/dso_loader.cc:64] Could not load dynamic library 'libcuda.so.1'; dlerror: libcuda.so.1: cannot open shared object file: No such file or directory; LD_LIBRARY_PATH: /home/fansan/anaconda3/lib/python3.9/site-packages/cv2/../../lib64:\n",
      "2023-02-05 09:35:12.380358: W tensorflow/compiler/xla/stream_executor/cuda/cuda_driver.cc:265] failed call to cuInit: UNKNOWN ERROR (303)\n",
      "2023-02-05 09:35:12.380406: I tensorflow/compiler/xla/stream_executor/cuda/cuda_diagnostics.cc:156] kernel driver does not appear to be running on this host (fansan-HP-Laptop-15s-du1xxx): /proc/driver/nvidia/version does not exist\n",
      "2023-02-05 09:35:12.381302: I tensorflow/core/platform/cpu_feature_guard.cc:193] This TensorFlow binary is optimized with oneAPI Deep Neural Network Library (oneDNN) to use the following CPU instructions in performance-critical operations:  AVX2 FMA\n",
      "To enable them in other operations, rebuild TensorFlow with the appropriate compiler flags.\n",
      "2023-02-05 09:35:12.465369: W tensorflow/tsl/framework/cpu_allocator_impl.cc:82] Allocation of 205520896 exceeds 10% of free system memory.\n",
      "2023-02-05 09:35:12.528780: W tensorflow/tsl/framework/cpu_allocator_impl.cc:82] Allocation of 205520896 exceeds 10% of free system memory.\n",
      "2023-02-05 09:35:12.574818: W tensorflow/tsl/framework/cpu_allocator_impl.cc:82] Allocation of 205520896 exceeds 10% of free system memory.\n"
     ]
    },
    {
     "name": "stdout",
     "output_type": "stream",
     "text": [
      "Model: \"sequential\"\n",
      "_________________________________________________________________\n",
      " Layer (type)                Output Shape              Param #   \n",
      "=================================================================\n",
      " conv2d (Conv2D)             (None, 224, 224, 32)      896       \n",
      "                                                                 \n",
      " max_pooling2d (MaxPooling2D  (None, 112, 112, 32)     0         \n",
      " )                                                               \n",
      "                                                                 \n",
      " dropout (Dropout)           (None, 112, 112, 32)      0         \n",
      "                                                                 \n",
      " conv2d_1 (Conv2D)           (None, 112, 112, 64)      18496     \n",
      "                                                                 \n",
      " max_pooling2d_1 (MaxPooling  (None, 56, 56, 64)       0         \n",
      " 2D)                                                             \n",
      "                                                                 \n",
      " dropout_1 (Dropout)         (None, 56, 56, 64)        0         \n",
      "                                                                 \n",
      " flatten (Flatten)           (None, 200704)            0         \n",
      "                                                                 \n",
      " dense (Dense)               (None, 256)               51380480  \n",
      "                                                                 \n",
      " dropout_2 (Dropout)         (None, 256)               0         \n",
      "                                                                 \n",
      " dense_1 (Dense)             (None, 2)                 514       \n",
      "                                                                 \n",
      "=================================================================\n",
      "Total params: 51,400,386\n",
      "Trainable params: 51,400,386\n",
      "Non-trainable params: 0\n",
      "_________________________________________________________________\n"
     ]
    }
   ],
   "source": [
    "\n",
    "#model = Sequential([\n",
    "#  layers.Conv2D(16, (3,3), activation='relu', input_shape=(224,224,3)),\n",
    "#  layers.MaxPooling2D(2,2),\n",
    "#  layers.Conv2D(32, (3,3), activation='relu'),\n",
    "#  layers.MaxPooling2D(2,2),\n",
    "#  layers.Conv2D(64, (3,3), activation='relu'),\n",
    "#  layers.MaxPooling2D(2,2),\n",
    "#  layers.Flatten(),\n",
    "#  layers.Dense(1024, activation='relu'),\n",
    "#  layers.Dense(2,activation='sigmoid')\n",
    "#])\n",
    "#################################################\n",
    "#model=Sequential()\n",
    "#model.add(Conv2D(28,kernel_size=(3,3),input_shape=(224,224,3)))\n",
    "#model.add(MaxPooling2D(pool_size=(2,2)))\n",
    "#model.add(Flatten())\n",
    "#model.add(Dense(128,activation=tf.nn.relu))\n",
    "#model.add(Dropout(0.1))\n",
    "#model.add(Dense(2,activation=tf.nn.softmax))\n",
    "#################################################\n",
    "model=Sequential()\n",
    "model.add(Conv2D(32,(3,3),padding='SAME',activation='relu',input_shape=(224,224,3)))\n",
    "model.add(MaxPooling2D(pool_size=(2,2)))\n",
    "model.add(Dropout(0.5))\n",
    "\n",
    "model.add(Conv2D(64,(3,3),padding='SAME',activation='relu'))\n",
    "model.add(MaxPooling2D(pool_size=(2,2)))\n",
    "model.add(Dropout(0.5))\n",
    "\n",
    "model.add(Flatten())\n",
    "\n",
    "\n",
    "model.add(Dense(256,activation='relu'))\n",
    "model.add(Dropout(0.5))\n",
    "model.add(Dense(2,activation='softmax'))\n",
    "model.summary()\n",
    "\n",
    "\n"
   ]
  },
  {
   "cell_type": "code",
   "execution_count": 12,
   "id": "5ee9b644",
   "metadata": {},
   "outputs": [],
   "source": [
    "model.compile(\n",
    "  loss='sparse_categorical_crossentropy',\n",
    "  optimizer=\"adam\",\n",
    "  metrics=['accuracy']\n",
    ")"
   ]
  },
  {
   "cell_type": "code",
   "execution_count": 13,
   "id": "9291ccff",
   "metadata": {},
   "outputs": [],
   "source": [
    "from tensorflow.keras.callbacks import EarlyStopping\n",
    "early_stop=EarlyStopping(monitor='val_loss',mode='min',verbose=1,patience=5)"
   ]
  },
  {
   "cell_type": "code",
   "execution_count": 24,
   "id": "5a3769ac",
   "metadata": {},
   "outputs": [
    {
     "name": "stdout",
     "output_type": "stream",
     "text": [
      "Epoch 1/8\n",
      "2/2 [==============================] - 5s 2s/step - loss: 0.9070 - accuracy: 0.6000 - val_loss: 0.6937 - val_accuracy: 0.4444\n",
      "Epoch 2/8\n",
      "2/2 [==============================] - 4s 3s/step - loss: 0.7414 - accuracy: 0.6000 - val_loss: 0.6945 - val_accuracy: 0.4444\n",
      "Epoch 3/8\n",
      "2/2 [==============================] - 4s 2s/step - loss: 0.7035 - accuracy: 0.5556 - val_loss: 0.6938 - val_accuracy: 0.4444\n",
      "Epoch 4/8\n",
      "2/2 [==============================] - 4s 3s/step - loss: 0.5711 - accuracy: 0.7778 - val_loss: 0.6918 - val_accuracy: 0.5556\n",
      "Epoch 5/8\n",
      "2/2 [==============================] - 4s 2s/step - loss: 0.4949 - accuracy: 0.8222 - val_loss: 0.6853 - val_accuracy: 0.8333\n",
      "Epoch 6/8\n",
      "2/2 [==============================] - 4s 2s/step - loss: 0.5650 - accuracy: 0.6000 - val_loss: 0.6751 - val_accuracy: 0.9444\n",
      "Epoch 7/8\n",
      "2/2 [==============================] - 4s 2s/step - loss: 0.4750 - accuracy: 0.6889 - val_loss: 0.6835 - val_accuracy: 0.8333\n",
      "Epoch 8/8\n",
      "2/2 [==============================] - 4s 2s/step - loss: 0.4199 - accuracy: 0.9111 - val_loss: 0.6890 - val_accuracy: 0.7222\n"
     ]
    }
   ],
   "source": [
    "# fit the model\n",
    "#history = model.fit(\n",
    "#  np.array(train_x),\n",
    "#  np.array(train_y),\n",
    "#  validation_data=(val_x,val_y),\n",
    "#  epochs=15,\n",
    "#  callbacks=[early_stop],\n",
    "#  batch_size=32,shuffle=True)\n",
    "\n",
    "history=model.fit(training_set,\n",
    "                  epochs=8,\n",
    "                  validation_data=val_set,\n",
    "                  callbacks=[early_stop],\n",
    "                  batch_size=32,\n",
    "                  shuffle=True\n",
    ")"
   ]
  },
  {
   "cell_type": "code",
   "execution_count": 25,
   "id": "e9aaaf5e",
   "metadata": {},
   "outputs": [
    {
     "data": {
      "image/png": "[encoded data removed]",
      "text/plain": [
       "<Figure size 640x480 with 1 Axes>"
      ]
     },
     "metadata": {},
     "output_type": "display_data"
    }
   ],
   "source": [
    "# accuracies\n",
    "plt.plot(history.history['accuracy'], label='train acc')\n",
    "plt.plot(history.history['val_accuracy'], label='val acc')\n",
    "plt.legend()\n",
    "plt.savefig('acc1.png')\n",
    "plt.show()"
   ]
  },
  {
   "cell_type": "code",
   "execution_count": 26,
   "id": "b9e36f21",
   "metadata": {},
   "outputs": [
    {
     "data": {
      "image/png": "[encoded data removed]",
      "text/plain": [
       "<Figure size 640x480 with 1 Axes>"
      ]
     },
     "metadata": {},
     "output_type": "display_data"
    }
   ],
   "source": [
    "# loss\n",
    "plt.plot(history.history['loss'], label='train loss')\n",
    "plt.plot(history.history['val_loss'], label='val loss')\n",
    "plt.legend()\n",
    "plt.savefig('loss1.png')\n",
    "plt.show()"
   ]
  },
  {
   "cell_type": "code",
   "execution_count": 27,
   "id": "62a1332f",
   "metadata": {},
   "outputs": [],
   "source": [
    "model.save('doc_datamodel.h5')"
   ]
  },
  {
   "cell_type": "code",
   "execution_count": 28,
   "id": "de63302d",
   "metadata": {},
   "outputs": [],
   "source": [
    "##############################################################\n",
    "import cv2\n",
    "from tensorflow.keras.models import load_model\n",
    "from tensorflow.keras.utils import load_img,img_to_array\n",
    "import numpy as np\n",
    "\n",
    "model=load_model('doc_datamodel.h5')\n",
    "img_width,img_height=224, 224"
   ]
  },
  {
   "cell_type": "code",
   "execution_count": null,
   "id": "e149a312",
   "metadata": {},
   "outputs": [],
   "source": []
  },
  {
   "cell_type": "code",
   "execution_count": 29,
   "id": "8bd2957a",
   "metadata": {},
   "outputs": [
    {
     "name": "stdout",
     "output_type": "stream",
     "text": [
      "Evaluate model on test data\n",
      "1/1 [==============================] - 1s 533ms/step - loss: 0.6913 - accuracy: 0.6154\n",
      "test loss, test acc: [0.6912574172019958, 0.6153846383094788]\n"
     ]
    }
   ],
   "source": [
    "print(\"Evaluate model on test data\")\n",
    "results = model.evaluate(test_x, test_y, batch_size=32)\n",
    "print(\"test loss, test acc:\", results)"
   ]
  },
  {
   "cell_type": "code",
   "execution_count": 30,
   "id": "6ad88355",
   "metadata": {},
   "outputs": [],
   "source": [
    "##prediction##s\n",
    "#pred_img.reshape(224,224)\n",
    "#x_pred=np.array([pred_img])\n",
    "#prediction=model.predict(x_pred)\n",
    "#print(prediction)\n"
   ]
  },
  {
   "cell_type": "code",
   "execution_count": 31,
   "id": "16cc44b9",
   "metadata": {},
   "outputs": [],
   "source": [
    "#y_pred=np.argmax(x_pred,axis=1)"
   ]
  },
  {
   "cell_type": "code",
   "execution_count": 33,
   "id": "609da324",
   "metadata": {
    "scrolled": false
   },
   "outputs": [
    {
     "name": "stdout",
     "output_type": "stream",
     "text": [
      "test02.jpeg\n",
      "1/1 [==============================] - 0s 82ms/step\n",
      "1\n",
      "test01.jpeg\n",
      "1/1 [==============================] - 0s 68ms/step\n",
      "0\n",
      "test11.jpeg\n",
      "1/1 [==============================] - 0s 47ms/step\n",
      "0\n",
      "test00.jpeg\n",
      "1/1 [==============================] - 0s 76ms/step\n",
      "1\n",
      "test10.jpeg\n",
      "1/1 [==============================] - 0s 45ms/step\n",
      "1\n",
      "test12.jpeg\n",
      "1/1 [==============================] - 0s 57ms/step\n",
      "1\n"
     ]
    }
   ],
   "source": [
    "pred_img=\"/home/fansan/Desktop/Document-Classifier/Dataset/testing/\"\n",
    "\n",
    "for img in os.listdir(pred_img):\n",
    "    img_path=pred_img+img\n",
    "    print(img)\n",
    "    img_arr=cv2.imread(img_path)\n",
    "    #print(pred_img.shape)\n",
    "    img_arr=cv2.resize(img_arr,(224, 224),3)\n",
    "    #print(pred_img.shape)\n",
    "    #print(type(pred_img))\n",
    "    img_arr=img_to_array(img_arr)\n",
    "    img_arr=np.expand_dims(img_arr,axis=0)\n",
    "    predictions=model.predict(img_arr)\n",
    "    p=predictions.argmax()\n",
    "    print(p)"
   ]
  },
  {
   "cell_type": "code",
   "execution_count": 23,
   "id": "71e8871c",
   "metadata": {},
   "outputs": [
    {
     "name": "stdout",
     "output_type": "stream",
     "text": [
      "/home/fansan/Desktop/Document-Classifier/Dataset/testing/\n"
     ]
    }
   ],
   "source": [
    "print(pred_img)"
   ]
  },
  {
   "cell_type": "code",
   "execution_count": null,
   "id": "6c805b1b",
   "metadata": {},
   "outputs": [],
   "source": []
  },
  {
   "cell_type": "code",
   "execution_count": 3,
   "id": "2d4f795e",
   "metadata": {},
   "outputs": [
    {
     "ename": "NameError",
     "evalue": "name 'scale' is not defined",
     "output_type": "error",
     "traceback": [
      "\u001b[0;31m---------------------------------------------------------------------------\u001b[0m",
      "\u001b[0;31mNameError\u001b[0m                                 Traceback (most recent call last)",
      "\u001b[0;32m/tmp/ipykernel_8595/2077776462.py\u001b[0m in \u001b[0;36m<module>\u001b[0;34m\u001b[0m\n\u001b[1;32m     11\u001b[0m     \u001b[0mresponse\u001b[0m\u001b[0;34m,\u001b[0m\u001b[0mcolor_img\u001b[0m \u001b[0;34m=\u001b[0m \u001b[0mvideo_capture\u001b[0m\u001b[0;34m.\u001b[0m\u001b[0mread\u001b[0m\u001b[0;34m(\u001b[0m\u001b[0;34m)\u001b[0m\u001b[0;34m\u001b[0m\u001b[0;34m\u001b[0m\u001b[0m\n\u001b[1;32m     12\u001b[0m \u001b[0;34m\u001b[0m\u001b[0m\n\u001b[0;32m---> 13\u001b[0;31m     \u001b[0mwidth\u001b[0m\u001b[0;34m=\u001b[0m\u001b[0mint\u001b[0m\u001b[0;34m(\u001b[0m\u001b[0mcolor_img\u001b[0m\u001b[0;34m.\u001b[0m\u001b[0mshape\u001b[0m\u001b[0;34m[\u001b[0m\u001b[0;36m1\u001b[0m\u001b[0;34m]\u001b[0m\u001b[0;34m*\u001b[0m\u001b[0mscale\u001b[0m\u001b[0;34m/\u001b[0m\u001b[0;36m100\u001b[0m\u001b[0;34m)\u001b[0m\u001b[0;34m\u001b[0m\u001b[0;34m\u001b[0m\u001b[0m\n\u001b[0m\u001b[1;32m     14\u001b[0m     \u001b[0mheight\u001b[0m\u001b[0;34m=\u001b[0m\u001b[0mint\u001b[0m\u001b[0;34m(\u001b[0m\u001b[0mcolor_img\u001b[0m\u001b[0;34m.\u001b[0m\u001b[0mshape\u001b[0m\u001b[0;34m[\u001b[0m\u001b[0;36m0\u001b[0m\u001b[0;34m]\u001b[0m\u001b[0;34m*\u001b[0m\u001b[0mscale\u001b[0m\u001b[0;34m/\u001b[0m\u001b[0;36m100\u001b[0m\u001b[0;34m)\u001b[0m\u001b[0;34m\u001b[0m\u001b[0;34m\u001b[0m\u001b[0m\n\u001b[1;32m     15\u001b[0m     \u001b[0mdim\u001b[0m \u001b[0;34m=\u001b[0m \u001b[0;34m(\u001b[0m\u001b[0mwidth\u001b[0m\u001b[0;34m,\u001b[0m\u001b[0mheight\u001b[0m\u001b[0;34m)\u001b[0m\u001b[0;34m\u001b[0m\u001b[0;34m\u001b[0m\u001b[0m\n",
      "\u001b[0;31mNameError\u001b[0m: name 'scale' is not defined"
     ]
    }
   ],
   "source": [
    "import numpy as np\n",
    "import cv2\n",
    "\n",
    "video_capture = cv2.VideoCapture(0)\n",
    "#video_capture = cv2.VideoCapture('cat1/catkin_ws/src/ros_essentials_cpp/src/topic03_perception/video/ros.mp4')\n",
    "\n",
    "while(True):\n",
    "    ret,frame=video_capture.read()\n",
    "    frame = cv2.resize(frame, (0,0), fx=1,fy=1)\n",
    "    \n",
    "    response,color_img = video_capture.read()\n",
    "    \n",
    "    width=int(color_img.shape[1]*scale/100)\n",
    "    height=int(color_img.shape[0]*scale/100)\n",
    "    dim = (width,height)\n",
    "    \n",
    "    color_img=cv2.resize(color_img,dim,interpolation=cv2.INTER_AREA)\n",
    "    color_face=color_img[y:y+h,x:x+w]\n",
    "    cv2.imwrite('input/%d%dface.jpg'%(img_count_full,img_count),color_face)\n",
    "    img=load_img('input/%d%dface.jpg'%(img_count_full,img_count),target_size=(img_width,img_height))  \n",
    "    \n",
    "    cv2.imshow('frame',frame)\n",
    "    if cv2.waitKey(1) & 0xFF == ord('q'):\n",
    "        break\n",
    "\n",
    "video_capture.release()\n",
    "cv2.destroyAllWindows()"
   ]
  },
  {
   "cell_type": "code",
   "execution_count": null,
   "id": "cee9e82c",
   "metadata": {},
   "outputs": [],
   "source": []
  }
 ],
 "metadata": {
  "kernelspec": {
   "display_name": "Python 3 (ipykernel)",
   "language": "python",
   "name": "python3"
  },
  "language_info": {
   "codemirror_mode": {
    "name": "ipython",
    "version": 3
   },
   "file_extension": ".py",
   "mimetype": "text/x-python",
   "name": "python",
   "nbconvert_exporter": "python",
   "pygments_lexer": "ipython3",
   "version": "3.10.6"
  }
 },
 "nbformat": 4,
 "nbformat_minor": 5
}
