{
 "cells": [
  {
   "cell_type": "code",
   "execution_count": 1,
   "id": "975e0c43",
   "metadata": {},
   "outputs": [],
   "source": [
    "import numpy as np\n",
    "import polars as pl\n",
    "\n",
    "from sklearn.model_selection import train_test_split\n"
   ]
  },
  {
   "cell_type": "code",
   "execution_count": 2,
   "id": "85346914",
   "metadata": {},
   "outputs": [
    {
     "data": {
      "text/html": [
       "<div><style>\n",
       ".dataframe > thead > tr > th,\n",
       ".dataframe > tbody > tr > td {\n",
       "  text-align: right;\n",
       "}\n",
       "</style>\n",
       "<small>shape: (5, 12)</small><table border=\"1\" class=\"dataframe\"><thead><tr><th>PassengerId</th><th>Survived</th><th>Pclass</th><th>Name</th><th>Sex</th><th>Age</th><th>SibSp</th><th>Parch</th><th>Ticket</th><th>Fare</th><th>Cabin</th><th>Embarked</th></tr><tr><td>i64</td><td>i64</td><td>i64</td><td>str</td><td>str</td><td>f64</td><td>i64</td><td>i64</td><td>str</td><td>f64</td><td>str</td><td>str</td></tr></thead><tbody><tr><td>892</td><td>0</td><td>3</td><td>&quot;Kelly, Mr. Jam…</td><td>&quot;male&quot;</td><td>34.5</td><td>0</td><td>0</td><td>&quot;330911&quot;</td><td>7.8292</td><td>null</td><td>&quot;Q&quot;</td></tr><tr><td>893</td><td>1</td><td>3</td><td>&quot;Wilkes, Mrs. J…</td><td>&quot;female&quot;</td><td>47.0</td><td>1</td><td>0</td><td>&quot;363272&quot;</td><td>7.0</td><td>null</td><td>&quot;S&quot;</td></tr><tr><td>894</td><td>0</td><td>2</td><td>&quot;Myles, Mr. Tho…</td><td>&quot;male&quot;</td><td>62.0</td><td>0</td><td>0</td><td>&quot;240276&quot;</td><td>9.6875</td><td>null</td><td>&quot;Q&quot;</td></tr><tr><td>895</td><td>0</td><td>3</td><td>&quot;Wirz, Mr. Albe…</td><td>&quot;male&quot;</td><td>27.0</td><td>0</td><td>0</td><td>&quot;315154&quot;</td><td>8.6625</td><td>null</td><td>&quot;S&quot;</td></tr><tr><td>896</td><td>1</td><td>3</td><td>&quot;Hirvonen, Mrs.…</td><td>&quot;female&quot;</td><td>22.0</td><td>1</td><td>1</td><td>&quot;3101298&quot;</td><td>12.2875</td><td>null</td><td>&quot;S&quot;</td></tr></tbody></table></div>"
      ],
      "text/plain": [
       "shape: (5, 12)\n",
       "┌─────────────┬──────────┬────────┬─────────────────────┬───┬─────────┬─────────┬───────┬──────────┐\n",
       "│ PassengerId ┆ Survived ┆ Pclass ┆ Name                ┆ … ┆ Ticket  ┆ Fare    ┆ Cabin ┆ Embarked │\n",
       "│ ---         ┆ ---      ┆ ---    ┆ ---                 ┆   ┆ ---     ┆ ---     ┆ ---   ┆ ---      │\n",
       "│ i64         ┆ i64      ┆ i64    ┆ str                 ┆   ┆ str     ┆ f64     ┆ str   ┆ str      │\n",
       "╞═════════════╪══════════╪════════╪═════════════════════╪═══╪═════════╪═════════╪═══════╪══════════╡\n",
       "│ 892         ┆ 0        ┆ 3      ┆ Kelly, Mr. James    ┆ … ┆ 330911  ┆ 7.8292  ┆ null  ┆ Q        │\n",
       "│ 893         ┆ 1        ┆ 3      ┆ Wilkes, Mrs. James  ┆ … ┆ 363272  ┆ 7.0     ┆ null  ┆ S        │\n",
       "│             ┆          ┆        ┆ (Ellen Needs)       ┆   ┆         ┆         ┆       ┆          │\n",
       "│ 894         ┆ 0        ┆ 2      ┆ Myles, Mr. Thomas   ┆ … ┆ 240276  ┆ 9.6875  ┆ null  ┆ Q        │\n",
       "│             ┆          ┆        ┆ Francis             ┆   ┆         ┆         ┆       ┆          │\n",
       "│ 895         ┆ 0        ┆ 3      ┆ Wirz, Mr. Albert    ┆ … ┆ 315154  ┆ 8.6625  ┆ null  ┆ S        │\n",
       "│ 896         ┆ 1        ┆ 3      ┆ Hirvonen, Mrs.      ┆ … ┆ 3101298 ┆ 12.2875 ┆ null  ┆ S        │\n",
       "│             ┆          ┆        ┆ Alexander (Helga …  ┆   ┆         ┆         ┆       ┆          │\n",
       "└─────────────┴──────────┴────────┴─────────────────────┴───┴─────────┴─────────┴───────┴──────────┘"
      ]
     },
     "execution_count": 2,
     "metadata": {},
     "output_type": "execute_result"
    }
   ],
   "source": [
    "data=pl.read_csv('dataset_vs/tested.csv')\n",
    "data.head()"
   ]
  },
  {
   "cell_type": "code",
   "execution_count": 3,
   "id": "8a998991",
   "metadata": {},
   "outputs": [
    {
     "data": {
      "text/plain": [
       "<bound method DataFrame.glimpse of shape: (418, 12)\n",
       "┌─────────────┬──────────┬────────┬──────────────────┬───┬────────────┬─────────┬───────┬──────────┐\n",
       "│ PassengerId ┆ Survived ┆ Pclass ┆ Name             ┆ … ┆ Ticket     ┆ Fare    ┆ Cabin ┆ Embarked │\n",
       "│ ---         ┆ ---      ┆ ---    ┆ ---              ┆   ┆ ---        ┆ ---     ┆ ---   ┆ ---      │\n",
       "│ i64         ┆ i64      ┆ i64    ┆ str              ┆   ┆ str        ┆ f64     ┆ str   ┆ str      │\n",
       "╞═════════════╪══════════╪════════╪══════════════════╪═══╪════════════╪═════════╪═══════╪══════════╡\n",
       "│ 892         ┆ 0        ┆ 3      ┆ Kelly, Mr. James ┆ … ┆ 330911     ┆ 7.8292  ┆ null  ┆ Q        │\n",
       "│ 893         ┆ 1        ┆ 3      ┆ Wilkes, Mrs.     ┆ … ┆ 363272     ┆ 7.0     ┆ null  ┆ S        │\n",
       "│             ┆          ┆        ┆ James (Ellen     ┆   ┆            ┆         ┆       ┆          │\n",
       "│             ┆          ┆        ┆ Needs)           ┆   ┆            ┆         ┆       ┆          │\n",
       "│ 894         ┆ 0        ┆ 2      ┆ Myles, Mr.       ┆ … ┆ 240276     ┆ 9.6875  ┆ null  ┆ Q        │\n",
       "│             ┆          ┆        ┆ Thomas Francis   ┆   ┆            ┆         ┆       ┆          │\n",
       "│ 895         ┆ 0        ┆ 3      ┆ Wirz, Mr. Albert ┆ … ┆ 315154     ┆ 8.6625  ┆ null  ┆ S        │\n",
       "│ …           ┆ …        ┆ …      ┆ …                ┆ … ┆ …          ┆ …       ┆ …     ┆ …        │\n",
       "│ 1306        ┆ 1        ┆ 1      ┆ Oliva y Ocana,   ┆ … ┆ PC 17758   ┆ 108.9   ┆ C105  ┆ C        │\n",
       "│             ┆          ┆        ┆ Dona. Fermina    ┆   ┆            ┆         ┆       ┆          │\n",
       "│ 1307        ┆ 0        ┆ 3      ┆ Saether, Mr.     ┆ … ┆ SOTON/O.Q. ┆ 7.25    ┆ null  ┆ S        │\n",
       "│             ┆          ┆        ┆ Simon Sivertsen  ┆   ┆ 3101262    ┆         ┆       ┆          │\n",
       "│ 1308        ┆ 0        ┆ 3      ┆ Ware, Mr.        ┆ … ┆ 359309     ┆ 8.05    ┆ null  ┆ S        │\n",
       "│             ┆          ┆        ┆ Frederick        ┆   ┆            ┆         ┆       ┆          │\n",
       "│ 1309        ┆ 0        ┆ 3      ┆ Peter, Master.   ┆ … ┆ 2668       ┆ 22.3583 ┆ null  ┆ C        │\n",
       "│             ┆          ┆        ┆ Michael J        ┆   ┆            ┆         ┆       ┆          │\n",
       "└─────────────┴──────────┴────────┴──────────────────┴───┴────────────┴─────────┴───────┴──────────┘>"
      ]
     },
     "execution_count": 3,
     "metadata": {},
     "output_type": "execute_result"
    }
   ],
   "source": [
    "data.glimpse"
   ]
  },
  {
   "cell_type": "code",
   "execution_count": 4,
   "id": "e1b17fe5",
   "metadata": {},
   "outputs": [
    {
     "data": {
      "text/html": [
       "<div><style>\n",
       ".dataframe > thead > tr > th,\n",
       ".dataframe > tbody > tr > td {\n",
       "  text-align: right;\n",
       "}\n",
       "</style>\n",
       "<small>shape: (1, 12)</small><table border=\"1\" class=\"dataframe\"><thead><tr><th>PassengerId</th><th>Survived</th><th>Pclass</th><th>Name</th><th>Sex</th><th>Age</th><th>SibSp</th><th>Parch</th><th>Ticket</th><th>Fare</th><th>Cabin</th><th>Embarked</th></tr><tr><td>u32</td><td>u32</td><td>u32</td><td>u32</td><td>u32</td><td>u32</td><td>u32</td><td>u32</td><td>u32</td><td>u32</td><td>u32</td><td>u32</td></tr></thead><tbody><tr><td>0</td><td>0</td><td>0</td><td>0</td><td>0</td><td>86</td><td>0</td><td>0</td><td>0</td><td>1</td><td>327</td><td>0</td></tr></tbody></table></div>"
      ],
      "text/plain": [
       "shape: (1, 12)\n",
       "┌─────────────┬──────────┬────────┬──────┬───┬────────┬──────┬───────┬──────────┐\n",
       "│ PassengerId ┆ Survived ┆ Pclass ┆ Name ┆ … ┆ Ticket ┆ Fare ┆ Cabin ┆ Embarked │\n",
       "│ ---         ┆ ---      ┆ ---    ┆ ---  ┆   ┆ ---    ┆ ---  ┆ ---   ┆ ---      │\n",
       "│ u32         ┆ u32      ┆ u32    ┆ u32  ┆   ┆ u32    ┆ u32  ┆ u32   ┆ u32      │\n",
       "╞═════════════╪══════════╪════════╪══════╪═══╪════════╪══════╪═══════╪══════════╡\n",
       "│ 0           ┆ 0        ┆ 0      ┆ 0    ┆ … ┆ 0      ┆ 1    ┆ 327   ┆ 0        │\n",
       "└─────────────┴──────────┴────────┴──────┴───┴────────┴──────┴───────┴──────────┘"
      ]
     },
     "execution_count": 4,
     "metadata": {},
     "output_type": "execute_result"
    }
   ],
   "source": [
    "data.null_count()"
   ]
  },
  {
   "cell_type": "code",
   "execution_count": null,
   "id": "c05b54b6",
   "metadata": {},
   "outputs": [],
   "source": []
  },
  {
   "cell_type": "code",
   "execution_count": 5,
   "id": "d431a6ee",
   "metadata": {
    "scrolled": true
   },
   "outputs": [
    {
     "data": {
      "text/html": [
       "<div><style>\n",
       ".dataframe > thead > tr > th,\n",
       ".dataframe > tbody > tr > td {\n",
       "  text-align: right;\n",
       "}\n",
       "</style>\n",
       "<small>shape: (5, 8)</small><table border=\"1\" class=\"dataframe\"><thead><tr><th>PassengerId</th><th>Pclass</th><th>Sex</th><th>Age</th><th>SibSp</th><th>Parch</th><th>Fare</th><th>Embarked</th></tr><tr><td>i64</td><td>i64</td><td>str</td><td>f64</td><td>i64</td><td>i64</td><td>f64</td><td>str</td></tr></thead><tbody><tr><td>892</td><td>3</td><td>&quot;male&quot;</td><td>34.5</td><td>0</td><td>0</td><td>7.8292</td><td>&quot;Q&quot;</td></tr><tr><td>893</td><td>3</td><td>&quot;female&quot;</td><td>47.0</td><td>1</td><td>0</td><td>7.0</td><td>&quot;S&quot;</td></tr><tr><td>894</td><td>2</td><td>&quot;male&quot;</td><td>62.0</td><td>0</td><td>0</td><td>9.6875</td><td>&quot;Q&quot;</td></tr><tr><td>895</td><td>3</td><td>&quot;male&quot;</td><td>27.0</td><td>0</td><td>0</td><td>8.6625</td><td>&quot;S&quot;</td></tr><tr><td>896</td><td>3</td><td>&quot;female&quot;</td><td>22.0</td><td>1</td><td>1</td><td>12.2875</td><td>&quot;S&quot;</td></tr></tbody></table></div>"
      ],
      "text/plain": [
       "shape: (5, 8)\n",
       "┌─────────────┬────────┬────────┬──────┬───────┬───────┬─────────┬──────────┐\n",
       "│ PassengerId ┆ Pclass ┆ Sex    ┆ Age  ┆ SibSp ┆ Parch ┆ Fare    ┆ Embarked │\n",
       "│ ---         ┆ ---    ┆ ---    ┆ ---  ┆ ---   ┆ ---   ┆ ---     ┆ ---      │\n",
       "│ i64         ┆ i64    ┆ str    ┆ f64  ┆ i64   ┆ i64   ┆ f64     ┆ str      │\n",
       "╞═════════════╪════════╪════════╪══════╪═══════╪═══════╪═════════╪══════════╡\n",
       "│ 892         ┆ 3      ┆ male   ┆ 34.5 ┆ 0     ┆ 0     ┆ 7.8292  ┆ Q        │\n",
       "│ 893         ┆ 3      ┆ female ┆ 47.0 ┆ 1     ┆ 0     ┆ 7.0     ┆ S        │\n",
       "│ 894         ┆ 2      ┆ male   ┆ 62.0 ┆ 0     ┆ 0     ┆ 9.6875  ┆ Q        │\n",
       "│ 895         ┆ 3      ┆ male   ┆ 27.0 ┆ 0     ┆ 0     ┆ 8.6625  ┆ S        │\n",
       "│ 896         ┆ 3      ┆ female ┆ 22.0 ┆ 1     ┆ 1     ┆ 12.2875 ┆ S        │\n",
       "└─────────────┴────────┴────────┴──────┴───────┴───────┴─────────┴──────────┘"
      ]
     },
     "execution_count": 5,
     "metadata": {},
     "output_type": "execute_result"
    }
   ],
   "source": [
    "# Defining Target and deleting least relevent columns\n",
    "X=data.clone()\n",
    "X=X.sample(len(X))\n",
    "y=X['Survived']\n",
    "X=X.drop(columns=[\"Name\",\"Survived\",\"Cabin\",\"Ticket\"])\n",
    "X.head()"
   ]
  },
  {
   "cell_type": "code",
   "execution_count": null,
   "id": "79d55ec1",
   "metadata": {},
   "outputs": [],
   "source": []
  },
  {
   "cell_type": "code",
   "execution_count": 6,
   "id": "7ea35228",
   "metadata": {},
   "outputs": [
    {
     "name": "stderr",
     "output_type": "stream",
     "text": [
      "/home/fansan/.local/lib/python3.10/site-packages/sklearn/preprocessing/_encoders.py:828: FutureWarning: `sparse` was renamed to `sparse_output` in version 1.2 and will be removed in 1.4. `sparse_output` is ignored unless you leave `sparse` to its default value.\n",
      "  warnings.warn(\n"
     ]
    }
   ],
   "source": [
    "# Handling categorical values\n",
    "cat_columns=['Sex','Embarked']\n",
    "\n",
    "from sklearn.preprocessing import OneHotEncoder\n",
    "oh_encoder=OneHotEncoder(handle_unknown='ignore',sparse=False)\n",
    "oh_col=pl.DataFrame(oh_encoder.fit_transform(X[cat_columns]))\n",
    "X=X.drop(columns=cat_columns)\n",
    "X=pl.concat([X,oh_col],how=\"horizontal\")\n"
   ]
  },
  {
   "cell_type": "code",
   "execution_count": 7,
   "id": "af396e3f",
   "metadata": {},
   "outputs": [],
   "source": [
    "# handling missing values\n",
    "from sklearn.impute import SimpleImputer\n",
    "imputer=SimpleImputer(strategy=\"median\")\n",
    "X_imputed=pl.DataFrame(imputer.fit_transform(X))\n",
    "X_imputed.columns=X.columns\n",
    "X=X_imputed"
   ]
  },
  {
   "cell_type": "code",
   "execution_count": 8,
   "id": "e69da24b",
   "metadata": {},
   "outputs": [],
   "source": [
    "X_train,X_valid,y_train,y_valid=train_test_split(X,y,train_size=0.8,test_size=0.2,random_state=2)"
   ]
  },
  {
   "cell_type": "code",
   "execution_count": 9,
   "id": "480dfca8",
   "metadata": {},
   "outputs": [
    {
     "name": "stdout",
     "output_type": "stream",
     "text": [
      "SGDClassifier(random_state=2) MAE =  0.34523809523809523\n",
      "DecisionTreeClassifier(random_state=2) MAE =  0.0\n",
      "RandomForestClassifier(random_state=2) MAE =  0.0\n"
     ]
    }
   ],
   "source": [
    "from sklearn.metrics import mean_absolute_error\n",
    "from sklearn.linear_model import SGDClassifier\n",
    "from sklearn.tree import DecisionTreeClassifier\n",
    "from sklearn.ensemble import RandomForestClassifier\n",
    "\n",
    "model_sgdc=SGDClassifier(random_state=2)\n",
    "model_dtc=DecisionTreeClassifier(random_state=2)\n",
    "model_rfc=RandomForestClassifier(random_state=2)\n",
    "\n",
    "models=[model_sgdc,model_dtc,model_rfc]\n",
    "for i in models:\n",
    "    i.fit(X_train,y_train)\n",
    "    pred=i.predict(X_valid)\n",
    "    score=mean_absolute_error(y_valid,pred)\n",
    "    print(f\"{i} MAE = \",score)"
   ]
  },
  {
   "cell_type": "code",
   "execution_count": 10,
   "id": "a1263e14",
   "metadata": {},
   "outputs": [
    {
     "data": {
      "text/html": [
       "<style>#sk-container-id-1 {color: black;background-color: white;}#sk-container-id-1 pre{padding: 0;}#sk-container-id-1 div.sk-toggleable {background-color: white;}#sk-container-id-1 label.sk-toggleable__label {cursor: pointer;display: block;width: 100%;margin-bottom: 0;padding: 0.3em;box-sizing: border-box;text-align: center;}#sk-container-id-1 label.sk-toggleable__label-arrow:before {content: \"▸\";float: left;margin-right: 0.25em;color: #696969;}#sk-container-id-1 label.sk-toggleable__label-arrow:hover:before {color: black;}#sk-container-id-1 div.sk-estimator:hover label.sk-toggleable__label-arrow:before {color: black;}#sk-container-id-1 div.sk-toggleable__content {max-height: 0;max-width: 0;overflow: hidden;text-align: left;background-color: #f0f8ff;}#sk-container-id-1 div.sk-toggleable__content pre {margin: 0.2em;color: black;border-radius: 0.25em;background-color: #f0f8ff;}#sk-container-id-1 input.sk-toggleable__control:checked~div.sk-toggleable__content {max-height: 200px;max-width: 100%;overflow: auto;}#sk-container-id-1 input.sk-toggleable__control:checked~label.sk-toggleable__label-arrow:before {content: \"▾\";}#sk-container-id-1 div.sk-estimator input.sk-toggleable__control:checked~label.sk-toggleable__label {background-color: #d4ebff;}#sk-container-id-1 div.sk-label input.sk-toggleable__control:checked~label.sk-toggleable__label {background-color: #d4ebff;}#sk-container-id-1 input.sk-hidden--visually {border: 0;clip: rect(1px 1px 1px 1px);clip: rect(1px, 1px, 1px, 1px);height: 1px;margin: -1px;overflow: hidden;padding: 0;position: absolute;width: 1px;}#sk-container-id-1 div.sk-estimator {font-family: monospace;background-color: #f0f8ff;border: 1px dotted black;border-radius: 0.25em;box-sizing: border-box;margin-bottom: 0.5em;}#sk-container-id-1 div.sk-estimator:hover {background-color: #d4ebff;}#sk-container-id-1 div.sk-parallel-item::after {content: \"\";width: 100%;border-bottom: 1px solid gray;flex-grow: 1;}#sk-container-id-1 div.sk-label:hover label.sk-toggleable__label {background-color: #d4ebff;}#sk-container-id-1 div.sk-serial::before {content: \"\";position: absolute;border-left: 1px solid gray;box-sizing: border-box;top: 0;bottom: 0;left: 50%;z-index: 0;}#sk-container-id-1 div.sk-serial {display: flex;flex-direction: column;align-items: center;background-color: white;padding-right: 0.2em;padding-left: 0.2em;position: relative;}#sk-container-id-1 div.sk-item {position: relative;z-index: 1;}#sk-container-id-1 div.sk-parallel {display: flex;align-items: stretch;justify-content: center;background-color: white;position: relative;}#sk-container-id-1 div.sk-item::before, #sk-container-id-1 div.sk-parallel-item::before {content: \"\";position: absolute;border-left: 1px solid gray;box-sizing: border-box;top: 0;bottom: 0;left: 50%;z-index: -1;}#sk-container-id-1 div.sk-parallel-item {display: flex;flex-direction: column;z-index: 1;position: relative;background-color: white;}#sk-container-id-1 div.sk-parallel-item:first-child::after {align-self: flex-end;width: 50%;}#sk-container-id-1 div.sk-parallel-item:last-child::after {align-self: flex-start;width: 50%;}#sk-container-id-1 div.sk-parallel-item:only-child::after {width: 0;}#sk-container-id-1 div.sk-dashed-wrapped {border: 1px dashed gray;margin: 0 0.4em 0.5em 0.4em;box-sizing: border-box;padding-bottom: 0.4em;background-color: white;}#sk-container-id-1 div.sk-label label {font-family: monospace;font-weight: bold;display: inline-block;line-height: 1.2em;}#sk-container-id-1 div.sk-label-container {text-align: center;}#sk-container-id-1 div.sk-container {/* jupyter's `normalize.less` sets `[hidden] { display: none; }` but bootstrap.min.css set `[hidden] { display: none !important; }` so we also need the `!important` here to be able to override the default hidden behavior on the sphinx rendered scikit-learn.org. See: https://github.com/scikit-learn/scikit-learn/issues/21755 */display: inline-block !important;position: relative;}#sk-container-id-1 div.sk-text-repr-fallback {display: none;}</style><div id=\"sk-container-id-1\" class=\"sk-top-container\"><div class=\"sk-text-repr-fallback\"><pre>DecisionTreeClassifier(random_state=2)</pre><b>In a Jupyter environment, please rerun this cell to show the HTML representation or trust the notebook. <br />On GitHub, the HTML representation is unable to render, please try loading this page with nbviewer.org.</b></div><div class=\"sk-container\" hidden><div class=\"sk-item\"><div class=\"sk-estimator sk-toggleable\"><input class=\"sk-toggleable__control sk-hidden--visually\" id=\"sk-estimator-id-1\" type=\"checkbox\" checked><label for=\"sk-estimator-id-1\" class=\"sk-toggleable__label sk-toggleable__label-arrow\">DecisionTreeClassifier</label><div class=\"sk-toggleable__content\"><pre>DecisionTreeClassifier(random_state=2)</pre></div></div></div></div></div>"
      ],
      "text/plain": [
       "DecisionTreeClassifier(random_state=2)"
      ]
     },
     "execution_count": 10,
     "metadata": {},
     "output_type": "execute_result"
    }
   ],
   "source": [
    "model=DecisionTreeClassifier(random_state=2)\n",
    "model.fit(X,y)"
   ]
  },
  {
   "cell_type": "code",
   "execution_count": 11,
   "id": "7a4c99b7",
   "metadata": {},
   "outputs": [
    {
     "data": {
      "text/plain": [
       "1.0"
      ]
     },
     "execution_count": 11,
     "metadata": {},
     "output_type": "execute_result"
    }
   ],
   "source": [
    "model.score(X,y)"
   ]
  },
  {
   "cell_type": "code",
   "execution_count": 12,
   "id": "fceaf741",
   "metadata": {},
   "outputs": [
    {
     "data": {
      "text/html": [
       "<div><style>\n",
       ".dataframe > thead > tr > th,\n",
       ".dataframe > tbody > tr > td {\n",
       "  text-align: right;\n",
       "}\n",
       "</style>\n",
       "<small>shape: (12, 12)</small><table border=\"1\" class=\"dataframe\"><thead><tr><th>PassengerId</th><th>Pclass</th><th>Age</th><th>SibSp</th><th>Parch</th><th>Fare</th><th>column_0</th><th>column_1</th><th>column_2</th><th>column_3</th><th>column_4</th><th>Survived</th></tr><tr><td>f64</td><td>f64</td><td>f64</td><td>f64</td><td>f64</td><td>f64</td><td>f64</td><td>f64</td><td>f64</td><td>f64</td><td>f64</td><td>f64</td></tr></thead><tbody><tr><td>1.0</td><td>-0.026751</td><td>-0.031447</td><td>0.003818</td><td>0.04308</td><td>0.008633</td><td>-0.023245</td><td>0.023245</td><td>-0.027419</td><td>-0.035731</td><td>0.048008</td><td>-0.023245</td></tr><tr><td>-0.026751</td><td>1.0</td><td>-0.467853</td><td>0.001087</td><td>0.018721</td><td>-0.577313</td><td>-0.108615</td><td>0.108615</td><td>-0.318543</td><td>0.252608</td><td>0.120783</td><td>-0.108615</td></tr><tr><td>-0.031447</td><td>-0.467853</td><td>1.0</td><td>-0.071197</td><td>-0.043731</td><td>0.342357</td><td>0.008035</td><td>-0.008035</td><td>0.162147</td><td>-0.04131</td><td>-0.118594</td><td>0.008035</td></tr><tr><td>0.003818</td><td>0.001087</td><td>-0.071197</td><td>1.0</td><td>0.306895</td><td>0.171912</td><td>0.099943</td><td>-0.099943</td><td>-0.016365</td><td>-0.098824</td><td>0.079367</td><td>0.099943</td></tr><tr><td>0.04308</td><td>0.018721</td><td>-0.043731</td><td>0.306895</td><td>1.0</td><td>0.230325</td><td>0.15912</td><td>-0.15912</td><td>-0.005791</td><td>-0.132948</td><td>0.092201</td><td>0.15912</td></tr><tr><td>0.008633</td><td>-0.577313</td><td>0.342357</td><td>0.171912</td><td>0.230325</td><td>1.0</td><td>0.192036</td><td>-0.192036</td><td>0.312503</td><td>-0.155193</td><td>-0.179106</td><td>0.192036</td></tr><tr><td>-0.023245</td><td>-0.108615</td><td>0.008035</td><td>0.099943</td><td>0.15912</td><td>0.192036</td><td>1.0</td><td>-1.0</td><td>0.033684</td><td>0.115574</td><td>-0.105883</td><td>1.0</td></tr><tr><td>0.023245</td><td>0.108615</td><td>-0.008035</td><td>-0.099943</td><td>-0.15912</td><td>-0.192036</td><td>-1.0</td><td>1.0</td><td>-0.033684</td><td>-0.115574</td><td>0.105883</td><td>-1.0</td></tr><tr><td>-0.027419</td><td>-0.318543</td><td>0.162147</td><td>-0.016365</td><td>-0.005791</td><td>0.312503</td><td>0.033684</td><td>-0.033684</td><td>1.0</td><td>-0.199786</td><td>-0.767375</td><td>0.033684</td></tr><tr><td>-0.035731</td><td>0.252608</td><td>-0.04131</td><td>-0.098824</td><td>-0.132948</td><td>-0.155193</td><td>0.115574</td><td>-0.115574</td><td>-0.199786</td><td>1.0</td><td>-0.474962</td><td>0.115574</td></tr><tr><td>0.048008</td><td>0.120783</td><td>-0.118594</td><td>0.079367</td><td>0.092201</td><td>-0.179106</td><td>-0.105883</td><td>0.105883</td><td>-0.767375</td><td>-0.474962</td><td>1.0</td><td>-0.105883</td></tr><tr><td>-0.023245</td><td>-0.108615</td><td>0.008035</td><td>0.099943</td><td>0.15912</td><td>0.192036</td><td>1.0</td><td>-1.0</td><td>0.033684</td><td>0.115574</td><td>-0.105883</td><td>1.0</td></tr></tbody></table></div>"
      ],
      "text/plain": [
       "shape: (12, 12)\n",
       "┌───────────┬───────────┬───────────┬───────────┬───┬───────────┬───────────┬───────────┬──────────┐\n",
       "│ Passenger ┆ Pclass    ┆ Age       ┆ SibSp     ┆ … ┆ column_2  ┆ column_3  ┆ column_4  ┆ Survived │\n",
       "│ Id        ┆ ---       ┆ ---       ┆ ---       ┆   ┆ ---       ┆ ---       ┆ ---       ┆ ---      │\n",
       "│ ---       ┆ f64       ┆ f64       ┆ f64       ┆   ┆ f64       ┆ f64       ┆ f64       ┆ f64      │\n",
       "│ f64       ┆           ┆           ┆           ┆   ┆           ┆           ┆           ┆          │\n",
       "╞═══════════╪═══════════╪═══════════╪═══════════╪═══╪═══════════╪═══════════╪═══════════╪══════════╡\n",
       "│ 1.0       ┆ -0.026751 ┆ -0.031447 ┆ 0.003818  ┆ … ┆ -0.027419 ┆ -0.035731 ┆ 0.048008  ┆ -0.02324 │\n",
       "│           ┆           ┆           ┆           ┆   ┆           ┆           ┆           ┆ 5        │\n",
       "│ -0.026751 ┆ 1.0       ┆ -0.467853 ┆ 0.001087  ┆ … ┆ -0.318543 ┆ 0.252608  ┆ 0.120783  ┆ -0.10861 │\n",
       "│           ┆           ┆           ┆           ┆   ┆           ┆           ┆           ┆ 5        │\n",
       "│ -0.031447 ┆ -0.467853 ┆ 1.0       ┆ -0.071197 ┆ … ┆ 0.162147  ┆ -0.04131  ┆ -0.118594 ┆ 0.008035 │\n",
       "│ 0.003818  ┆ 0.001087  ┆ -0.071197 ┆ 1.0       ┆ … ┆ -0.016365 ┆ -0.098824 ┆ 0.079367  ┆ 0.099943 │\n",
       "│ …         ┆ …         ┆ …         ┆ …         ┆ … ┆ …         ┆ …         ┆ …         ┆ …        │\n",
       "│ -0.027419 ┆ -0.318543 ┆ 0.162147  ┆ -0.016365 ┆ … ┆ 1.0       ┆ -0.199786 ┆ -0.767375 ┆ 0.033684 │\n",
       "│ -0.035731 ┆ 0.252608  ┆ -0.04131  ┆ -0.098824 ┆ … ┆ -0.199786 ┆ 1.0       ┆ -0.474962 ┆ 0.115574 │\n",
       "│ 0.048008  ┆ 0.120783  ┆ -0.118594 ┆ 0.079367  ┆ … ┆ -0.767375 ┆ -0.474962 ┆ 1.0       ┆ -0.10588 │\n",
       "│           ┆           ┆           ┆           ┆   ┆           ┆           ┆           ┆ 3        │\n",
       "│ -0.023245 ┆ -0.108615 ┆ 0.008035  ┆ 0.099943  ┆ … ┆ 0.033684  ┆ 0.115574  ┆ -0.105883 ┆ 1.0      │\n",
       "└───────────┴───────────┴───────────┴───────────┴───┴───────────┴───────────┴───────────┴──────────┘"
      ]
     },
     "execution_count": 12,
     "metadata": {},
     "output_type": "execute_result"
    }
   ],
   "source": [
    "y=pl.DataFrame(y)\n",
    "new_X=pl.concat([X,y],how=\"horizontal\")\n",
    "titanic_corr=new_X.corr()\n",
    "titanic_corr"
   ]
  },
  {
   "cell_type": "markdown",
   "id": "12a45173",
   "metadata": {},
   "source": [
    "## hence we have trained our model successfully.\n",
    "#### > The model Shows very high accuracy because the data is biased.\n",
    "#### > According to given data all males are dead and all females survived, as we can see this in above correlation.\n",
    "#### > Also the the Amount of data given for training is not much sufficient."
   ]
  },
  {
   "cell_type": "code",
   "execution_count": null,
   "id": "6a369e98",
   "metadata": {},
   "outputs": [],
   "source": []
  }
 ],
 "metadata": {
  "kernelspec": {
   "display_name": "Python 3 (ipykernel)",
   "language": "python",
   "name": "python3"
  },
  "language_info": {
   "codemirror_mode": {
    "name": "ipython",
    "version": 3
   },
   "file_extension": ".py",
   "mimetype": "text/x-python",
   "name": "python",
   "nbconvert_exporter": "python",
   "pygments_lexer": "ipython3",
   "version": "3.10.12"
  }
 },
 "nbformat": 4,
 "nbformat_minor": 5
}
