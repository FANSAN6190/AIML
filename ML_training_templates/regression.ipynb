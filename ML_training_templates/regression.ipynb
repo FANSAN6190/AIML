{
 "cells": [
  {
   "cell_type": "code",
   "execution_count": 91,
   "id": "56591488-36f6-4b45-85e1-c83a0956b71a",
   "metadata": {},
   "outputs": [],
   "source": [
    "import numpy as np\n",
    "import pandas as pd\n"
   ]
  },
  {
   "cell_type": "code",
   "execution_count": 92,
   "id": "b9a53f7d-1efa-444a-bfc6-63c2a5e122ed",
   "metadata": {},
   "outputs": [],
   "source": [
    "# importing Dataset as pandas dataframe\n",
    "import pathlib\n",
    "import os\n",
    "def load_dataset():\n",
    "    file_name=os.listdir(\"regression_dataset/\")[0]\n",
    "    data=pd.read_csv(\"regression_dataset/\"+file_name)\n",
    "    return data"
   ]
  },
  {
   "cell_type": "code",
   "execution_count": 130,
   "id": "a47814ac-fb24-4336-b67e-3acf09c9675f",
   "metadata": {},
   "outputs": [],
   "source": [
    "#Preprocessing Dataset\n",
    "from sklearn.compose import ColumnTransformer\n",
    "from sklearn.pipeline import Pipeline\n",
    "from sklearn.impute import SimpleImputer\n",
    "from sklearn.preprocessing import OneHotEncoder\n",
    "\n",
    "def preprocessing(data,num_strategy=\"\",cat_strategy=\"\"):\n",
    "    miss_col=data.isnull().sum()[data.isnull().sum()>0].index\n",
    "    print(miss_col)\n",
    "    \n",
    "    "
   ]
  },
  {
   "cell_type": "code",
   "execution_count": 131,
   "id": "7fa4f8ba-a72e-45cc-bc97-492343485de3",
   "metadata": {},
   "outputs": [
    {
     "name": "stdout",
     "output_type": "stream",
     "text": [
      "Index(['total_bedrooms'], dtype='object')\n"
     ]
    }
   ],
   "source": [
    "preprocessing(data,cat_strategy=\"\",num_strategy=\"SIMf\")"
   ]
  },
  {
   "cell_type": "code",
   "execution_count": null,
   "id": "3cf0f9d5-be98-4d7f-8563-d488d0f6e144",
   "metadata": {},
   "outputs": [],
   "source": []
  },
  {
   "cell_type": "code",
   "execution_count": null,
   "id": "3f37a04c-8455-4b4b-a6e8-4b053c6127f1",
   "metadata": {},
   "outputs": [],
   "source": []
  },
  {
   "cell_type": "code",
   "execution_count": null,
   "id": "6bd24145-4db3-4540-8cae-0f7c37eb1d4a",
   "metadata": {},
   "outputs": [],
   "source": []
  },
  {
   "cell_type": "code",
   "execution_count": null,
   "id": "6a0288c9-52ed-4a6e-92e3-0a9560892f6a",
   "metadata": {},
   "outputs": [],
   "source": []
  },
  {
   "cell_type": "code",
   "execution_count": null,
   "id": "34b16118-cb80-48f7-8f82-be13f2522cc1",
   "metadata": {},
   "outputs": [],
   "source": []
  }
 ],
 "metadata": {
  "kernelspec": {
   "display_name": "Python 3 (ipykernel)",
   "language": "python",
   "name": "python3"
  },
  "language_info": {
   "codemirror_mode": {
    "name": "ipython",
    "version": 3
   },
   "file_extension": ".py",
   "mimetype": "text/x-python",
   "name": "python",
   "nbconvert_exporter": "python",
   "pygments_lexer": "ipython3",
   "version": "3.10.9"
  }
 },
 "nbformat": 4,
 "nbformat_minor": 5
}
