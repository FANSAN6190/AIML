{
 "cells": [
  {
   "cell_type": "code",
   "execution_count": 1,
   "id": "83892cc1",
   "metadata": {},
   "outputs": [],
   "source": [
    "import numpy as np"
   ]
  },
  {
   "cell_type": "code",
   "execution_count": 2,
   "id": "ed8c54c3",
   "metadata": {},
   "outputs": [],
   "source": [
    "v=np.array([1,-1,2])\n",
    "w=np.array([2,5,2])"
   ]
  },
  {
   "cell_type": "code",
   "execution_count": 3,
   "id": "d096efb8",
   "metadata": {},
   "outputs": [
    {
     "name": "stdout",
     "output_type": "stream",
     "text": [
      "[3 4 4]\n"
     ]
    }
   ],
   "source": [
    "#vector Addition and Subtraction\n",
    "print(v+w)\n",
    "print(v-w)"
   ]
  },
  {
   "cell_type": "code",
   "execution_count": 7,
   "id": "4bf46e7b",
   "metadata": {},
   "outputs": [
    {
     "name": "stdout",
     "output_type": "stream",
     "text": [
      "[ 4 -4  8]\n"
     ]
    }
   ],
   "source": [
    "#vector Scaler multiplication\n",
    "print(v*4)"
   ]
  },
  {
   "cell_type": "code",
   "execution_count": 8,
   "id": "1d5abbc0",
   "metadata": {},
   "outputs": [
    {
     "name": "stdout",
     "output_type": "stream",
     "text": [
      "2.449489742783178\n"
     ]
    }
   ],
   "source": [
    "#vector Magnitude/Length\n",
    "print(np.linalg.norm(v))"
   ]
  },
  {
   "cell_type": "code",
   "execution_count": 12,
   "id": "91063175",
   "metadata": {},
   "outputs": [
    {
     "data": {
      "text/plain": [
       "1"
      ]
     },
     "execution_count": 12,
     "metadata": {},
     "output_type": "execute_result"
    }
   ],
   "source": [
    "#vector dot Product\n",
    "s=np.dot(v,w)\n",
    "s"
   ]
  },
  {
   "cell_type": "code",
   "execution_count": null,
   "id": "bb878872",
   "metadata": {},
   "outputs": [],
   "source": []
  }
 ],
 "metadata": {
  "kernelspec": {
   "display_name": "Python 3 (ipykernel)",
   "language": "python",
   "name": "python3"
  },
  "language_info": {
   "codemirror_mode": {
    "name": "ipython",
    "version": 3
   },
   "file_extension": ".py",
   "mimetype": "text/x-python",
   "name": "python",
   "nbconvert_exporter": "python",
   "pygments_lexer": "ipython3",
   "version": "3.10.9"
  }
 },
 "nbformat": 4,
 "nbformat_minor": 5
}
