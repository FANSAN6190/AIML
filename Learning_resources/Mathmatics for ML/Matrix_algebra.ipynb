{
 "cells": [
  {
   "cell_type": "code",
   "execution_count": 1,
   "id": "0094d99d",
   "metadata": {},
   "outputs": [],
   "source": [
    "import numpy as np"
   ]
  },
  {
   "cell_type": "code",
   "execution_count": 4,
   "id": "a68811b5",
   "metadata": {},
   "outputs": [
    {
     "name": "stdout",
     "output_type": "stream",
     "text": [
      "[[1 7]\n",
      " [2 1]\n",
      " [3 2]]\n"
     ]
    }
   ],
   "source": [
    "P=np.array([[1,7],[2,1],[3,2]])\n",
    "print(P)\n"
   ]
  },
  {
   "cell_type": "code",
   "execution_count": 9,
   "id": "36413e0a",
   "metadata": {},
   "outputs": [
    {
     "name": "stdout",
     "output_type": "stream",
     "text": [
      "[[ 1  1]\n",
      " [ 1 -1]\n",
      " [ 1  0]]\n"
     ]
    }
   ],
   "source": [
    "Q=np.array([[1,1],[1,-1],[1,0]])\n",
    "print(Q)"
   ]
  },
  {
   "cell_type": "code",
   "execution_count": 12,
   "id": "2760ecc4",
   "metadata": {},
   "outputs": [],
   "source": [
    "C1=np.add(P,Q)\n",
    "C2=np.subtract(P,Q)"
   ]
  },
  {
   "cell_type": "code",
   "execution_count": 14,
   "id": "a3b4e6a4",
   "metadata": {},
   "outputs": [
    {
     "name": "stdout",
     "output_type": "stream",
     "text": [
      "[[2 8]\n",
      " [3 0]\n",
      " [4 2]]\n",
      "[[0 6]\n",
      " [1 2]\n",
      " [2 2]]\n"
     ]
    }
   ],
   "source": [
    "print(C1)\n",
    "print(C2)"
   ]
  },
  {
   "cell_type": "code",
   "execution_count": 17,
   "id": "e861d7df",
   "metadata": {},
   "outputs": [
    {
     "name": "stdout",
     "output_type": "stream",
     "text": [
      "[[1 3 1]\n",
      " [1 0 1]]\n"
     ]
    }
   ],
   "source": [
    "R=np.array([[1,3,1],[1,0,1]])\n",
    "print(R)"
   ]
  },
  {
   "cell_type": "code",
   "execution_count": 20,
   "id": "7b8a2235",
   "metadata": {},
   "outputs": [
    {
     "name": "stdout",
     "output_type": "stream",
     "text": [
      "[[8 3 8]\n",
      " [3 6 3]\n",
      " [5 9 5]]\n"
     ]
    }
   ],
   "source": [
    "C3=np.dot(P,R)\n",
    "print(C3)"
   ]
  },
  {
   "cell_type": "code",
   "execution_count": 28,
   "id": "10305141",
   "metadata": {},
   "outputs": [
    {
     "name": "stdout",
     "output_type": "stream",
     "text": [
      "0.0\n"
     ]
    }
   ],
   "source": [
    "dt=np.linalg.det(C3)\n",
    "print(dt)"
   ]
  },
  {
   "cell_type": "code",
   "execution_count": 32,
   "id": "61ba155a",
   "metadata": {},
   "outputs": [
    {
     "name": "stdout",
     "output_type": "stream",
     "text": [
      "39.99999999999998\n",
      "[[-1.575  0.675 -0.1  ]\n",
      " [ 1.4   -0.6    0.2  ]\n",
      " [-0.075  0.175 -0.1  ]]\n"
     ]
    }
   ],
   "source": [
    "A=np.array([[1,2,3],[5,6,7],[8,9,0]])\n",
    "dt=np.linalg.det(A)\n",
    "print(dt)\n",
    "inver=np.linalg.inv(A)\n",
    "print(inver)"
   ]
  },
  {
   "cell_type": "code",
   "execution_count": null,
   "id": "43b6f712",
   "metadata": {},
   "outputs": [],
   "source": []
  }
 ],
 "metadata": {
  "kernelspec": {
   "display_name": "Python 3 (ipykernel)",
   "language": "python",
   "name": "python3"
  },
  "language_info": {
   "codemirror_mode": {
    "name": "ipython",
    "version": 3
   },
   "file_extension": ".py",
   "mimetype": "text/x-python",
   "name": "python",
   "nbconvert_exporter": "python",
   "pygments_lexer": "ipython3",
   "version": "3.10.9"
  }
 },
 "nbformat": 4,
 "nbformat_minor": 5
}
