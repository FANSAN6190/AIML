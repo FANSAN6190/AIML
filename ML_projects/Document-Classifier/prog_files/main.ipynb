{
 "cells": [
  {
   "cell_type": "code",
   "execution_count": 5,
   "id": "a32da90e",
   "metadata": {},
   "outputs": [
    {
     "ename": "SyntaxError",
     "evalue": "unterminated string literal (detected at line 6) (1118801394.py, line 6)",
     "output_type": "error",
     "traceback": [
      "\u001b[1;36m  Input \u001b[1;32mIn [5]\u001b[1;36m\u001b[0m\n\u001b[1;33m    pdf_file=\"C:\\\\Users\\\\inaze\\\\Desktop\\\\pdftest.pdf'\u001b[0m\n\u001b[1;37m             ^\u001b[0m\n\u001b[1;31mSyntaxError\u001b[0m\u001b[1;31m:\u001b[0m unterminated string literal (detected at line 6)\n"
     ]
    }
   ],
   "source": [
    "import PyPDF2\n",
    "import re\n",
    "from bs4 import BeautifulSoup\n",
    "\n",
    "from pypdf import PdfReader\n",
    "pdf_file=\"C:\\\\Users\\\\inaze\\\\Desktop\\\\pdftest.pdf'\n",
    "\n",
    "reader = PdfReader(pdf_file)\n",
    "number_of_pages = len(reader.pages)\n",
    "page = reader.pages[0]\n",
    "text = page.extract_text()\n",
    "\n",
    "text\n",
    "import docxpy\n",
    "# inp=r'C:\\Users\\inaze\\Desktop\\APS LAB1.docx'\n",
    "\n",
    "def pdf_to_txt(pdf_file):\n",
    "    extracted_text = extract_text_from_pdf(pdf_file)\n",
    "    for text in extracted_text:\n",
    "        return text\n",
    "\n",
    "def cleanText(text):\n",
    "    text = BeautifulSoup(text, \"lxml\").text\n",
    "    text = str(text).lower()\n",
    "    text = re.sub('\\[.*?\\]', '', text)\n",
    "    text = re.sub('https?://\\S+|www\\.\\S+', '', text)\n",
    "    text = re.sub('<.*?>+', '', text)\n",
    "   \n",
    "    text = re.sub('\\n', '', text)\n",
    "   \n",
    "    return text\n",
    "        \n",
    "# if \".pdf\" in inp:\n",
    "#     text=pdf_to_txt(inp)\n",
    "# if \".doc\" in inp:\n",
    "#     text=docxpy.process(inp)\n",
    "    \n",
    "# text=cleanText(text)\n",
    "    \n",
    "\n",
    "\n",
    "\n",
    "    \n",
    "    \n",
    "    \n",
    "\n",
    "\n"
   ]
  },
  {
   "cell_type": "code",
   "execution_count": 6,
   "id": "bfd09b75",
   "metadata": {},
   "outputs": [
    {
     "data": {
      "text/plain": [
       "'Details or DPIIT Internship chem . \\nDepartment for Promotion of Industry an,d Internal Trade (DPIIT), Ministry of Commerce \\n& Industry has introduced internship scheme for the students pursuing Under Graduate/Post \\nGraduate degree or are Research Scholars enrolled in recognized University/Institution within \\nIndia or abroad. The objective behind the internship scheme is to give exposure to the students \\nto understand the working culture of Govt. of India and to apprehend the schemes being run by \\nthis Department. \\nThe Internship Scheme will remain open throughout the year and applicants can choose a \\nperiod of their clioice ranging from-one month / two months / three months as per their \\nrequirements. The applications will be accepted through online mode only. \\nEligibility: Applicants pursuing Graduation/Post Graduation/Research in following domain \\nare eligible to apply:-\\ni) Engineering (ii) Management (iii) Law (iv) Economics (v) Finance \\n(vi) Computers (vii) Library Management \\nNote:-Candidates from other domains can also be considered based on requirements on case to \\ncase basis. \\nPeriod of Internship:-The period of Internship shall be minimum one month and maximum \\nthree months. After completing internship, students will be awarded an Experience Certificate. \\nThose who will not complete the requisite period of internship will not be awarded any \\ncertificate. \\nMaximum Number oflnterns selected at a time -Not more than 20 \\nti pend: Interns would be paid stipend of Rs. I 0000/-(Ten Thousand) per month. \\nProcedure for selection and Other Modalities of the Scheme: \\na) All the applications received through online mode in the Department will be compiled at one \\nplace in the Establishment Division. \\nb) Sections/divisions will send their requirement of \"Interns\" to Establishment Division with \\nthe approval of concerned Bureau Head. \\nc) On receipt of a request from Division/Section for intern/s belonging to a particular \\ndiscipline, the details of the available applications of that discipline will be provided to the \\nconcerned Division. \\nd) The Bureau Head will select intern(s) based on their requirement and inform the same to \\nEstt. G Section.Thereafter, Estt. G Section will obtain approval of DS(Estt) and send the offer \\nletter to selected Interns. \\ne) Processing of payment towards stipend amount will be initiated by Estt. G Section after \\ncompletion of internship period. A certificate on the effect that assigned work has been \\nsuccessfully completed by intern is required to be submitted by the interns concerned. The said \\ncertificate will be issued by section concerned in which interns worked. \\nf) The concerned Divisional Head shall be responsible for ensuring that the work programme \\nand output mutually agreed upon with the Intern is satisfactorily completed. Interns shall be \\nrequired to submit a brief report/paper at the end of their assignment to the concerned \\nDivisional Head about their learning experience. \\ng) The attendance record and the details of work supervision shall be maintained by the \\nconcerned Division/Section. \\nh) The conduct of the interns and their access to data shall be sole responsibility of the \\nconcerned Divisional Head. '"
      ]
     },
     "execution_count": 6,
     "metadata": {},
     "output_type": "execute_result"
    }
   ],
   "source": [
    "text"
   ]
  },
  {
   "cell_type": "code",
   "execution_count": 43,
   "id": "409ef11d",
   "metadata": {},
   "outputs": [],
   "source": [
    "a"
   ]
  },
  {
   "cell_type": "code",
   "execution_count": 44,
   "id": "156f7692",
   "metadata": {},
   "outputs": [
    {
     "name": "stdout",
     "output_type": "stream",
     "text": [
      "Collecting docx\n",
      "  Downloading docx-0.2.4.tar.gz (54 kB)\n",
      "     ---------------------------------------- 54.9/54.9 kB 3.0 MB/s eta 0:00:00\n",
      "  Preparing metadata (setup.py): started\n",
      "  Preparing metadata (setup.py): finished with status 'done'\n",
      "Requirement already satisfied: lxml in c:\\users\\inaze\\appdata\\local\\programs\\python\\python310\\lib\\site-packages (from docx) (4.9.1)\n",
      "Requirement already satisfied: Pillow>=2.0 in c:\\users\\inaze\\appdata\\local\\programs\\python\\python310\\lib\\site-packages (from docx) (9.1.0)\n",
      "Building wheels for collected packages: docx\n",
      "  Building wheel for docx (setup.py): started\n",
      "  Building wheel for docx (setup.py): finished with status 'done'\n",
      "  Created wheel for docx: filename=docx-0.2.4-py3-none-any.whl size=53924 sha256=379a9a64724333d1e18377bbda1198297589f2610151506e404ed2aaa465d5cf\n",
      "  Stored in directory: c:\\users\\inaze\\appdata\\local\\pip\\cache\\wheels\\34\\71\\d1\\6627e591572f0d8f43d326046644eaf8a7266f52d35fb71afc\n",
      "Successfully built docx\n",
      "Installing collected packages: docx\n",
      "Successfully installed docx-0.2.4\n",
      "Note: you may need to restart the kernel to use updated packages.\n"
     ]
    }
   ],
   "source": []
  },
  {
   "cell_type": "code",
   "execution_count": 45,
   "id": "b3dd4ef1",
   "metadata": {},
   "outputs": [
    {
     "name": "stdout",
     "output_type": "stream",
     "text": [
      "Collecting docxpy\n",
      "  Downloading docxpy-0.8.5.tar.gz (4.1 kB)\n",
      "  Preparing metadata (setup.py): started\n",
      "  Preparing metadata (setup.py): finished with status 'done'\n",
      "Building wheels for collected packages: docxpy\n",
      "  Building wheel for docxpy (setup.py): started\n",
      "  Building wheel for docxpy (setup.py): finished with status 'done'\n",
      "  Created wheel for docxpy: filename=docxpy-0.8.5-py3-none-any.whl size=5001 sha256=53d176e7595be62cb3771ee5003ac542ac5cebb766a1126fe0173c5e7d2f70d5\n",
      "  Stored in directory: c:\\users\\inaze\\appdata\\local\\pip\\cache\\wheels\\ff\\61\\99\\ac42204be6aa37f2156c914c3ae207d129bbea00a74c211bff\n",
      "Successfully built docxpy\n",
      "Installing collected packages: docxpy\n",
      "Successfully installed docxpy-0.8.5\n",
      "Note: you may need to restart the kernel to use updated packages.\n"
     ]
    }
   ],
   "source": []
  },
  {
   "cell_type": "code",
   "execution_count": 3,
   "id": "2353fe19",
   "metadata": {},
   "outputs": [
    {
     "name": "stdout",
     "output_type": "stream",
     "text": [
      "Collecting pypdf\n",
      "  Downloading pypdf-3.2.1-py3-none-any.whl (237 kB)\n",
      "     ------------------------------------ 237.2/237.2 kB 392.7 kB/s eta 0:00:00\n",
      "Installing collected packages: pypdf\n",
      "Successfully installed pypdf-3.2.1\n",
      "Note: you may need to restart the kernel to use updated packages.\n"
     ]
    }
   ],
   "source": [
    "pip install pypdf"
   ]
  },
  {
   "cell_type": "code",
   "execution_count": null,
   "id": "5fdce350",
   "metadata": {},
   "outputs": [],
   "source": []
  }
 ],
 "metadata": {
  "kernelspec": {
   "display_name": "Python 3 (ipykernel)",
   "language": "python",
   "name": "python3"
  },
  "language_info": {
   "codemirror_mode": {
    "name": "ipython",
    "version": 3
   },
   "file_extension": ".py",
   "mimetype": "text/x-python",
   "name": "python",
   "nbconvert_exporter": "python",
   "pygments_lexer": "ipython3",
   "version": "3.9.7"
  }
 },
 "nbformat": 4,
 "nbformat_minor": 5
}
