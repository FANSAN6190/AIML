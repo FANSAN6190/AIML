{
 "cells": [
  {
   "cell_type": "code",
   "execution_count": 27,
   "id": "2fb93505",
   "metadata": {},
   "outputs": [],
   "source": [
    "import tensorflow as tf\n",
    "from matplotlib import pyplot as plt\n",
    "from tensorflow.keras.models import Model\n",
    "from tensorflow.keras.preprocessing import image\n",
    "from tensorflow.keras.preprocessing.image import ImageDataGenerator\n",
    "from tensorflow.keras.models import Sequential\n",
    "from tensorflow.keras.layers import Dense, Conv2D,Dropout,Flatten,MaxPooling2D\n",
    "#from tensorflow.keras import layers \n",
    "import numpy as np\n",
    "import pandas as pd\n",
    "import os\n",
    "import cv2\n",
    "import matplotlib.pyplot as plt"
   ]
  },
  {
   "cell_type": "code",
   "execution_count": 25,
   "id": "dcdd28c3",
   "metadata": {},
   "outputs": [],
   "source": [
    "train_path=\"/home/fansan/Desktop/Document-Classifier/Dataset/data/train/\"\n",
    "test_path=\"/home/fansan/Desktop/Document-Classifier/Dataset/data/test/\"\n",
    "val_path=\"/home/fansan/Desktop/Document-Classifier/Dataset/data/valid/\""
   ]
  },
  {
   "cell_type": "code",
   "execution_count": 26,
   "id": "f27fdd0f",
   "metadata": {},
   "outputs": [
    {
     "ename": "FileNotFoundError",
     "evalue": "[Errno 2] No such file or directory: 'test.png'",
     "output_type": "error",
     "traceback": [
      "\u001b[0;31m---------------------------------------------------------------------------\u001b[0m",
      "\u001b[0;31mFileNotFoundError\u001b[0m                         Traceback (most recent call last)",
      "\u001b[0;32m/tmp/ipykernel_17313/1101476446.py\u001b[0m in \u001b[0;36m<module>\u001b[0;34m\u001b[0m\n\u001b[1;32m      4\u001b[0m \u001b[0;34m\u001b[0m\u001b[0m\n\u001b[1;32m      5\u001b[0m \u001b[0;31m# Transforming image to string and printing it!\u001b[0m\u001b[0;34m\u001b[0m\u001b[0;34m\u001b[0m\u001b[0m\n\u001b[0;32m----> 6\u001b[0;31m \u001b[0mprint\u001b[0m\u001b[0;34m(\u001b[0m\u001b[0mpytesseract\u001b[0m\u001b[0;34m.\u001b[0m\u001b[0mimage_to_string\u001b[0m\u001b[0;34m(\u001b[0m\u001b[0mImage\u001b[0m\u001b[0;34m.\u001b[0m\u001b[0mopen\u001b[0m\u001b[0;34m(\u001b[0m\u001b[0;34m'test.png'\u001b[0m\u001b[0;34m)\u001b[0m\u001b[0;34m)\u001b[0m\u001b[0;34m)\u001b[0m\u001b[0;34m\u001b[0m\u001b[0;34m\u001b[0m\u001b[0m\n\u001b[0m",
      "\u001b[0;32m~/anaconda3/lib/python3.9/site-packages/PIL/Image.py\u001b[0m in \u001b[0;36mopen\u001b[0;34m(fp, mode, formats)\u001b[0m\n\u001b[1;32m   3090\u001b[0m \u001b[0;34m\u001b[0m\u001b[0m\n\u001b[1;32m   3091\u001b[0m     \u001b[0;32mif\u001b[0m \u001b[0mfilename\u001b[0m\u001b[0;34m:\u001b[0m\u001b[0;34m\u001b[0m\u001b[0;34m\u001b[0m\u001b[0m\n\u001b[0;32m-> 3092\u001b[0;31m         \u001b[0mfp\u001b[0m \u001b[0;34m=\u001b[0m \u001b[0mbuiltins\u001b[0m\u001b[0;34m.\u001b[0m\u001b[0mopen\u001b[0m\u001b[0;34m(\u001b[0m\u001b[0mfilename\u001b[0m\u001b[0;34m,\u001b[0m \u001b[0;34m\"rb\"\u001b[0m\u001b[0;34m)\u001b[0m\u001b[0;34m\u001b[0m\u001b[0;34m\u001b[0m\u001b[0m\n\u001b[0m\u001b[1;32m   3093\u001b[0m         \u001b[0mexclusive_fp\u001b[0m \u001b[0;34m=\u001b[0m \u001b[0;32mTrue\u001b[0m\u001b[0;34m\u001b[0m\u001b[0;34m\u001b[0m\u001b[0m\n\u001b[1;32m   3094\u001b[0m \u001b[0;34m\u001b[0m\u001b[0m\n",
      "\u001b[0;31mFileNotFoundError\u001b[0m: [Errno 2] No such file or directory: 'test.png'"
     ]
    }
   ],
   "source": [
    "# Importing libs\n",
    "from PIL import Image\n",
    "import pytesseract\n",
    "img_path=train_pathth\n",
    "print(pytesseract.image_to_string(Image.open('test.png')))\n"
   ]
  },
  {
   "cell_type": "code",
   "execution_count": 3,
   "id": "08737e69",
   "metadata": {},
   "outputs": [],
   "source": [
    "x_train=[]\n",
    "for folder in os.listdir(train_path):\n",
    "    sub_path=train_path+\"/\"+folder\n",
    "    for img in os.listdir(sub_path):\n",
    "        image_path=sub_path+\"/\"+img\n",
    "        img_arr=cv2.imread(image_path)\n",
    "        img_arr=cv2.resize(img_arr,(224,224))\n",
    "        x_train.append(img_arr)\n",
    "\n",
    "x_test=[]\n",
    "for folder in os.listdir(test_path):\n",
    "    sub_path=test_path+\"/\"+folder\n",
    "    for img in os.listdir(sub_path):\n",
    "        image_path=sub_path+\"/\"+img\n",
    "        img_arr=cv2.imread(image_path)\n",
    "        img_arr=cv2.resize(img_arr,(224,224))\n",
    "        x_test.append(img_arr)\n",
    "\n",
    "x_val=[]\n",
    "for folder in os.listdir(val_path):\n",
    "    sub_path=val_path+\"/\"+folder\n",
    "    for img in os.listdir(sub_path):\n",
    "        image_path=sub_path+\"/\"+img\n",
    "        img_arr=cv2.imread(image_path)\n",
    "        img_arr=cv2.resize(img_arr,(224,224))\n",
    "        x_val.append(img_arr)"
   ]
  },
  {
   "cell_type": "code",
   "execution_count": 4,
   "id": "ab988607",
   "metadata": {},
   "outputs": [],
   "source": [
    "train_x=np.array(x_train)\n",
    "test_x=np.array(x_test)\n",
    "val_x=np.array(x_val)"
   ]
  },
  {
   "cell_type": "code",
   "execution_count": 5,
   "id": "3afb78f2",
   "metadata": {},
   "outputs": [],
   "source": [
    "train_x=train_x/255.0\n",
    "test_x=test_x/255.0\n",
    "val_x=val_x/255.0"
   ]
  },
  {
   "cell_type": "code",
   "execution_count": 6,
   "id": "cf3cc2ff",
   "metadata": {},
   "outputs": [],
   "source": [
    "train_datagen = ImageDataGenerator(rescale = 1./255)\n",
    "test_datagen = ImageDataGenerator(rescale = 1./255)\n",
    "val_datagen = ImageDataGenerator(rescale = 1./255)\n"
   ]
  },
  {
   "cell_type": "code",
   "execution_count": 7,
   "id": "4818f4b6",
   "metadata": {},
   "outputs": [
    {
     "name": "stdout",
     "output_type": "stream",
     "text": [
      "Found 45 images belonging to 2 classes.\n",
      "Found 26 images belonging to 2 classes.\n",
      "Found 18 images belonging to 2 classes.\n"
     ]
    }
   ],
   "source": [
    "training_set = train_datagen.flow_from_directory(train_path,\n",
    "                                                 target_size = (224, 224),\n",
    "                                                 batch_size = 32,\n",
    "                                                 class_mode = 'sparse')\n",
    "test_set = test_datagen.flow_from_directory(test_path,\n",
    "                                            target_size = (224, 224),\n",
    "                                            batch_size = 32,\n",
    "                                            class_mode = 'sparse')\n",
    "val_set = val_datagen.flow_from_directory(val_path,\n",
    "                                            target_size = (224, 224),\n",
    "                                            batch_size = 32,\n",
    "                                            class_mode = 'sparse')"
   ]
  },
  {
   "cell_type": "code",
   "execution_count": 8,
   "id": "a4c35ec2",
   "metadata": {},
   "outputs": [],
   "source": [
    "train_y=training_set.classes\n",
    "test_y=test_set.classes\n",
    "val_y=val_set.classes"
   ]
  },
  {
   "cell_type": "code",
   "execution_count": 9,
   "id": "1b939cab",
   "metadata": {},
   "outputs": [
    {
     "data": {
      "text/plain": [
       "{'aadhar': 0, 'pan': 1}"
      ]
     },
     "execution_count": 9,
     "metadata": {},
     "output_type": "execute_result"
    }
   ],
   "source": [
    "training_set.class_indices"
   ]
  },
  {
   "cell_type": "code",
   "execution_count": 10,
   "id": "f879aed5",
   "metadata": {},
   "outputs": [
    {
     "data": {
      "text/plain": [
       "((45,), (26,), (18,))"
      ]
     },
     "execution_count": 10,
     "metadata": {},
     "output_type": "execute_result"
    }
   ],
   "source": [
    "train_y.shape,test_y.shape,val_y.shape"
   ]
  },
  {
   "cell_type": "code",
   "execution_count": 11,
   "id": "d05e542a",
   "metadata": {},
   "outputs": [
    {
     "name": "stderr",
     "output_type": "stream",
     "text": [
      "2023-02-04 22:13:53.908322: W tensorflow/compiler/xla/stream_executor/platform/default/dso_loader.cc:64] Could not load dynamic library 'libcuda.so.1'; dlerror: libcuda.so.1: cannot open shared object file: No such file or directory; LD_LIBRARY_PATH: /home/fansan/anaconda3/lib/python3.9/site-packages/cv2/../../lib64:\n",
      "2023-02-04 22:13:53.908703: W tensorflow/compiler/xla/stream_executor/cuda/cuda_driver.cc:265] failed call to cuInit: UNKNOWN ERROR (303)\n",
      "2023-02-04 22:13:53.908742: I tensorflow/compiler/xla/stream_executor/cuda/cuda_diagnostics.cc:156] kernel driver does not appear to be running on this host (fansan-HP-Laptop-15s-du1xxx): /proc/driver/nvidia/version does not exist\n",
      "2023-02-04 22:13:53.909110: I tensorflow/core/platform/cpu_feature_guard.cc:193] This TensorFlow binary is optimized with oneAPI Deep Neural Network Library (oneDNN) to use the following CPU instructions in performance-critical operations:  AVX2 FMA\n",
      "To enable them in other operations, rebuild TensorFlow with the appropriate compiler flags.\n",
      "2023-02-04 22:13:54.061093: W tensorflow/tsl/framework/cpu_allocator_impl.cc:82] Allocation of 205520896 exceeds 10% of free system memory.\n"
     ]
    },
    {
     "name": "stdout",
     "output_type": "stream",
     "text": [
      "Model: \"sequential\"\n",
      "_________________________________________________________________\n",
      " Layer (type)                Output Shape              Param #   \n",
      "=================================================================\n",
      " conv2d (Conv2D)             (None, 224, 224, 32)      896       \n",
      "                                                                 \n",
      " max_pooling2d (MaxPooling2D  (None, 112, 112, 32)     0         \n",
      " )                                                               \n",
      "                                                                 \n",
      " dropout (Dropout)           (None, 112, 112, 32)      0         \n",
      "                                                                 \n",
      " conv2d_1 (Conv2D)           (None, 112, 112, 64)      18496     \n",
      "                                                                 \n",
      " max_pooling2d_1 (MaxPooling  (None, 56, 56, 64)       0         \n",
      " 2D)                                                             \n",
      "                                                                 \n",
      " dropout_1 (Dropout)         (None, 56, 56, 64)        0         \n",
      "                                                                 \n",
      " flatten (Flatten)           (None, 200704)            0         \n",
      "                                                                 \n",
      " dense (Dense)               (None, 256)               51380480  \n",
      "                                                                 \n"
     ]
    },
    {
     "name": "stderr",
     "output_type": "stream",
     "text": [
      "2023-02-04 22:13:54.207467: W tensorflow/tsl/framework/cpu_allocator_impl.cc:82] Allocation of 205520896 exceeds 10% of free system memory.\n",
      "2023-02-04 22:13:54.256246: W tensorflow/tsl/framework/cpu_allocator_impl.cc:82] Allocation of 205520896 exceeds 10% of free system memory.\n"
     ]
    },
    {
     "name": "stdout",
     "output_type": "stream",
     "text": [
      " dropout_2 (Dropout)         (None, 256)               0         \n",
      "                                                                 \n",
      " dense_1 (Dense)             (None, 2)                 514       \n",
      "                                                                 \n",
      "=================================================================\n",
      "Total params: 51,400,386\n",
      "Trainable params: 51,400,386\n",
      "Non-trainable params: 0\n",
      "_________________________________________________________________\n"
     ]
    }
   ],
   "source": [
    "\n",
    "#model = Sequential([\n",
    "#  layers.Conv2D(16, (3,3), activation='relu', input_shape=(224,224,3)),\n",
    "#  layers.MaxPooling2D(2,2),\n",
    "#  layers.Conv2D(32, (3,3), activation='relu'),\n",
    "#  layers.MaxPooling2D(2,2),\n",
    "#  layers.Conv2D(64, (3,3), activation='relu'),\n",
    "#  layers.MaxPooling2D(2,2),\n",
    "#  layers.Flatten(),\n",
    "#  layers.Dense(1024, activation='relu'),\n",
    "#  layers.Dense(2,activation='sigmoid')\n",
    "#])\n",
    "#################################################\n",
    "#model=Sequential()\n",
    "#model.add(Conv2D(28,kernel_size=(3,3),input_shape=(224,224,3)))\n",
    "#model.add(MaxPooling2D(pool_size=(2,2)))\n",
    "#model.add(Flatten())\n",
    "#model.add(Dense(128,activation=tf.nn.relu))\n",
    "#model.add(Dropout(0.1))\n",
    "#model.add(Dense(2,activation=tf.nn.softmax))\n",
    "#################################################\n",
    "model=Sequential()\n",
    "model.add(Conv2D(32,(3,3),padding='SAME',activation='relu',input_shape=(224,224,3)))\n",
    "model.add(MaxPooling2D(pool_size=(2,2)))\n",
    "model.add(Dropout(0.5))\n",
    "\n",
    "model.add(Conv2D(64,(3,3),padding='SAME',activation='relu'))\n",
    "model.add(MaxPooling2D(pool_size=(2,2)))\n",
    "model.add(Dropout(0.5))\n",
    "\n",
    "model.add(Flatten())\n",
    "\n",
    "\n",
    "model.add(Dense(256,activation='relu'))\n",
    "model.add(Dropout(0.5))\n",
    "model.add(Dense(2,activation='sigmoid'))\n",
    "model.summary()\n",
    "\n",
    "\n"
   ]
  },
  {
   "cell_type": "code",
   "execution_count": 12,
   "id": "5ee9b644",
   "metadata": {},
   "outputs": [],
   "source": [
    "model.compile(\n",
    "  loss='sparse_categorical_crossentropy',\n",
    "  optimizer=\"adam\",\n",
    "  metrics=['accuracy']\n",
    ")"
   ]
  },
  {
   "cell_type": "code",
   "execution_count": 13,
   "id": "9291ccff",
   "metadata": {},
   "outputs": [],
   "source": [
    "from tensorflow.keras.callbacks import EarlyStopping\n",
    "early_stop=EarlyStopping(monitor='val_loss',mode='min',verbose=1,patience=5)"
   ]
  },
  {
   "cell_type": "code",
   "execution_count": 14,
   "id": "5a3769ac",
   "metadata": {},
   "outputs": [
    {
     "name": "stdout",
     "output_type": "stream",
     "text": [
      "Epoch 1/15\n"
     ]
    },
    {
     "name": "stderr",
     "output_type": "stream",
     "text": [
      "2023-02-04 22:13:55.622627: W tensorflow/tsl/framework/cpu_allocator_impl.cc:82] Allocation of 205520896 exceeds 10% of free system memory.\n",
      "2023-02-04 22:13:55.659493: W tensorflow/tsl/framework/cpu_allocator_impl.cc:82] Allocation of 205520896 exceeds 10% of free system memory.\n"
     ]
    },
    {
     "name": "stdout",
     "output_type": "stream",
     "text": [
      "2/2 [==============================] - 7s 4s/step - loss: 44.1785 - accuracy: 0.4667 - val_loss: 0.6156 - val_accuracy: 0.5556\n",
      "Epoch 2/15\n",
      "2/2 [==============================] - 6s 2s/step - loss: 9.5408 - accuracy: 0.5778 - val_loss: 1.0249 - val_accuracy: 0.5556\n",
      "Epoch 3/15\n",
      "2/2 [==============================] - 6s 2s/step - loss: 9.4453 - accuracy: 0.5333 - val_loss: 0.8504 - val_accuracy: 0.5556\n",
      "Epoch 4/15\n",
      "2/2 [==============================] - 5s 4s/step - loss: 3.2261 - accuracy: 0.5333 - val_loss: 0.5618 - val_accuracy: 0.6111\n",
      "Epoch 5/15\n",
      "2/2 [==============================] - 5s 3s/step - loss: 3.2634 - accuracy: 0.4667 - val_loss: 0.5310 - val_accuracy: 1.0000\n",
      "Epoch 6/15\n",
      "2/2 [==============================] - 5s 3s/step - loss: 1.2305 - accuracy: 0.6667 - val_loss: 0.6021 - val_accuracy: 0.5556\n",
      "Epoch 7/15\n",
      "2/2 [==============================] - 5s 2s/step - loss: 1.4886 - accuracy: 0.6444 - val_loss: 0.6192 - val_accuracy: 0.5556\n",
      "Epoch 8/15\n",
      "2/2 [==============================] - 5s 4s/step - loss: 0.8705 - accuracy: 0.6889 - val_loss: 0.6378 - val_accuracy: 0.6667\n",
      "Epoch 9/15\n",
      "2/2 [==============================] - 5s 2s/step - loss: 0.5721 - accuracy: 0.7333 - val_loss: 0.6787 - val_accuracy: 0.5000\n",
      "Epoch 10/15\n",
      "2/2 [==============================] - 5s 3s/step - loss: 0.4202 - accuracy: 0.7556 - val_loss: 0.6779 - val_accuracy: 0.4444\n",
      "Epoch 10: early stopping\n"
     ]
    }
   ],
   "source": [
    "# fit the model\n",
    "#history = model.fit(\n",
    "#  np.array(train_x),\n",
    "#  np.array(train_y),\n",
    "#  validation_data=(val_x,val_y),\n",
    "#  epochs=15,\n",
    "#  callbacks=[early_stop],\n",
    "#  batch_size=32,shuffle=True)\n",
    "\n",
    "history=model.fit(training_set,\n",
    "                  epochs=15,\n",
    "                  validation_data=val_set,\n",
    "                  callbacks=[early_stop],\n",
    "                  batch_size=32,\n",
    "                  shuffle=True\n",
    ")"
   ]
  },
  {
   "cell_type": "code",
   "execution_count": 15,
   "id": "e9aaaf5e",
   "metadata": {},
   "outputs": [
    {
     "data": {
      "image/png": "[encoded data removed]",
      "text/plain": [
       "<Figure size 640x480 with 1 Axes>"
      ]
     },
     "metadata": {},
     "output_type": "display_data"
    }
   ],
   "source": [
    "# accuracies\n",
    "plt.plot(history.history['accuracy'], label='train acc')\n",
    "plt.plot(history.history['val_accuracy'], label='val acc')\n",
    "plt.legend()\n",
    "plt.savefig('acc1.png')\n",
    "plt.show()"
   ]
  },
  {
   "cell_type": "code",
   "execution_count": 16,
   "id": "b9e36f21",
   "metadata": {},
   "outputs": [
    {
     "data": {
      "image/png": "[encoded data removed]",
      "text/plain": [
       "<Figure size 640x480 with 1 Axes>"
      ]
     },
     "metadata": {},
     "output_type": "display_data"
    }
   ],
   "source": [
    "# loss\n",
    "plt.plot(history.history['loss'], label='train loss')\n",
    "plt.plot(history.history['val_loss'], label='val loss')\n",
    "plt.legend()\n",
    "plt.savefig('loss1.png')\n",
    "plt.show()"
   ]
  },
  {
   "cell_type": "code",
   "execution_count": 17,
   "id": "62a1332f",
   "metadata": {},
   "outputs": [],
   "source": [
    "model.save('doc_datamodel.h5')"
   ]
  },
  {
   "cell_type": "code",
   "execution_count": 18,
   "id": "de63302d",
   "metadata": {},
   "outputs": [],
   "source": [
    "##############################################################\n",
    "import cv2\n",
    "from tensorflow.keras.models import load_model\n",
    "from tensorflow.keras.utils import load_img,img_to_array\n",
    "import numpy as np\n",
    "\n",
    "model=load_model('doc_datamodel.h5')\n",
    "img_width,img_height=224, 224"
   ]
  },
  {
   "cell_type": "code",
   "execution_count": null,
   "id": "e149a312",
   "metadata": {},
   "outputs": [],
   "source": []
  },
  {
   "cell_type": "code",
   "execution_count": 19,
   "id": "8bd2957a",
   "metadata": {},
   "outputs": [
    {
     "name": "stdout",
     "output_type": "stream",
     "text": [
      "Evaluate model on test data\n",
      "1/1 [==============================] - 1s 962ms/step - loss: 0.7012 - accuracy: 0.5000\n",
      "test loss, test acc: [0.7011962532997131, 0.5]\n"
     ]
    }
   ],
   "source": [
    "print(\"Evaluate model on test data\")\n",
    "results = model.evaluate(test_x, test_y, batch_size=32)\n",
    "print(\"test loss, test acc:\", results)"
   ]
  },
  {
   "cell_type": "code",
   "execution_count": 20,
   "id": "6ad88355",
   "metadata": {},
   "outputs": [],
   "source": [
    "##prediction##s\n",
    "#pred_img.reshape(224,224)\n",
    "#x_pred=np.array([pred_img])\n",
    "#prediction=model.predict(x_pred)\n",
    "#print(prediction)\n"
   ]
  },
  {
   "cell_type": "code",
   "execution_count": 21,
   "id": "16cc44b9",
   "metadata": {},
   "outputs": [],
   "source": [
    "#y_pred=np.argmax(x_pred,axis=1)"
   ]
  },
  {
   "cell_type": "code",
   "execution_count": 22,
   "id": "609da324",
   "metadata": {
    "scrolled": false
   },
   "outputs": [
    {
     "name": "stdout",
     "output_type": "stream",
     "text": [
      "test02.jpeg\n",
      "1/1 [==============================] - 0s 233ms/step\n",
      "1\n",
      "test01.jpeg\n",
      "1/1 [==============================] - 0s 70ms/step\n",
      "1\n",
      "test11.jpeg\n",
      "1/1 [==============================] - 0s 88ms/step\n",
      "1\n",
      "test20.jpeg\n",
      "1/1 [==============================] - 0s 87ms/step\n",
      "1\n",
      "test00.jpeg\n",
      "1/1 [==============================] - 0s 82ms/step\n",
      "1\n",
      "test21.jpeg\n",
      "1/1 [==============================] - 0s 81ms/step\n",
      "1\n",
      "test10.jpeg\n",
      "1/1 [==============================] - 0s 88ms/step\n",
      "1\n",
      "test22.jpeg\n",
      "1/1 [==============================] - 0s 98ms/step\n",
      "1\n",
      "test12.jpeg\n",
      "1/1 [==============================] - 0s 94ms/step\n",
      "1\n"
     ]
    }
   ],
   "source": [
    "pred_img=\"/home/fansan/Desktop/Document-Classifier/Dataset/testing/\"\n",
    "\n",
    "for img in os.listdir(pred_img):\n",
    "    img_path=pred_img+img\n",
    "    print(img)\n",
    "    img_arr=cv2.imread(img_path)\n",
    "    #print(pred_img.shape)\n",
    "    img_arr=cv2.resize(img_arr,(224, 224),3)\n",
    "    #print(pred_img.shape)\n",
    "    #print(type(pred_img))\n",
    "    img_arr=img_to_array(img_arr)\n",
    "    img_arr=np.expand_dims(img_arr,axis=0)\n",
    "    predictions=model.predict(img_arr)\n",
    "    p=predictions.argmax()\n",
    "    print(p)"
   ]
  },
  {
   "cell_type": "code",
   "execution_count": 23,
   "id": "71e8871c",
   "metadata": {},
   "outputs": [
    {
     "name": "stdout",
     "output_type": "stream",
     "text": [
      "/home/fansan/Desktop/Document-Classifier/Dataset/testing/\n"
     ]
    }
   ],
   "source": [
    "print(pred_img)"
   ]
  },
  {
   "cell_type": "code",
   "execution_count": null,
   "id": "6c805b1b",
   "metadata": {},
   "outputs": [],
   "source": []
  }
 ],
 "metadata": {
  "kernelspec": {
   "display_name": "Python 3 (ipykernel)",
   "language": "python",
   "name": "python3"
  },
  "language_info": {
   "codemirror_mode": {
    "name": "ipython",
    "version": 3
   },
   "file_extension": ".py",
   "mimetype": "text/x-python",
   "name": "python",
   "nbconvert_exporter": "python",
   "pygments_lexer": "ipython3",
   "version": "3.9.7"
  }
 },
 "nbformat": 4,
 "nbformat_minor": 5
}
