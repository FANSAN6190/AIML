{
 "cells": [
  {
   "cell_type": "code",
   "execution_count": 1,
   "id": "45fdf34e",
   "metadata": {},
   "outputs": [],
   "source": [
    "import pandas as pd\n",
    "import numpy as np\n",
    "import nltk"
   ]
  },
  {
   "cell_type": "markdown",
   "id": "960fe82e",
   "metadata": {},
   "source": [
    "# Loading Data"
   ]
  },
  {
   "cell_type": "code",
   "execution_count": 2,
   "id": "8e41d11e",
   "metadata": {},
   "outputs": [
    {
     "name": "stdout",
     "output_type": "stream",
     "text": [
      "(2249698, 6)\n",
      "(734736, 5)\n"
     ]
    }
   ],
   "source": [
    "train=pd.read_csv(\"dataset/train.csv\")\n",
    "test=pd.read_csv(\"dataset/test.csv\")\n",
    "print(train.shape)\n",
    "print(test.shape)"
   ]
  },
  {
   "cell_type": "code",
   "execution_count": 3,
   "id": "839511cc",
   "metadata": {},
   "outputs": [],
   "source": [
    "train=train.iloc[:1000000,:]\n",
    "test=test.iloc[:30000,:]"
   ]
  },
  {
   "cell_type": "code",
   "execution_count": 4,
   "id": "4b8e66e3",
   "metadata": {},
   "outputs": [
    {
     "name": "stdout",
     "output_type": "stream",
     "text": [
      "<class 'pandas.core.frame.DataFrame'>\n",
      "RangeIndex: 1000000 entries, 0 to 999999\n",
      "Data columns (total 6 columns):\n",
      " #   Column           Non-Null Count    Dtype  \n",
      "---  ------           --------------    -----  \n",
      " 0   PRODUCT_ID       1000000 non-null  int64  \n",
      " 1   TITLE            999995 non-null   object \n",
      " 2   BULLET_POINTS    627877 non-null   object \n",
      " 3   DESCRIPTION      485344 non-null   object \n",
      " 4   PRODUCT_TYPE_ID  1000000 non-null  int64  \n",
      " 5   PRODUCT_LENGTH   1000000 non-null  float64\n",
      "dtypes: float64(1), int64(2), object(3)\n",
      "memory usage: 45.8+ MB\n",
      "None\n",
      "<class 'pandas.core.frame.DataFrame'>\n",
      "RangeIndex: 30000 entries, 0 to 29999\n",
      "Data columns (total 5 columns):\n",
      " #   Column           Non-Null Count  Dtype \n",
      "---  ------           --------------  ----- \n",
      " 0   PRODUCT_ID       30000 non-null  int64 \n",
      " 1   TITLE            30000 non-null  object\n",
      " 2   BULLET_POINTS    18765 non-null  object\n",
      " 3   DESCRIPTION      14500 non-null  object\n",
      " 4   PRODUCT_TYPE_ID  30000 non-null  int64 \n",
      "dtypes: int64(2), object(3)\n",
      "memory usage: 1.1+ MB\n",
      "None\n"
     ]
    }
   ],
   "source": [
    "print(train.info())\n",
    "print(test.info())"
   ]
  },
  {
   "cell_type": "code",
   "execution_count": 5,
   "id": "d0e0db7b",
   "metadata": {},
   "outputs": [
    {
     "name": "stdout",
     "output_type": "stream",
     "text": [
      "PRODUCT_ID              0\n",
      "TITLE                   5\n",
      "BULLET_POINTS      372123\n",
      "DESCRIPTION        514656\n",
      "PRODUCT_TYPE_ID         0\n",
      "PRODUCT_LENGTH          0\n",
      "dtype: int64\n",
      "PRODUCT_ID             0\n",
      "TITLE                  0\n",
      "BULLET_POINTS      11235\n",
      "DESCRIPTION        15500\n",
      "PRODUCT_TYPE_ID        0\n",
      "dtype: int64\n"
     ]
    }
   ],
   "source": [
    "print(train.isna().sum())\n",
    "print(test.isna().sum())"
   ]
  },
  {
   "cell_type": "markdown",
   "id": "e8715af1",
   "metadata": {},
   "source": [
    "# Data Cleaning"
   ]
  },
  {
   "cell_type": "code",
   "execution_count": 6,
   "id": "362e9c11",
   "metadata": {},
   "outputs": [
    {
     "name": "stdout",
     "output_type": "stream",
     "text": [
      "PRODUCT_ID         0\n",
      "TITLE              0\n",
      "BULLET_POINTS      0\n",
      "DESCRIPTION        0\n",
      "PRODUCT_TYPE_ID    0\n",
      "PRODUCT_LENGTH     0\n",
      "dtype: int64\n",
      "PRODUCT_ID         0\n",
      "TITLE              0\n",
      "BULLET_POINTS      0\n",
      "DESCRIPTION        0\n",
      "PRODUCT_TYPE_ID    0\n",
      "dtype: int64\n"
     ]
    }
   ],
   "source": [
    "train=train.fillna(\"\")\n",
    "test=test.fillna(\"\")\n",
    "print(train.isna().sum())\n",
    "print(test.isna().sum())"
   ]
  },
  {
   "cell_type": "code",
   "execution_count": 7,
   "id": "b714be46",
   "metadata": {},
   "outputs": [
    {
     "name": "stdout",
     "output_type": "stream",
     "text": [
      "(1000000, 4)\n",
      "(30000, 4)\n"
     ]
    }
   ],
   "source": [
    "train2=train.drop(\"PRODUCT_TYPE_ID\", axis=1)\n",
    "train2=train2.drop(\"PRODUCT_LENGTH\", axis=1)\n",
    "test2=test.drop(\"PRODUCT_TYPE_ID\", axis=1)\n",
    "print(train2.shape)\n",
    "print(test2.shape)"
   ]
  },
  {
   "cell_type": "code",
   "execution_count": 8,
   "id": "e376e78c",
   "metadata": {},
   "outputs": [
    {
     "name": "stdout",
     "output_type": "stream",
     "text": [
      "0         2125.980000\n",
      "1          393.700000\n",
      "2          748.031495\n",
      "3          787.401574\n",
      "4          598.424000\n",
      "             ...     \n",
      "999995     225.000000\n",
      "999996     650.000000\n",
      "999997     118.750000\n",
      "999998    5905.511805\n",
      "999999      13.779500\n",
      "Name: PRODUCT_LENGTH, Length: 1000000, dtype: float64\n"
     ]
    }
   ],
   "source": [
    "target=train.PRODUCT_LENGTH\n",
    "print(target)"
   ]
  },
  {
   "cell_type": "code",
   "execution_count": 9,
   "id": "03df8a5f",
   "metadata": {},
   "outputs": [],
   "source": [
    "import string\n",
    "import re\n",
    "def clean(text):\n",
    "    \n",
    "    text = str(text).lower()\n",
    "    text = re.sub('\\[.*?\\]', '', text)\n",
    "    text = re.sub('https?://\\S+|www\\.\\S+', '', text)\n",
    "    text = re.sub('<.*?>+', '', text)\n",
    "    text=re.sub('[^a-zA-Z\\s\\d]','', text)\n",
    "    text = re.sub('\\n', '', text)\n",
    "    text = re.sub('<p><strong>', '', text)\n",
    "    text = re.sub('<break>', '', text)\n",
    "    #print(text)\n",
    "    return text\n",
    "\n",
    "def clean_bullets(text):\n",
    "    text = str(text).lower()\n",
    "    new_text=re.sub('[^a-zA-Z\\s\\d]','', text)\n",
    "    #print(new_text)\n",
    "    return new_text\n",
    "#train3=pd.DataFrame({})\n",
    "#test3=pd.DataFrame({})\n",
    "\n",
    "train2[\"TITLE\"]=train2[\"TITLE\"].apply(clean)\n",
    "train2[\"BULLET_POINTS\"]=train2[\"BULLET_POINTS\"].apply(clean_bullets)\n",
    "train2[\"DESCRIPTION\"]=train2[\"DESCRIPTION\"].apply(clean)\n",
    "\n",
    "test2[\"TITLE\"]=test2[\"TITLE\"].apply(clean)\n",
    "test2[\"BULLET_POINTS\"]=test2[\"BULLET_POINTS\"].apply(clean_bullets)\n",
    "test2[\"DESCRIPTION\"]=test2[\"DESCRIPTION\"].apply(clean)"
   ]
  },
  {
   "cell_type": "code",
   "execution_count": 10,
   "id": "fb7f382b",
   "metadata": {
    "scrolled": true
   },
   "outputs": [
    {
     "data": {
      "text/html": [
       "<div>\n",
       "<style scoped>\n",
       "    .dataframe tbody tr th:only-of-type {\n",
       "        vertical-align: middle;\n",
       "    }\n",
       "\n",
       "    .dataframe tbody tr th {\n",
       "        vertical-align: top;\n",
       "    }\n",
       "\n",
       "    .dataframe thead th {\n",
       "        text-align: right;\n",
       "    }\n",
       "</style>\n",
       "<table border=\"1\" class=\"dataframe\">\n",
       "  <thead>\n",
       "    <tr style=\"text-align: right;\">\n",
       "      <th></th>\n",
       "      <th>PRODUCT_ID</th>\n",
       "      <th>TITLE</th>\n",
       "      <th>BULLET_POINTS</th>\n",
       "      <th>DESCRIPTION</th>\n",
       "    </tr>\n",
       "  </thead>\n",
       "  <tbody>\n",
       "    <tr>\n",
       "      <th>0</th>\n",
       "      <td>1925202</td>\n",
       "      <td>artzfolio tulip flowers blackout curtain for d...</td>\n",
       "      <td>luxurious  appealing beautiful custommade curt...</td>\n",
       "      <td></td>\n",
       "    </tr>\n",
       "    <tr>\n",
       "      <th>1</th>\n",
       "      <td>2673191</td>\n",
       "      <td>marks  spencer girls pyjama sets t862561cnavy ...</td>\n",
       "      <td>harry potter hedwig pyjamas 616 yrs100 cotton ...</td>\n",
       "      <td></td>\n",
       "    </tr>\n",
       "    <tr>\n",
       "      <th>2</th>\n",
       "      <td>2765088</td>\n",
       "      <td>priknik horn red electric air horn compressor ...</td>\n",
       "      <td>loud dual tone trumpet horn compatible with sx...</td>\n",
       "      <td>specifications color red material aluminium vo...</td>\n",
       "    </tr>\n",
       "    <tr>\n",
       "      <th>3</th>\n",
       "      <td>1594019</td>\n",
       "      <td>alishah womens cotton ankle length leggings co...</td>\n",
       "      <td>made by 95cotton and 5 lycra which gives you 4...</td>\n",
       "      <td>aishah womens lycra cotton ankel leggings bran...</td>\n",
       "    </tr>\n",
       "    <tr>\n",
       "      <th>4</th>\n",
       "      <td>283658</td>\n",
       "      <td>the united empire loyalists a chronicle of the...</td>\n",
       "      <td></td>\n",
       "      <td></td>\n",
       "    </tr>\n",
       "    <tr>\n",
       "      <th>...</th>\n",
       "      <td>...</td>\n",
       "      <td>...</td>\n",
       "      <td>...</td>\n",
       "      <td>...</td>\n",
       "    </tr>\n",
       "    <tr>\n",
       "      <th>999995</th>\n",
       "      <td>949151</td>\n",
       "      <td>alltrade 948002 power steering pump pulley kit...</td>\n",
       "      <td>made to be the most reliable tools in the mark...</td>\n",
       "      <td></td>\n",
       "    </tr>\n",
       "    <tr>\n",
       "      <th>999996</th>\n",
       "      <td>157728</td>\n",
       "      <td>the graduates predictionary a safedeposit box ...</td>\n",
       "      <td></td>\n",
       "      <td></td>\n",
       "    </tr>\n",
       "    <tr>\n",
       "      <th>999997</th>\n",
       "      <td>1152059</td>\n",
       "      <td>lechat 3 rolls holographic nail striping tapes...</td>\n",
       "      <td></td>\n",
       "      <td>lechat dare to wear nail polish fizzy apple 05...</td>\n",
       "    </tr>\n",
       "    <tr>\n",
       "      <th>999998</th>\n",
       "      <td>2871659</td>\n",
       "      <td>sweet homes 25 inchess luxury shag collection ...</td>\n",
       "      <td>25 inchess pile height and ultra fluffy thickn...</td>\n",
       "      <td>super soft fluffy rug uses high density piles ...</td>\n",
       "    </tr>\n",
       "    <tr>\n",
       "      <th>999999</th>\n",
       "      <td>1129525</td>\n",
       "      <td>diamond wish 14k yellow gold single princesscu...</td>\n",
       "      <td>a 016 carat tw 299 mm single princesscut diamo...</td>\n",
       "      <td>this elegant single diamond stud earring featu...</td>\n",
       "    </tr>\n",
       "  </tbody>\n",
       "</table>\n",
       "<p>1000000 rows × 4 columns</p>\n",
       "</div>"
      ],
      "text/plain": [
       "        PRODUCT_ID                                              TITLE  \\\n",
       "0          1925202  artzfolio tulip flowers blackout curtain for d...   \n",
       "1          2673191  marks  spencer girls pyjama sets t862561cnavy ...   \n",
       "2          2765088  priknik horn red electric air horn compressor ...   \n",
       "3          1594019  alishah womens cotton ankle length leggings co...   \n",
       "4           283658  the united empire loyalists a chronicle of the...   \n",
       "...            ...                                                ...   \n",
       "999995      949151  alltrade 948002 power steering pump pulley kit...   \n",
       "999996      157728  the graduates predictionary a safedeposit box ...   \n",
       "999997     1152059  lechat 3 rolls holographic nail striping tapes...   \n",
       "999998     2871659  sweet homes 25 inchess luxury shag collection ...   \n",
       "999999     1129525  diamond wish 14k yellow gold single princesscu...   \n",
       "\n",
       "                                            BULLET_POINTS  \\\n",
       "0       luxurious  appealing beautiful custommade curt...   \n",
       "1       harry potter hedwig pyjamas 616 yrs100 cotton ...   \n",
       "2       loud dual tone trumpet horn compatible with sx...   \n",
       "3       made by 95cotton and 5 lycra which gives you 4...   \n",
       "4                                                           \n",
       "...                                                   ...   \n",
       "999995  made to be the most reliable tools in the mark...   \n",
       "999996                                                      \n",
       "999997                                                      \n",
       "999998  25 inchess pile height and ultra fluffy thickn...   \n",
       "999999  a 016 carat tw 299 mm single princesscut diamo...   \n",
       "\n",
       "                                              DESCRIPTION  \n",
       "0                                                          \n",
       "1                                                          \n",
       "2       specifications color red material aluminium vo...  \n",
       "3       aishah womens lycra cotton ankel leggings bran...  \n",
       "4                                                          \n",
       "...                                                   ...  \n",
       "999995                                                     \n",
       "999996                                                     \n",
       "999997  lechat dare to wear nail polish fizzy apple 05...  \n",
       "999998  super soft fluffy rug uses high density piles ...  \n",
       "999999  this elegant single diamond stud earring featu...  \n",
       "\n",
       "[1000000 rows x 4 columns]"
      ]
     },
     "execution_count": 10,
     "metadata": {},
     "output_type": "execute_result"
    }
   ],
   "source": [
    "train2"
   ]
  },
  {
   "cell_type": "code",
   "execution_count": 11,
   "id": "bb02199f",
   "metadata": {
    "scrolled": true
   },
   "outputs": [
    {
     "data": {
      "text/html": [
       "<div>\n",
       "<style scoped>\n",
       "    .dataframe tbody tr th:only-of-type {\n",
       "        vertical-align: middle;\n",
       "    }\n",
       "\n",
       "    .dataframe tbody tr th {\n",
       "        vertical-align: top;\n",
       "    }\n",
       "\n",
       "    .dataframe thead th {\n",
       "        text-align: right;\n",
       "    }\n",
       "</style>\n",
       "<table border=\"1\" class=\"dataframe\">\n",
       "  <thead>\n",
       "    <tr style=\"text-align: right;\">\n",
       "      <th></th>\n",
       "      <th>PRODUCT_ID</th>\n",
       "      <th>TITLE</th>\n",
       "      <th>BULLET_POINTS</th>\n",
       "      <th>DESCRIPTION</th>\n",
       "    </tr>\n",
       "  </thead>\n",
       "  <tbody>\n",
       "    <tr>\n",
       "      <th>0</th>\n",
       "      <td>604373</td>\n",
       "      <td>manuel dhliogravure et de photogravure en reli...</td>\n",
       "      <td></td>\n",
       "      <td></td>\n",
       "    </tr>\n",
       "    <tr>\n",
       "      <th>1</th>\n",
       "      <td>1729783</td>\n",
       "      <td>dcgaring microfiber throw blanket warm fuzzy p...</td>\n",
       "      <td>quality guaranteed luxury cozy plush polyester...</td>\n",
       "      <td>dcgaring throw blanket size chart  w x l  twin...</td>\n",
       "    </tr>\n",
       "    <tr>\n",
       "      <th>2</th>\n",
       "      <td>1871949</td>\n",
       "      <td>imatch auto parts front license plate bracket ...</td>\n",
       "      <td>front license plate bracket made of plasticdir...</td>\n",
       "      <td>replacement for the following vehicles2020 lex...</td>\n",
       "    </tr>\n",
       "    <tr>\n",
       "      <th>3</th>\n",
       "      <td>1107571</td>\n",
       "      <td>pinmart gold plated excellence in service 1 ye...</td>\n",
       "      <td>available as a single item or bulk packed sele...</td>\n",
       "      <td>our excellence in service lapel pins feature a...</td>\n",
       "    </tr>\n",
       "    <tr>\n",
       "      <th>4</th>\n",
       "      <td>624253</td>\n",
       "      <td>visual mathematics illustrated by the ti92 and...</td>\n",
       "      <td></td>\n",
       "      <td></td>\n",
       "    </tr>\n",
       "    <tr>\n",
       "      <th>...</th>\n",
       "      <td>...</td>\n",
       "      <td>...</td>\n",
       "      <td>...</td>\n",
       "      <td>...</td>\n",
       "    </tr>\n",
       "    <tr>\n",
       "      <th>29995</th>\n",
       "      <td>1604180</td>\n",
       "      <td>good cushion 4202 bamboo utensil drawer organi...</td>\n",
       "      <td>get organized with this perfect home solutionn...</td>\n",
       "      <td></td>\n",
       "    </tr>\n",
       "    <tr>\n",
       "      <th>29996</th>\n",
       "      <td>89079</td>\n",
       "      <td>life of josiah quincy of massachusetts</td>\n",
       "      <td></td>\n",
       "      <td></td>\n",
       "    </tr>\n",
       "    <tr>\n",
       "      <th>29997</th>\n",
       "      <td>1173553</td>\n",
       "      <td>m10x55mm thread 80mm long lever lathe adjustab...</td>\n",
       "      <td>weight 328g product name adjustable clamping h...</td>\n",
       "      <td>features spring loaded bolt highimpact antiaci...</td>\n",
       "    </tr>\n",
       "    <tr>\n",
       "      <th>29998</th>\n",
       "      <td>532202</td>\n",
       "      <td>angie lewin wall calendar 2017 art calendar</td>\n",
       "      <td></td>\n",
       "      <td></td>\n",
       "    </tr>\n",
       "    <tr>\n",
       "      <th>29999</th>\n",
       "      <td>2090547</td>\n",
       "      <td>united colors of benetton boys boyfriend track...</td>\n",
       "      <td>100 cottonspecial size type bigpackage weight ...</td>\n",
       "      <td></td>\n",
       "    </tr>\n",
       "  </tbody>\n",
       "</table>\n",
       "<p>30000 rows × 4 columns</p>\n",
       "</div>"
      ],
      "text/plain": [
       "       PRODUCT_ID                                              TITLE  \\\n",
       "0          604373  manuel dhliogravure et de photogravure en reli...   \n",
       "1         1729783  dcgaring microfiber throw blanket warm fuzzy p...   \n",
       "2         1871949  imatch auto parts front license plate bracket ...   \n",
       "3         1107571  pinmart gold plated excellence in service 1 ye...   \n",
       "4          624253  visual mathematics illustrated by the ti92 and...   \n",
       "...           ...                                                ...   \n",
       "29995     1604180  good cushion 4202 bamboo utensil drawer organi...   \n",
       "29996       89079             life of josiah quincy of massachusetts   \n",
       "29997     1173553  m10x55mm thread 80mm long lever lathe adjustab...   \n",
       "29998      532202        angie lewin wall calendar 2017 art calendar   \n",
       "29999     2090547  united colors of benetton boys boyfriend track...   \n",
       "\n",
       "                                           BULLET_POINTS  \\\n",
       "0                                                          \n",
       "1      quality guaranteed luxury cozy plush polyester...   \n",
       "2      front license plate bracket made of plasticdir...   \n",
       "3      available as a single item or bulk packed sele...   \n",
       "4                                                          \n",
       "...                                                  ...   \n",
       "29995  get organized with this perfect home solutionn...   \n",
       "29996                                                      \n",
       "29997  weight 328g product name adjustable clamping h...   \n",
       "29998                                                      \n",
       "29999  100 cottonspecial size type bigpackage weight ...   \n",
       "\n",
       "                                             DESCRIPTION  \n",
       "0                                                         \n",
       "1      dcgaring throw blanket size chart  w x l  twin...  \n",
       "2      replacement for the following vehicles2020 lex...  \n",
       "3      our excellence in service lapel pins feature a...  \n",
       "4                                                         \n",
       "...                                                  ...  \n",
       "29995                                                     \n",
       "29996                                                     \n",
       "29997  features spring loaded bolt highimpact antiaci...  \n",
       "29998                                                     \n",
       "29999                                                     \n",
       "\n",
       "[30000 rows x 4 columns]"
      ]
     },
     "execution_count": 11,
     "metadata": {},
     "output_type": "execute_result"
    }
   ],
   "source": [
    "test2"
   ]
  },
  {
   "cell_type": "code",
   "execution_count": 12,
   "id": "d8e28581",
   "metadata": {},
   "outputs": [],
   "source": [
    "from nltk.corpus import stopwords\n",
    "from nltk.tokenize import word_tokenize \n",
    "\n",
    "def tokenize(text):\n",
    "    new_text = ''.join([i for i in text if not i.isdigit()])\n",
    "    #new_text = ' '.join([word for word in new_text if len(word) > 10])\n",
    "    word_tokens=word_tokenize(new_text)\n",
    "    #print(word_tokens)\n",
    "    return word_tokens\n",
    "\n",
    "stop_words = set(stopwords.words('english')) \n",
    "def stopword_removal(text):\n",
    "    filtered_sentence = [] \n",
    "    for w in text:\n",
    "        if w not in stop_words: \n",
    "            filtered_sentence.append(w)\n",
    "    #print(filtered_sentence)\n",
    "    return filtered_sentence\n",
    "#train4=pd.DataFrame({})\n",
    "#test4=pd.DataFrame({})\n",
    "train2[\"TITLE\"]=train2[\"TITLE\"].apply(tokenize)\n",
    "train2[\"TITLE\"]=train2[\"TITLE\"].apply(stopword_removal)\n",
    "train2[\"BULLET_POINTS\"]=train2[\"BULLET_POINTS\"].apply(tokenize)\n",
    "train2[\"BULLET_POINTS\"]=train2[\"BULLET_POINTS\"].apply(stopword_removal)\n",
    "train2[\"DESCRIPTION\"]=train2[\"DESCRIPTION\"].apply(tokenize)\n",
    "train2[\"DESCRIPTION\"]=train2[\"DESCRIPTION\"].apply(stopword_removal)\n",
    "\n",
    "test2[\"TITLE\"]=test2[\"TITLE\"].apply(tokenize)\n",
    "test2[\"TITLE\"]=test2[\"TITLE\"].apply(stopword_removal)\n",
    "test2[\"BULLET_POINTS\"]=test2[\"BULLET_POINTS\"].apply(tokenize)\n",
    "test2[\"BULLET_POINTS\"]=test2[\"BULLET_POINTS\"].apply(stopword_removal)\n",
    "test2[\"DESCRIPTION\"]=test2[\"DESCRIPTION\"].apply(tokenize)\n",
    "test2[\"DESCRIPTION\"]=test2[\"DESCRIPTION\"].apply(stopword_removal)\n"
   ]
  },
  {
   "cell_type": "code",
   "execution_count": null,
   "id": "15250d51",
   "metadata": {},
   "outputs": [],
   "source": []
  },
  {
   "cell_type": "code",
   "execution_count": 13,
   "id": "eaa957ca",
   "metadata": {},
   "outputs": [
    {
     "data": {
      "text/plain": [
       "0         [artzfolio, tulip, flowers, blackout, curtain,...\n",
       "1         [marks, spencer, girls, pyjama, sets, tcnavy, ...\n",
       "2         [priknik, horn, red, electric, air, horn, comp...\n",
       "3         [alishah, womens, cotton, ankle, length, leggi...\n",
       "4         [united, empire, loyalists, chronicle, great, ...\n",
       "                                ...                        \n",
       "999995    [alltrade, power, steering, pump, pulley, kit,...\n",
       "999996    [graduates, predictionary, safedeposit, box, h...\n",
       "999997    [lechat, rolls, holographic, nail, striping, t...\n",
       "999998    [sweet, homes, inchess, luxury, shag, collecti...\n",
       "999999    [diamond, wish, k, yellow, gold, single, princ...\n",
       "Name: TITLE, Length: 1000000, dtype: object"
      ]
     },
     "execution_count": 13,
     "metadata": {},
     "output_type": "execute_result"
    }
   ],
   "source": [
    "train2.TITLE"
   ]
  },
  {
   "cell_type": "code",
   "execution_count": 14,
   "id": "6ef3a953",
   "metadata": {
    "scrolled": true
   },
   "outputs": [
    {
     "data": {
      "text/html": [
       "<div>\n",
       "<style scoped>\n",
       "    .dataframe tbody tr th:only-of-type {\n",
       "        vertical-align: middle;\n",
       "    }\n",
       "\n",
       "    .dataframe tbody tr th {\n",
       "        vertical-align: top;\n",
       "    }\n",
       "\n",
       "    .dataframe thead th {\n",
       "        text-align: right;\n",
       "    }\n",
       "</style>\n",
       "<table border=\"1\" class=\"dataframe\">\n",
       "  <thead>\n",
       "    <tr style=\"text-align: right;\">\n",
       "      <th></th>\n",
       "      <th>PRODUCT_ID</th>\n",
       "      <th>TITLE</th>\n",
       "      <th>BULLET_POINTS</th>\n",
       "      <th>DESCRIPTION</th>\n",
       "    </tr>\n",
       "  </thead>\n",
       "  <tbody>\n",
       "    <tr>\n",
       "      <th>0</th>\n",
       "      <td>604373</td>\n",
       "      <td>[manuel, dhliogravure, et, de, photogravure, e...</td>\n",
       "      <td>[]</td>\n",
       "      <td>[]</td>\n",
       "    </tr>\n",
       "    <tr>\n",
       "      <th>1</th>\n",
       "      <td>1729783</td>\n",
       "      <td>[dcgaring, microfiber, throw, blanket, warm, f...</td>\n",
       "      <td>[quality, guaranteed, luxury, cozy, plush, pol...</td>\n",
       "      <td>[dcgaring, throw, blanket, size, chart, w, x, ...</td>\n",
       "    </tr>\n",
       "    <tr>\n",
       "      <th>2</th>\n",
       "      <td>1871949</td>\n",
       "      <td>[imatch, auto, parts, front, license, plate, b...</td>\n",
       "      <td>[front, license, plate, bracket, made, plastic...</td>\n",
       "      <td>[replacement, following, vehicles, lexus, nxh,...</td>\n",
       "    </tr>\n",
       "    <tr>\n",
       "      <th>3</th>\n",
       "      <td>1107571</td>\n",
       "      <td>[pinmart, gold, plated, excellence, service, y...</td>\n",
       "      <td>[available, single, item, bulk, packed, select...</td>\n",
       "      <td>[excellence, service, lapel, pins, feature, mm...</td>\n",
       "    </tr>\n",
       "    <tr>\n",
       "      <th>4</th>\n",
       "      <td>624253</td>\n",
       "      <td>[visual, mathematics, illustrated, ti, ti]</td>\n",
       "      <td>[]</td>\n",
       "      <td>[]</td>\n",
       "    </tr>\n",
       "    <tr>\n",
       "      <th>...</th>\n",
       "      <td>...</td>\n",
       "      <td>...</td>\n",
       "      <td>...</td>\n",
       "      <td>...</td>\n",
       "    </tr>\n",
       "    <tr>\n",
       "      <th>29995</th>\n",
       "      <td>1604180</td>\n",
       "      <td>[good, cushion, bamboo, utensil, drawer, organ...</td>\n",
       "      <td>[get, organized, perfect, home, solutionnatura...</td>\n",
       "      <td>[]</td>\n",
       "    </tr>\n",
       "    <tr>\n",
       "      <th>29996</th>\n",
       "      <td>89079</td>\n",
       "      <td>[life, josiah, quincy, massachusetts]</td>\n",
       "      <td>[]</td>\n",
       "      <td>[]</td>\n",
       "    </tr>\n",
       "    <tr>\n",
       "      <th>29997</th>\n",
       "      <td>1173553</td>\n",
       "      <td>[mxmm, thread, mm, long, lever, lathe, adjusta...</td>\n",
       "      <td>[weight, g, product, name, adjustable, clampin...</td>\n",
       "      <td>[features, spring, loaded, bolt, highimpact, a...</td>\n",
       "    </tr>\n",
       "    <tr>\n",
       "      <th>29998</th>\n",
       "      <td>532202</td>\n",
       "      <td>[angie, lewin, wall, calendar, art, calendar]</td>\n",
       "      <td>[]</td>\n",
       "      <td>[]</td>\n",
       "    </tr>\n",
       "    <tr>\n",
       "      <th>29999</th>\n",
       "      <td>2090547</td>\n",
       "      <td>[united, colors, benetton, boys, boyfriend, tr...</td>\n",
       "      <td>[cottonspecial, size, type, bigpackage, weight...</td>\n",
       "      <td>[]</td>\n",
       "    </tr>\n",
       "  </tbody>\n",
       "</table>\n",
       "<p>30000 rows × 4 columns</p>\n",
       "</div>"
      ],
      "text/plain": [
       "       PRODUCT_ID                                              TITLE  \\\n",
       "0          604373  [manuel, dhliogravure, et, de, photogravure, e...   \n",
       "1         1729783  [dcgaring, microfiber, throw, blanket, warm, f...   \n",
       "2         1871949  [imatch, auto, parts, front, license, plate, b...   \n",
       "3         1107571  [pinmart, gold, plated, excellence, service, y...   \n",
       "4          624253         [visual, mathematics, illustrated, ti, ti]   \n",
       "...           ...                                                ...   \n",
       "29995     1604180  [good, cushion, bamboo, utensil, drawer, organ...   \n",
       "29996       89079              [life, josiah, quincy, massachusetts]   \n",
       "29997     1173553  [mxmm, thread, mm, long, lever, lathe, adjusta...   \n",
       "29998      532202      [angie, lewin, wall, calendar, art, calendar]   \n",
       "29999     2090547  [united, colors, benetton, boys, boyfriend, tr...   \n",
       "\n",
       "                                           BULLET_POINTS  \\\n",
       "0                                                     []   \n",
       "1      [quality, guaranteed, luxury, cozy, plush, pol...   \n",
       "2      [front, license, plate, bracket, made, plastic...   \n",
       "3      [available, single, item, bulk, packed, select...   \n",
       "4                                                     []   \n",
       "...                                                  ...   \n",
       "29995  [get, organized, perfect, home, solutionnatura...   \n",
       "29996                                                 []   \n",
       "29997  [weight, g, product, name, adjustable, clampin...   \n",
       "29998                                                 []   \n",
       "29999  [cottonspecial, size, type, bigpackage, weight...   \n",
       "\n",
       "                                             DESCRIPTION  \n",
       "0                                                     []  \n",
       "1      [dcgaring, throw, blanket, size, chart, w, x, ...  \n",
       "2      [replacement, following, vehicles, lexus, nxh,...  \n",
       "3      [excellence, service, lapel, pins, feature, mm...  \n",
       "4                                                     []  \n",
       "...                                                  ...  \n",
       "29995                                                 []  \n",
       "29996                                                 []  \n",
       "29997  [features, spring, loaded, bolt, highimpact, a...  \n",
       "29998                                                 []  \n",
       "29999                                                 []  \n",
       "\n",
       "[30000 rows x 4 columns]"
      ]
     },
     "execution_count": 14,
     "metadata": {},
     "output_type": "execute_result"
    }
   ],
   "source": [
    "test2"
   ]
  },
  {
   "cell_type": "code",
   "execution_count": 15,
   "id": "b3d4aeb6",
   "metadata": {},
   "outputs": [],
   "source": [
    "import nltk\n",
    "from nltk.stem import WordNetLemmatizer\n",
    "\n",
    "def lemmatize_text(text):\n",
    "    lemma_word = \"\"\n",
    "    wordnet_lemmatizer = WordNetLemmatizer()\n",
    "    for w in text:\n",
    "        word1 = wordnet_lemmatizer.lemmatize(w, pos = \"n\")\n",
    "        word2 = wordnet_lemmatizer.lemmatize(word1, pos = \"v\")\n",
    "        word3 = wordnet_lemmatizer.lemmatize(word2, pos = (\"a\"))\n",
    "        lemma_word=\" \".join([lemma_word,word3])\n",
    "    #print(lemma_word)\n",
    "    return lemma_word\n",
    "\n",
    "train2.TITLE=train2.TITLE.apply(lemmatize_text)\n",
    "train2.BULLET_POINTS=train2.BULLET_POINTS.apply(lemmatize_text)\n",
    "train2.DESCRIPTION=train2.DESCRIPTION.apply(lemmatize_text)\n",
    "\n",
    "test2.TITLE=test2.TITLE.apply(lemmatize_text)\n",
    "test2.BULLET_POINTS=test2.BULLET_POINTS.apply(lemmatize_text)\n",
    "test2.DESCRIPTION=test2.DESCRIPTION.apply(lemmatize_text)\n"
   ]
  },
  {
   "cell_type": "code",
   "execution_count": 16,
   "id": "e774d730",
   "metadata": {},
   "outputs": [
    {
     "name": "stdout",
     "output_type": "stream",
     "text": [
      "(1000000, 4)\n",
      "(30000, 4)\n"
     ]
    }
   ],
   "source": [
    "print(train2.shape)\n",
    "print(test2.shape)"
   ]
  },
  {
   "cell_type": "code",
   "execution_count": 17,
   "id": "b5e99ac6",
   "metadata": {},
   "outputs": [
    {
     "name": "stdout",
     "output_type": "stream",
     "text": [
      "(1000000,)\n",
      "(30000,)\n"
     ]
    }
   ],
   "source": [
    "train2=train2.TITLE+train2.BULLET_POINTS+train2.DESCRIPTION\n",
    "test2=test2.TITLE+test2.BULLET_POINTS+test2.DESCRIPTION\n",
    "print(train2.shape)\n",
    "print(test2.shape)"
   ]
  },
  {
   "cell_type": "code",
   "execution_count": null,
   "id": "235b2115",
   "metadata": {},
   "outputs": [],
   "source": []
  },
  {
   "cell_type": "code",
   "execution_count": 18,
   "id": "790430a9",
   "metadata": {},
   "outputs": [],
   "source": [
    "from sklearn.feature_extraction.text import TfidfVectorizer\n",
    "transformed_train=TfidfVectorizer(max_df=0.7).fit_transform(train2)\n",
    "transformed_test=TfidfVectorizer(max_df=0.7).fit_transform(test2)\n"
   ]
  },
  {
   "cell_type": "code",
   "execution_count": 19,
   "id": "2a06afd5",
   "metadata": {},
   "outputs": [
    {
     "name": "stdout",
     "output_type": "stream",
     "text": [
      "(1000000, 1615799)\n",
      "(30000, 135318)\n"
     ]
    }
   ],
   "source": [
    "print(transformed_train.shape)\n",
    "print(transformed_test.shape)"
   ]
  },
  {
   "cell_type": "code",
   "execution_count": 20,
   "id": "7b1c7276",
   "metadata": {},
   "outputs": [],
   "source": [
    "from sklearn.linear_model import LinearRegression\n",
    "model=LinearRegression()\n",
    "\n"
   ]
  },
  {
   "cell_type": "code",
   "execution_count": null,
   "id": "1e5e3eb7",
   "metadata": {},
   "outputs": [],
   "source": [
    "model.fit(transformed_train,target)\n",
    "print(model.score(transformed_train,target))\n",
    "import pickle\n",
    "pickle.dump(model, open(\"amlp.sav\", 'wb'))"
   ]
  },
  {
   "cell_type": "code",
   "execution_count": null,
   "id": "84a7b529",
   "metadata": {},
   "outputs": [],
   "source": [
    "from sklearn.metrics import mean_squared_error\n",
    "from matplotlib import pyplot as plt\n",
    "\n",
    "train_pred=model.predict(transformed_train)\n",
    "train_errors = mean_squared_error(target, train_pred)\n",
    "'''for i in range(len(target)):\n",
    "    # calculate error\n",
    "    err = (target[i] - y_pred[i])**2\n",
    "    # store error\n",
    "    errors.append(err)\n",
    "    # report error\n",
    "    #print('>%.1f, %.1f = %.3f' % (target[i], y_pred[i], err))\n",
    "# plot errors'''\n",
    "plt.plot(train2.index,train_pred)\n",
    "\n",
    "#plt.xticks(ticks=[i for i in range(len(errors))], labels=y_pred)\n",
    "plt.xlabel('Product_Index')\n",
    "plt.ylabel('Predicted_Value')\n",
    "plt.show()"
   ]
  },
  {
   "cell_type": "code",
   "execution_count": null,
   "id": "60f1ec2f",
   "metadata": {},
   "outputs": [],
   "source": [
    "test_pred=model.predict(transformed_test)\n",
    "test_errors=mean_squared_error(target, test_pred)\n",
    "\n",
    "plt.plot(test2.index,test_pred)\n",
    "#plt.xticks(ticks=[i for i in range(len(errors))], labels=y_pred)\n",
    "plt.xlabel('Product_Index')\n",
    "plt.ylabel('Predicted_Value')\n",
    "plt.show()"
   ]
  },
  {
   "cell_type": "code",
   "execution_count": null,
   "id": "db75bf1f",
   "metadata": {},
   "outputs": [],
   "source": [
    "y_pred"
   ]
  },
  {
   "cell_type": "code",
   "execution_count": null,
   "id": "9f8ac755",
   "metadata": {},
   "outputs": [],
   "source": [
    "target"
   ]
  },
  {
   "cell_type": "code",
   "execution_count": null,
   "id": "c372509d",
   "metadata": {},
   "outputs": [],
   "source": []
  }
 ],
 "metadata": {
  "kernelspec": {
   "display_name": "Python 3 (ipykernel)",
   "language": "python",
   "name": "python3"
  },
  "language_info": {
   "codemirror_mode": {
    "name": "ipython",
    "version": 3
   },
   "file_extension": ".py",
   "mimetype": "text/x-python",
   "name": "python",
   "nbconvert_exporter": "python",
   "pygments_lexer": "ipython3",
   "version": "3.10.9"
  }
 },
 "nbformat": 4,
 "nbformat_minor": 5
}
