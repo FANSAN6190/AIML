{
 "cells": [
  {
   "cell_type": "code",
   "execution_count": 1,
   "metadata": {
    "id": "IBSJ2sdI1kWj"
   },
   "outputs": [],
   "source": [
    "import pandas as pd\n",
    "import numpy as np\n",
    "#from google.colab import drive\n"
   ]
  },
  {
   "cell_type": "code",
   "execution_count": 2,
   "metadata": {
    "colab": {
     "base_uri": "https://localhost:8080/"
    },
    "id": "1EiQZTL710yf",
    "outputId": "8e840c5e-bb3e-451c-96bd-4e9c7bd75b28"
   },
   "outputs": [],
   "source": [
    "#drive.mount('/content/drive')\n",
    "# train=pd.read_csv(\"/content/train.csv\", engine=\"python\")\n",
    "train=pd.read_csv(\"dataset/train.csv\")\n",
    "# t=pd.read_csv(\"/content/sample_data/mnist_train_small.csv\")\n"
   ]
  },
  {
   "cell_type": "code",
   "execution_count": null,
   "metadata": {
    "id": "fZW2CYVOKQDW"
   },
   "outputs": [],
   "source": []
  },
  {
   "cell_type": "code",
   "execution_count": 3,
   "metadata": {
    "id": "vR3T3gCh35N4"
   },
   "outputs": [
    {
     "data": {
      "text/plain": [
       "(2249698, 6)"
      ]
     },
     "execution_count": 3,
     "metadata": {},
     "output_type": "execute_result"
    }
   ],
   "source": [
    "train.shape"
   ]
  },
  {
   "cell_type": "markdown",
   "metadata": {
    "id": "mzALru5Ueu1V"
   },
   "source": [
    "# New Section"
   ]
  },
  {
   "cell_type": "code",
   "execution_count": 4,
   "metadata": {
    "id": "4bg87sR7289X"
   },
   "outputs": [
    {
     "data": {
      "text/plain": [
       "(2249698, 5)"
      ]
     },
     "execution_count": 4,
     "metadata": {},
     "output_type": "execute_result"
    }
   ],
   "source": [
    "\n",
    "train_new=train.drop(\"PRODUCT_TYPE_ID\", axis=1)\n",
    "train_new.shape"
   ]
  },
  {
   "cell_type": "code",
   "execution_count": 5,
   "metadata": {
    "id": "PVCgV3a_2nXo"
   },
   "outputs": [
    {
     "data": {
      "text/plain": [
       "(5000, 5)"
      ]
     },
     "execution_count": 5,
     "metadata": {},
     "output_type": "execute_result"
    }
   ],
   "source": [
    "train_new=train_new.dropna()\n",
    "train_new=train_new.iloc[:5000,:]\n",
    "train_new.shape"
   ]
  },
  {
   "cell_type": "code",
   "execution_count": null,
   "metadata": {
    "id": "jDANrBEh5Wj6"
   },
   "outputs": [],
   "source": []
  },
  {
   "cell_type": "code",
   "execution_count": null,
   "metadata": {
    "id": "R1fVpO-D5dMM"
   },
   "outputs": [],
   "source": []
  },
  {
   "cell_type": "code",
   "execution_count": null,
   "metadata": {
    "id": "k6SaXs5r6m8m"
   },
   "outputs": [],
   "source": []
  },
  {
   "cell_type": "code",
   "execution_count": 6,
   "metadata": {
    "id": "BOv8unuj7k-J"
   },
   "outputs": [],
   "source": [
    "# train_new.isnull().sum()"
   ]
  },
  {
   "cell_type": "code",
   "execution_count": 7,
   "metadata": {
    "id": "TaWigaWh7slw"
   },
   "outputs": [
    {
     "data": {
      "text/html": [
       "<div>\n",
       "<style scoped>\n",
       "    .dataframe tbody tr th:only-of-type {\n",
       "        vertical-align: middle;\n",
       "    }\n",
       "\n",
       "    .dataframe tbody tr th {\n",
       "        vertical-align: top;\n",
       "    }\n",
       "\n",
       "    .dataframe thead th {\n",
       "        text-align: right;\n",
       "    }\n",
       "</style>\n",
       "<table border=\"1\" class=\"dataframe\">\n",
       "  <thead>\n",
       "    <tr style=\"text-align: right;\">\n",
       "      <th></th>\n",
       "      <th>PRODUCT_ID</th>\n",
       "      <th>TITLE</th>\n",
       "      <th>BULLET_POINTS</th>\n",
       "      <th>DESCRIPTION</th>\n",
       "      <th>PRODUCT_LENGTH</th>\n",
       "    </tr>\n",
       "  </thead>\n",
       "  <tbody>\n",
       "    <tr>\n",
       "      <th>2</th>\n",
       "      <td>2765088</td>\n",
       "      <td>PRIKNIK Horn Red Electric Air Horn Compressor ...</td>\n",
       "      <td>[Loud Dual Tone Trumpet Horn, Compatible With ...</td>\n",
       "      <td>Specifications: Color: Red, Material: Aluminiu...</td>\n",
       "      <td>748.031495</td>\n",
       "    </tr>\n",
       "    <tr>\n",
       "      <th>3</th>\n",
       "      <td>1594019</td>\n",
       "      <td>ALISHAH Women's Cotton Ankle Length Leggings C...</td>\n",
       "      <td>[Made By 95%cotton and 5% Lycra which gives yo...</td>\n",
       "      <td>AISHAH Women's Lycra Cotton Ankel Leggings. Br...</td>\n",
       "      <td>787.401574</td>\n",
       "    </tr>\n",
       "    <tr>\n",
       "      <th>5</th>\n",
       "      <td>2152929</td>\n",
       "      <td>HINS Metal Bucket Shape Plant Pot for Indoor &amp;...</td>\n",
       "      <td>[Simple and elegant, great for displaying indo...</td>\n",
       "      <td>HINS Brings you the most Elegant Looking Pot w...</td>\n",
       "      <td>950.000000</td>\n",
       "    </tr>\n",
       "    <tr>\n",
       "      <th>7</th>\n",
       "      <td>2026580</td>\n",
       "      <td>Delavala Self Adhesive Kitchen Backsplash Wall...</td>\n",
       "      <td>[HIGH QUALITY PVC MATERIAL: The kitchen alumin...</td>\n",
       "      <td>&lt;p&gt;&lt;strong&gt;Aluminum Foil Stickers-good kitchen...</td>\n",
       "      <td>984.251967</td>\n",
       "    </tr>\n",
       "    <tr>\n",
       "      <th>9</th>\n",
       "      <td>2998633</td>\n",
       "      <td>Hexwell Essential oil for Home Fragrance Oil A...</td>\n",
       "      <td>[100% Pure And Natural Essential Oil Or Fragra...</td>\n",
       "      <td>Transform your home, workplace or hotel room i...</td>\n",
       "      <td>393.700787</td>\n",
       "    </tr>\n",
       "  </tbody>\n",
       "</table>\n",
       "</div>"
      ],
      "text/plain": [
       "   PRODUCT_ID                                              TITLE  \\\n",
       "2     2765088  PRIKNIK Horn Red Electric Air Horn Compressor ...   \n",
       "3     1594019  ALISHAH Women's Cotton Ankle Length Leggings C...   \n",
       "5     2152929  HINS Metal Bucket Shape Plant Pot for Indoor &...   \n",
       "7     2026580  Delavala Self Adhesive Kitchen Backsplash Wall...   \n",
       "9     2998633  Hexwell Essential oil for Home Fragrance Oil A...   \n",
       "\n",
       "                                       BULLET_POINTS  \\\n",
       "2  [Loud Dual Tone Trumpet Horn, Compatible With ...   \n",
       "3  [Made By 95%cotton and 5% Lycra which gives yo...   \n",
       "5  [Simple and elegant, great for displaying indo...   \n",
       "7  [HIGH QUALITY PVC MATERIAL: The kitchen alumin...   \n",
       "9  [100% Pure And Natural Essential Oil Or Fragra...   \n",
       "\n",
       "                                         DESCRIPTION  PRODUCT_LENGTH  \n",
       "2  Specifications: Color: Red, Material: Aluminiu...      748.031495  \n",
       "3  AISHAH Women's Lycra Cotton Ankel Leggings. Br...      787.401574  \n",
       "5  HINS Brings you the most Elegant Looking Pot w...      950.000000  \n",
       "7  <p><strong>Aluminum Foil Stickers-good kitchen...      984.251967  \n",
       "9  Transform your home, workplace or hotel room i...      393.700787  "
      ]
     },
     "execution_count": 7,
     "metadata": {},
     "output_type": "execute_result"
    }
   ],
   "source": [
    "train_new.head()"
   ]
  },
  {
   "cell_type": "code",
   "execution_count": null,
   "metadata": {
    "id": "3aenpnCJsLp3"
   },
   "outputs": [],
   "source": []
  },
  {
   "cell_type": "code",
   "execution_count": null,
   "metadata": {
    "id": "DgBgyC-F7yUc"
   },
   "outputs": [],
   "source": []
  },
  {
   "cell_type": "code",
   "execution_count": 8,
   "metadata": {
    "id": "Mcf-pvopBVGy"
   },
   "outputs": [
    {
     "data": {
      "text/plain": [
       "2        PRIKNIK Horn Red Electric Air Horn Compressor ...\n",
       "3        ALISHAH Women's Cotton Ankle Length Leggings C...\n",
       "5        HINS Metal Bucket Shape Plant Pot for Indoor &...\n",
       "7        Delavala Self Adhesive Kitchen Backsplash Wall...\n",
       "9        Hexwell Essential oil for Home Fragrance Oil A...\n",
       "                               ...                        \n",
       "10882    G&A Brass Puja Booty (Brass Flower/Fruits Bask...\n",
       "10885    RYB HOME Blackout Tier Curtains for Kitchen, S...\n",
       "10888    Columbia Women&#39;s Wayfinder Outdry Hiking S...\n",
       "10891    Journee Collection Womens Round Toe High Heel ...\n",
       "10892    Guance Black Front Bumper Lip Stickon Car Body...\n",
       "Length: 5000, dtype: object"
      ]
     },
     "execution_count": 8,
     "metadata": {},
     "output_type": "execute_result"
    }
   ],
   "source": [
    "train_new=train_new.TITLE+train_new.BULLET_POINTS+train_new.DESCRIPTION\n",
    "train_new"
   ]
  },
  {
   "cell_type": "code",
   "execution_count": 9,
   "metadata": {
    "id": "qnWXpuzBsM5z"
   },
   "outputs": [],
   "source": [
    "#Stopwords Removal (works but takes a lot of time)\n",
    "# import re\n",
    "# from nltk.corpus import stopwords\n",
    "# stopword=stopwords.words(\"english\")\n",
    "# i=0\n",
    "# for text in train_new.TITLE:\n",
    "#     words = [word for word in text.split() if word.lower() not in stopword]\n",
    "#     new_text = \" \".join(words)\n",
    "#     train_new.TITLE[i]=new_text\n",
    "#     #print(new_text)"
   ]
  },
  {
   "cell_type": "code",
   "execution_count": 10,
   "metadata": {
    "id": "Hs5n-2KcIRlb"
   },
   "outputs": [],
   "source": [
    "import re\n",
    "def clean(text):\n",
    "    \n",
    "    text = str(text).lower()\n",
    "    text = re.sub('\\[.*?\\]', '', text)\n",
    "    text = re.sub('https?://\\S+|www\\.\\S+', '', text)\n",
    "    text = re.sub('<.*?>+', '', text)\n",
    "    text=re.sub('[^a-zA-Z\\s\\d]','', text)\n",
    "    text = re.sub('\\n', '', text)\n",
    "    text = re.sub('<p><strong>', '', text)\n",
    "    text = re.sub('<break>', '', text)\n",
    "  \n",
    "   \n",
    "    return text\n",
    "def clean_bullets(text):\n",
    "    text = str(text).lower()\n",
    "    text=re.sub('[^a-zA-Z\\s\\d]','', text)\n",
    "    return text\n",
    " \n",
    "train_new=train_new.apply(clean)\n",
    "train_new=train_new.apply(clean_bullets)\n",
    "#train_new[\"TITLE\"]=train_new[\"TITLE\"].apply(clean)\n",
    "#train_new[\"BULLET_POINTS\"]=train_new[\"BULLET_POINTS\"].apply(clean_bullets)\n",
    "#train_new[\"DESCRIPTION\"]=train_new[\"DESCRIPTION\"].apply(clean)"
   ]
  },
  {
   "cell_type": "code",
   "execution_count": null,
   "metadata": {
    "id": "aAm_BPagGZIU"
   },
   "outputs": [],
   "source": []
  },
  {
   "cell_type": "code",
   "execution_count": null,
   "metadata": {
    "id": "mg2925lQGp1Z"
   },
   "outputs": [],
   "source": []
  },
  {
   "cell_type": "code",
   "execution_count": 11,
   "metadata": {
    "id": "f7OGDU8JXZqM"
   },
   "outputs": [
    {
     "data": {
      "text/plain": [
       "2    priknik horn red electric air horn compressor ...\n",
       "3    alishah womens cotton ankle length leggings co...\n",
       "5    hins metal bucket shape plant pot for indoor  ...\n",
       "7    delavala self adhesive kitchen backsplash wall...\n",
       "9    hexwell essential oil for home fragrance oil a...\n",
       "dtype: object"
      ]
     },
     "execution_count": 11,
     "metadata": {},
     "output_type": "execute_result"
    }
   ],
   "source": [
    "train_new.head()"
   ]
  },
  {
   "cell_type": "code",
   "execution_count": null,
   "metadata": {
    "id": "8MMBhdvEo94z"
   },
   "outputs": [],
   "source": []
  },
  {
   "cell_type": "code",
   "execution_count": 12,
   "metadata": {
    "id": "rsl97WXkgDZS"
   },
   "outputs": [],
   "source": [
    "import gensim"
   ]
  },
  {
   "cell_type": "code",
   "execution_count": 13,
   "metadata": {
    "id": "pyR_Y_oyXH4K"
   },
   "outputs": [],
   "source": [
    "train_new=train_new.apply(gensim.utils.simple_preprocess)"
   ]
  },
  {
   "cell_type": "code",
   "execution_count": 14,
   "metadata": {
    "id": "caMXaqkQUD5a"
   },
   "outputs": [],
   "source": [
    "#train_new.TITLE=train_new.TITLE.apply(gensim.utils.simple_preprocess)\n",
    "#train_new.BULLET_POINTS=train_new.BULLET_POINTS.apply(gensim.utils.simple_preprocess)\n",
    "#train_new.DESCRIPTION=train_new.DESCRIPTION.apply(gensim.utils.simple_preprocess)"
   ]
  },
  {
   "cell_type": "code",
   "execution_count": 15,
   "metadata": {
    "id": "d3yaL8iEXcmF"
   },
   "outputs": [
    {
     "data": {
      "text/plain": [
       "2        [priknik, horn, red, electric, air, horn, comp...\n",
       "3        [alishah, womens, cotton, ankle, length, leggi...\n",
       "5        [hins, metal, bucket, shape, plant, pot, for, ...\n",
       "7        [delavala, self, adhesive, kitchen, backsplash...\n",
       "9        [hexwell, essential, oil, for, home, fragrance...\n",
       "                               ...                        \n",
       "10882    [ga, brass, puja, booty, brass, flowerfruits, ...\n",
       "10885    [ryb, home, blackout, tier, curtains, for, kit...\n",
       "10888    [columbia, women, wayfinder, outdry, hiking, s...\n",
       "10891    [journee, collection, womens, round, toe, high...\n",
       "10892    [guance, black, front, bumper, lip, stickon, c...\n",
       "Length: 5000, dtype: object"
      ]
     },
     "execution_count": 15,
     "metadata": {},
     "output_type": "execute_result"
    }
   ],
   "source": [
    "train_new"
   ]
  },
  {
   "cell_type": "code",
   "execution_count": 16,
   "metadata": {
    "id": "MzvcWCnWX78u"
   },
   "outputs": [],
   "source": [
    "#def listostr(lis):\n",
    "#    st=\" \"\n",
    "#    st.join(lis)\n",
    "#    return st\n",
    "#train_new=train_new.apply(listostr)"
   ]
  },
  {
   "cell_type": "code",
   "execution_count": 17,
   "metadata": {},
   "outputs": [
    {
     "data": {
      "text/plain": [
       "2        [priknik, horn, red, electric, air, horn, comp...\n",
       "3        [alishah, womens, cotton, ankle, length, leggi...\n",
       "5        [hins, metal, bucket, shape, plant, pot, for, ...\n",
       "7        [delavala, self, adhesive, kitchen, backsplash...\n",
       "9        [hexwell, essential, oil, for, home, fragrance...\n",
       "                               ...                        \n",
       "10882    [ga, brass, puja, booty, brass, flowerfruits, ...\n",
       "10885    [ryb, home, blackout, tier, curtains, for, kit...\n",
       "10888    [columbia, women, wayfinder, outdry, hiking, s...\n",
       "10891    [journee, collection, womens, round, toe, high...\n",
       "10892    [guance, black, front, bumper, lip, stickon, c...\n",
       "Length: 5000, dtype: object"
      ]
     },
     "execution_count": 17,
     "metadata": {},
     "output_type": "execute_result"
    }
   ],
   "source": [
    "train_new"
   ]
  },
  {
   "cell_type": "code",
   "execution_count": 18,
   "metadata": {
    "id": "nucgiy22fgHs"
   },
   "outputs": [
    {
     "name": "stdout",
     "output_type": "stream",
     "text": [
      "<class 'pandas.core.series.Series'>\n",
      "Int64Index: 5000 entries, 2 to 10892\n",
      "Series name: None\n",
      "Non-Null Count  Dtype \n",
      "--------------  ----- \n",
      "5000 non-null   object\n",
      "dtypes: object(1)\n",
      "memory usage: 78.1+ KB\n"
     ]
    }
   ],
   "source": [
    "train_new.info()"
   ]
  },
  {
   "cell_type": "code",
   "execution_count": null,
   "metadata": {
    "id": "ybfkiLw2OOPK"
   },
   "outputs": [],
   "source": []
  },
  {
   "cell_type": "code",
   "execution_count": 19,
   "metadata": {
    "id": "5cxXZ0YJuPFv"
   },
   "outputs": [
    {
     "ename": "AttributeError",
     "evalue": "'Series' object has no attribute 'PRODUCT_LENGTH'",
     "output_type": "error",
     "traceback": [
      "\u001b[0;31m---------------------------------------------------------------------------\u001b[0m",
      "\u001b[0;31mAttributeError\u001b[0m                            Traceback (most recent call last)",
      "Cell \u001b[0;32mIn [19], line 1\u001b[0m\n\u001b[0;32m----> 1\u001b[0m train_y\u001b[38;5;241m=\u001b[39m\u001b[43mtrain_new\u001b[49m\u001b[38;5;241;43m.\u001b[39;49m\u001b[43mPRODUCT_LENGTH\u001b[49m\n\u001b[1;32m      2\u001b[0m train_x\u001b[38;5;241m=\u001b[39mtrain_new\u001b[38;5;241m.\u001b[39mdrop(\u001b[38;5;124m\"\u001b[39m\u001b[38;5;124mPRODUCT_LENGTH\u001b[39m\u001b[38;5;124m\"\u001b[39m, axis\u001b[38;5;241m=\u001b[39m\u001b[38;5;241m1\u001b[39m)\n\u001b[1;32m      3\u001b[0m \u001b[38;5;66;03m# train_y.shape\u001b[39;00m\n",
      "File \u001b[0;32m~/.local/lib/python3.10/site-packages/pandas/core/generic.py:5902\u001b[0m, in \u001b[0;36mNDFrame.__getattr__\u001b[0;34m(self, name)\u001b[0m\n\u001b[1;32m   5895\u001b[0m \u001b[38;5;28;01mif\u001b[39;00m (\n\u001b[1;32m   5896\u001b[0m     name \u001b[38;5;129;01mnot\u001b[39;00m \u001b[38;5;129;01min\u001b[39;00m \u001b[38;5;28mself\u001b[39m\u001b[38;5;241m.\u001b[39m_internal_names_set\n\u001b[1;32m   5897\u001b[0m     \u001b[38;5;129;01mand\u001b[39;00m name \u001b[38;5;129;01mnot\u001b[39;00m \u001b[38;5;129;01min\u001b[39;00m \u001b[38;5;28mself\u001b[39m\u001b[38;5;241m.\u001b[39m_metadata\n\u001b[1;32m   5898\u001b[0m     \u001b[38;5;129;01mand\u001b[39;00m name \u001b[38;5;129;01mnot\u001b[39;00m \u001b[38;5;129;01min\u001b[39;00m \u001b[38;5;28mself\u001b[39m\u001b[38;5;241m.\u001b[39m_accessors\n\u001b[1;32m   5899\u001b[0m     \u001b[38;5;129;01mand\u001b[39;00m \u001b[38;5;28mself\u001b[39m\u001b[38;5;241m.\u001b[39m_info_axis\u001b[38;5;241m.\u001b[39m_can_hold_identifiers_and_holds_name(name)\n\u001b[1;32m   5900\u001b[0m ):\n\u001b[1;32m   5901\u001b[0m     \u001b[38;5;28;01mreturn\u001b[39;00m \u001b[38;5;28mself\u001b[39m[name]\n\u001b[0;32m-> 5902\u001b[0m \u001b[38;5;28;01mreturn\u001b[39;00m \u001b[38;5;28;43mobject\u001b[39;49m\u001b[38;5;241;43m.\u001b[39;49m\u001b[38;5;21;43m__getattribute__\u001b[39;49m\u001b[43m(\u001b[49m\u001b[38;5;28;43mself\u001b[39;49m\u001b[43m,\u001b[49m\u001b[43m \u001b[49m\u001b[43mname\u001b[49m\u001b[43m)\u001b[49m\n",
      "\u001b[0;31mAttributeError\u001b[0m: 'Series' object has no attribute 'PRODUCT_LENGTH'"
     ]
    }
   ],
   "source": [
    "train_y=train_new.PRODUCT_LENGTH\n",
    "train_x=train_new.drop(\"PRODUCT_LENGTH\", axis=1)\n",
    "# train_y.shape\n",
    "train_x2=train_x.drop(\"PRODUCT_ID\", axis=1)"
   ]
  },
  {
   "cell_type": "code",
   "execution_count": null,
   "metadata": {
    "scrolled": true
   },
   "outputs": [],
   "source": []
  },
  {
   "cell_type": "code",
   "execution_count": null,
   "metadata": {},
   "outputs": [],
   "source": []
  },
  {
   "cell_type": "code",
   "execution_count": null,
   "metadata": {},
   "outputs": [],
   "source": []
  },
  {
   "cell_type": "code",
   "execution_count": null,
   "metadata": {
    "id": "Jo6JvKMVtJgX"
   },
   "outputs": [],
   "source": [
    "from sklearn.feature_extraction.text import TfidfVectorizer\n",
    "vectorizer=TfidfVectorizer(max_df=0.7)\n",
    "final_train_x=vectorizer.fit_transform(train_x_obj)\n",
    "#final_train_x.PRODUCT_ID=train_x.PRODUCT_ID\n",
    "#final_train_y=vectorizer.fit_transform(train_y)\n",
    "final_train_x.shape"
   ]
  },
  {
   "cell_type": "code",
   "execution_count": null,
   "metadata": {},
   "outputs": [],
   "source": [
    "print(final_train_x)"
   ]
  },
  {
   "cell_type": "code",
   "execution_count": null,
   "metadata": {
    "colab": {
     "background_save": true
    },
    "id": "dGMMLwfptfTP",
    "outputId": "cb155e71-4c09-464f-d121-2c793ddf6ecf"
   },
   "outputs": [],
   "source": [
    "# Training models\n",
    "#from sklearn.linear_model import LinearRegression\n",
    "#model=LinearRegression()\n",
    "#model.fit(final_train_x, train_y)"
   ]
  },
  {
   "cell_type": "code",
   "execution_count": null,
   "metadata": {
    "id": "yt_uhnLsuYWX"
   },
   "outputs": [],
   "source": [
    "#Logistic Regression\n",
    "from sklearn.linear_model import LogisticRegression\n",
    "model1=LogisticRegression(max_iter=900)\n",
    "model1.fit(train_x_obj,train_y)"
   ]
  },
  {
   "cell_type": "code",
   "execution_count": null,
   "metadata": {},
   "outputs": [],
   "source": []
  }
 ],
 "metadata": {
  "colab": {
   "provenance": []
  },
  "kernelspec": {
   "display_name": "Python 3 (ipykernel)",
   "language": "python",
   "name": "python3"
  },
  "language_info": {
   "codemirror_mode": {
    "name": "ipython",
    "version": 3
   },
   "file_extension": ".py",
   "mimetype": "text/x-python",
   "name": "python",
   "nbconvert_exporter": "python",
   "pygments_lexer": "ipython3",
   "version": "3.10.6"
  }
 },
 "nbformat": 4,
 "nbformat_minor": 1
}
